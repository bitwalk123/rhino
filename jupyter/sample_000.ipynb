{
 "cells": [
  {
   "cell_type": "code",
   "execution_count": 3,
   "id": "4b5f70b3-6fbf-486b-988c-3d2b07593552",
   "metadata": {},
   "outputs": [],
   "source": [
    "import sys\n",
    "\n",
    "path_up = \"..\"\n",
    "if not path_up in sys.path:\n",
    "    sys.path.append(path_up)"
   ]
  },
  {
   "cell_type": "code",
   "execution_count": 9,
   "id": "e07c458a-a7ed-48bf-bf96-df25f1768001",
   "metadata": {},
   "outputs": [],
   "source": [
    "from structs.app_enum import ActionType"
   ]
  },
  {
   "cell_type": "code",
   "execution_count": 10,
   "id": "3b7efd68-ac81-4632-87de-bd4b273a642b",
   "metadata": {},
   "outputs": [
    {
     "data": {
      "text/plain": [
       "0"
      ]
     },
     "execution_count": 10,
     "metadata": {},
     "output_type": "execute_result"
    }
   ],
   "source": [
    "ActionType.HOLD.value"
   ]
  },
  {
   "cell_type": "code",
   "execution_count": 1,
   "id": "5e306832-b2fa-4c77-9434-f8ef8536ec0c",
   "metadata": {},
   "outputs": [
    {
     "name": "stderr",
     "output_type": "stream",
     "text": [
      "/tmp/ipykernel_10573/3390615159.py:4: RuntimeWarning: invalid value encountered in log\n",
      "  np.log(v)\n"
     ]
    },
    {
     "data": {
      "text/plain": [
       "np.float64(nan)"
      ]
     },
     "execution_count": 1,
     "metadata": {},
     "output_type": "execute_result"
    }
   ],
   "source": [
    "import numpy as np\n",
    "\n",
    "v = -1\n",
    "np.log(v)"
   ]
  },
  {
   "cell_type": "code",
   "execution_count": 3,
   "id": "cf334d40-9def-4f8b-b5a6-c19bbb272427",
   "metadata": {},
   "outputs": [
    {
     "name": "stdout",
     "output_type": "stream",
     "text": [
      "警告が例外としてキャッチされました: invalid value encountered in log\n"
     ]
    }
   ],
   "source": [
    "import warnings\n",
    "\n",
    "import numpy as np\n",
    "\n",
    "# NumPyの警告を例外として扱う設定\n",
    "warnings.filterwarnings(\"error\")\n",
    "\n",
    "try:\n",
    "    v = -1\n",
    "    result = np.log(v)\n",
    "except Warning as e:\n",
    "    print(f\"警告が例外としてキャッチされました: {e}\")"
   ]
  },
  {
   "cell_type": "code",
   "execution_count": null,
   "id": "b39ebe88-348a-40bf-b3fe-967dd9ac5fff",
   "metadata": {},
   "outputs": [],
   "source": []
  }
 ],
 "metadata": {
  "kernelspec": {
   "display_name": "Python 3 (ipykernel)",
   "language": "python",
   "name": "python3"
  },
  "language_info": {
   "codemirror_mode": {
    "name": "ipython",
    "version": 3
   },
   "file_extension": ".py",
   "mimetype": "text/x-python",
   "name": "python",
   "nbconvert_exporter": "python",
   "pygments_lexer": "ipython3",
   "version": "3.13.7"
  }
 },
 "nbformat": 4,
 "nbformat_minor": 5
}
