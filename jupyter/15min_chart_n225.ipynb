{
 "cells": [
  {
   "cell_type": "markdown",
   "id": "07ceea52-6536-47e0-81aa-30c017b5bfc5",
   "metadata": {},
   "source": [
    "# 日経平均株価 15分足"
   ]
  },
  {
   "cell_type": "markdown",
   "id": "8a363236-5477-4a61-99da-bf92362631f4",
   "metadata": {},
   "source": [
    "### 一つ上のディレクトリをパスに追加"
   ]
  },
  {
   "cell_type": "code",
   "execution_count": 1,
   "id": "f1f6d8b7-4107-4a29-ae60-f3cbfa1f5a38",
   "metadata": {},
   "outputs": [],
   "source": [
    "import sys\n",
    "\n",
    "path_up = \"..\"\n",
    "if not path_up in sys.path:\n",
    "    sys.path.append(path_up)"
   ]
  },
  {
   "cell_type": "markdown",
   "id": "19d64844-3cbf-4a92-827e-43c425e34eb6",
   "metadata": {},
   "source": [
    "### ライブラリをここで一括インポート"
   ]
  },
  {
   "cell_type": "code",
   "execution_count": 2,
   "id": "3421a3f8-52ac-41e8-8e08-921ddaa4b37a",
   "metadata": {},
   "outputs": [],
   "source": [
    "import datetime\n",
    "\n",
    "import matplotlib.font_manager as fm\n",
    "import matplotlib.pyplot as plt\n",
    "import matplotlib.ticker as ticker\n",
    "import mplfinance as mpf\n",
    "import numpy as np\n",
    "import pandas as pd\n",
    "import yfinance as yf\n",
    "\n",
    "from funcs.commons import (\n",
    "    get_name_15min_chart,\n",
    "    get_name_15min_chart_now,\n",
    "    get_name_15min_chart_usd,\n",
    ")"
   ]
  },
  {
   "cell_type": "markdown",
   "id": "8efa7b4f-c5a5-45df-bcbc-c689517b5fb2",
   "metadata": {},
   "source": [
    "## yfinance による株価データの取得"
   ]
  },
  {
   "cell_type": "code",
   "execution_count": 3,
   "id": "513d138a-5223-48b6-868d-a4e49a86c6b6",
   "metadata": {},
   "outputs": [
    {
     "data": {
      "text/html": [
       "<div>\n",
       "<style scoped>\n",
       "    .dataframe tbody tr th:only-of-type {\n",
       "        vertical-align: middle;\n",
       "    }\n",
       "\n",
       "    .dataframe tbody tr th {\n",
       "        vertical-align: top;\n",
       "    }\n",
       "\n",
       "    .dataframe thead th {\n",
       "        text-align: right;\n",
       "    }\n",
       "</style>\n",
       "<table border=\"1\" class=\"dataframe\">\n",
       "  <thead>\n",
       "    <tr style=\"text-align: right;\">\n",
       "      <th></th>\n",
       "      <th>Open</th>\n",
       "      <th>High</th>\n",
       "      <th>Low</th>\n",
       "      <th>Close</th>\n",
       "      <th>Volume</th>\n",
       "      <th>Dividends</th>\n",
       "      <th>Stock Splits</th>\n",
       "    </tr>\n",
       "    <tr>\n",
       "      <th>Datetime</th>\n",
       "      <th></th>\n",
       "      <th></th>\n",
       "      <th></th>\n",
       "      <th></th>\n",
       "      <th></th>\n",
       "      <th></th>\n",
       "      <th></th>\n",
       "    </tr>\n",
       "  </thead>\n",
       "  <tbody>\n",
       "    <tr>\n",
       "      <th>2025-10-30 09:00:00+09:00</th>\n",
       "      <td>51146.269531</td>\n",
       "      <td>51335.429688</td>\n",
       "      <td>51076.378906</td>\n",
       "      <td>51312.699219</td>\n",
       "      <td>0</td>\n",
       "      <td>0.0</td>\n",
       "      <td>0.0</td>\n",
       "    </tr>\n",
       "    <tr>\n",
       "      <th>2025-10-30 09:15:00+09:00</th>\n",
       "      <td>51337.289062</td>\n",
       "      <td>51423.531250</td>\n",
       "      <td>51245.359375</td>\n",
       "      <td>51388.511719</td>\n",
       "      <td>0</td>\n",
       "      <td>0.0</td>\n",
       "      <td>0.0</td>\n",
       "    </tr>\n",
       "    <tr>\n",
       "      <th>2025-10-30 09:30:00+09:00</th>\n",
       "      <td>51398.460938</td>\n",
       "      <td>51547.929688</td>\n",
       "      <td>51252.679688</td>\n",
       "      <td>51268.000000</td>\n",
       "      <td>0</td>\n",
       "      <td>0.0</td>\n",
       "      <td>0.0</td>\n",
       "    </tr>\n",
       "    <tr>\n",
       "      <th>2025-10-30 09:45:00+09:00</th>\n",
       "      <td>51265.300781</td>\n",
       "      <td>51339.351562</td>\n",
       "      <td>51120.031250</td>\n",
       "      <td>51223.589844</td>\n",
       "      <td>0</td>\n",
       "      <td>0.0</td>\n",
       "      <td>0.0</td>\n",
       "    </tr>\n",
       "    <tr>\n",
       "      <th>2025-10-30 10:00:00+09:00</th>\n",
       "      <td>51213.390625</td>\n",
       "      <td>51328.699219</td>\n",
       "      <td>51042.800781</td>\n",
       "      <td>51201.878906</td>\n",
       "      <td>0</td>\n",
       "      <td>0.0</td>\n",
       "      <td>0.0</td>\n",
       "    </tr>\n",
       "    <tr>\n",
       "      <th>2025-10-30 10:15:00+09:00</th>\n",
       "      <td>51212.171875</td>\n",
       "      <td>51219.539062</td>\n",
       "      <td>51077.640625</td>\n",
       "      <td>51119.339844</td>\n",
       "      <td>0</td>\n",
       "      <td>0.0</td>\n",
       "      <td>0.0</td>\n",
       "    </tr>\n",
       "    <tr>\n",
       "      <th>2025-10-30 10:30:00+09:00</th>\n",
       "      <td>51117.878906</td>\n",
       "      <td>51308.359375</td>\n",
       "      <td>51027.218750</td>\n",
       "      <td>51284.699219</td>\n",
       "      <td>0</td>\n",
       "      <td>0.0</td>\n",
       "      <td>0.0</td>\n",
       "    </tr>\n",
       "    <tr>\n",
       "      <th>2025-10-30 10:45:00+09:00</th>\n",
       "      <td>51285.359375</td>\n",
       "      <td>51315.921875</td>\n",
       "      <td>51232.890625</td>\n",
       "      <td>51273.308594</td>\n",
       "      <td>0</td>\n",
       "      <td>0.0</td>\n",
       "      <td>0.0</td>\n",
       "    </tr>\n",
       "    <tr>\n",
       "      <th>2025-10-30 11:00:00+09:00</th>\n",
       "      <td>51270.390625</td>\n",
       "      <td>51326.488281</td>\n",
       "      <td>51255.738281</td>\n",
       "      <td>51269.531250</td>\n",
       "      <td>0</td>\n",
       "      <td>0.0</td>\n",
       "      <td>0.0</td>\n",
       "    </tr>\n",
       "  </tbody>\n",
       "</table>\n",
       "</div>"
      ],
      "text/plain": [
       "                                   Open          High           Low  \\\n",
       "Datetime                                                              \n",
       "2025-10-30 09:00:00+09:00  51146.269531  51335.429688  51076.378906   \n",
       "2025-10-30 09:15:00+09:00  51337.289062  51423.531250  51245.359375   \n",
       "2025-10-30 09:30:00+09:00  51398.460938  51547.929688  51252.679688   \n",
       "2025-10-30 09:45:00+09:00  51265.300781  51339.351562  51120.031250   \n",
       "2025-10-30 10:00:00+09:00  51213.390625  51328.699219  51042.800781   \n",
       "2025-10-30 10:15:00+09:00  51212.171875  51219.539062  51077.640625   \n",
       "2025-10-30 10:30:00+09:00  51117.878906  51308.359375  51027.218750   \n",
       "2025-10-30 10:45:00+09:00  51285.359375  51315.921875  51232.890625   \n",
       "2025-10-30 11:00:00+09:00  51270.390625  51326.488281  51255.738281   \n",
       "\n",
       "                                  Close  Volume  Dividends  Stock Splits  \n",
       "Datetime                                                                  \n",
       "2025-10-30 09:00:00+09:00  51312.699219       0        0.0           0.0  \n",
       "2025-10-30 09:15:00+09:00  51388.511719       0        0.0           0.0  \n",
       "2025-10-30 09:30:00+09:00  51268.000000       0        0.0           0.0  \n",
       "2025-10-30 09:45:00+09:00  51223.589844       0        0.0           0.0  \n",
       "2025-10-30 10:00:00+09:00  51201.878906       0        0.0           0.0  \n",
       "2025-10-30 10:15:00+09:00  51119.339844       0        0.0           0.0  \n",
       "2025-10-30 10:30:00+09:00  51284.699219       0        0.0           0.0  \n",
       "2025-10-30 10:45:00+09:00  51273.308594       0        0.0           0.0  \n",
       "2025-10-30 11:00:00+09:00  51269.531250       0        0.0           0.0  "
      ]
     },
     "execution_count": 3,
     "metadata": {},
     "output_type": "execute_result"
    }
   ],
   "source": [
    "code = \"N225\"\n",
    "symbol = f\"^{code}\"\n",
    "ticker1 = yf.Ticker(symbol)\n",
    "df = ticker1.history(period=\"1d\", interval=\"15m\")\n",
    "df"
   ]
  },
  {
   "cell_type": "markdown",
   "id": "2b974883-632b-43cf-8f1b-9f3e4cededdd",
   "metadata": {},
   "source": [
    "## 前日終値の取得"
   ]
  },
  {
   "cell_type": "code",
   "execution_count": 4,
   "id": "cf79a23f-ac87-47e6-bd34-0746a65c86f9",
   "metadata": {},
   "outputs": [
    {
     "name": "stdout",
     "output_type": "stream",
     "text": [
      "Date\n",
      "2025-10-23 00:00:00+09:00    48641.609375\n",
      "2025-10-24 00:00:00+09:00    49299.648438\n",
      "2025-10-27 00:00:00+09:00    50512.320312\n",
      "2025-10-28 00:00:00+09:00    50219.179688\n",
      "2025-10-29 00:00:00+09:00    51307.648438\n",
      "2025-10-30 00:00:00+09:00    51269.531250\n",
      "Name: Close, dtype: float64\n"
     ]
    },
    {
     "data": {
      "text/plain": [
       "Date\n",
       "2025-10-29 00:00:00+09:00    51307.648438\n",
       "Name: Close, dtype: float64"
      ]
     },
     "execution_count": 4,
     "metadata": {},
     "output_type": "execute_result"
    }
   ],
   "source": [
    "# 過去一週間のデータを取得\n",
    "td = datetime.timedelta(days=7)\n",
    "dt_first = df.index[0]\n",
    "dt_prev = dt_first - td\n",
    "df_last = ticker1.history(interval=\"1d\", start=str(dt_prev.date()))\n",
    "print(df_last[\"Close\"])\n",
    "n = len(df_last)\n",
    "lastclose = df_last[n - 2 : n - 1][\"Close\"].iloc[0]\n",
    "# lastclose = 44902.27 # 9/16 終値\n",
    "# 確認のため出力\n",
    "df_last[n - 2 : n - 1][\"Close\"]"
   ]
  },
  {
   "cell_type": "markdown",
   "id": "e41961ad-e3e5-4055-a368-6295b0c73219",
   "metadata": {},
   "source": [
    "### 当日始値 - 前日終値"
   ]
  },
  {
   "cell_type": "code",
   "execution_count": 5,
   "id": "0acbf95b-3e5c-4df6-a7dc-c3e4f82578af",
   "metadata": {},
   "outputs": [
    {
     "name": "stdout",
     "output_type": "stream",
     "text": [
      "-161.38\n"
     ]
    }
   ],
   "source": [
    "delta_open = df.head(1)[\"Open\"].iloc[0] - lastclose\n",
    "print(f\"{delta_open:+.2f}\")"
   ]
  },
  {
   "cell_type": "markdown",
   "id": "432d492c-6e58-46b6-8004-044d4419c02c",
   "metadata": {},
   "source": [
    "## ローソク足チャート（小さいサイズ）"
   ]
  },
  {
   "cell_type": "code",
   "execution_count": 6,
   "id": "f4d0b7d0-b14a-4bfd-949a-c03ee4a578a0",
   "metadata": {},
   "outputs": [
    {
     "data": {
      "image/png": "[encoded data removed]",
      "text/plain": [
       "<Figure size 300x180 with 1 Axes>"
      ]
     },
     "metadata": {},
     "output_type": "display_data"
    }
   ],
   "source": [
    "FONT_PATH = \"../fonts/RictyDiminished-Regular.ttf\"\n",
    "fm.fontManager.addfont(FONT_PATH)\n",
    "\n",
    "# FontPropertiesオブジェクト生成（名前の取得のため）\n",
    "font_prop = fm.FontProperties(fname=FONT_PATH)\n",
    "font_prop.get_name()\n",
    "\n",
    "plt.rcParams[\"font.family\"] = font_prop.get_name()\n",
    "plt.rcParams[\"font.size\"] = 8\n",
    "\n",
    "fig, ax = plt.subplots(figsize=(3, 1.8))\n",
    "\n",
    "ax.axhline(y=lastclose, color=\"red\", linewidth=0.75)\n",
    "mpf.plot(\n",
    "    df,\n",
    "    type=\"candle\",\n",
    "    style=\"default\",\n",
    "    datetime_format=\"%H:%M\",\n",
    "    xrotation=0,\n",
    "    update_width_config=dict(candle_linewidth=0.75),\n",
    "    ax=ax,\n",
    ")\n",
    "ax.yaxis.set_major_formatter(ticker.StrMethodFormatter('{x:,.0f}'))\n",
    "ax.set_ylabel(\"JPY\")\n",
    "ax.grid()\n",
    "\n",
    "if \"shortName\" in ticker1.info:\n",
    "    ax.set_title(f\"{ticker1.info['shortName']} ({symbol})\")\n",
    "elif \"longName\" in ticker1.info:\n",
    "    ax.set_title(f\"{ticker1.info['longName']} ({symbol})\")\n",
    "else:\n",
    "    ax.set_title(f\"{symbol}\")\n",
    "\n",
    "plt.tight_layout()\n",
    "plt.savefig(get_name_15min_chart(code, dt_first))\n",
    "plt.show()"
   ]
  },
  {
   "cell_type": "markdown",
   "id": "975de5bc-90ff-4c41-898a-0aa329c7576a",
   "metadata": {},
   "source": [
    "## ドル円レートで換算"
   ]
  },
  {
   "cell_type": "code",
   "execution_count": 7,
   "id": "f18e1ab8-e1be-4684-a805-0584f61e0488",
   "metadata": {},
   "outputs": [],
   "source": [
    "code2 = \"USDJPY=X\"\n",
    "symbol2 = code2\n",
    "ticker2 = yf.Ticker(symbol2)"
   ]
  },
  {
   "cell_type": "markdown",
   "id": "3d3c79b6-f705-4109-9b86-21f6c073df78",
   "metadata": {},
   "source": [
    "### 過去２日分のドル円レートの過去データを取得"
   ]
  },
  {
   "cell_type": "code",
   "execution_count": 8,
   "id": "da50dc67-a62c-4db4-9e26-71abcd1ab12d",
   "metadata": {},
   "outputs": [
    {
     "data": {
      "text/html": [
       "<div>\n",
       "<style scoped>\n",
       "    .dataframe tbody tr th:only-of-type {\n",
       "        vertical-align: middle;\n",
       "    }\n",
       "\n",
       "    .dataframe tbody tr th {\n",
       "        vertical-align: top;\n",
       "    }\n",
       "\n",
       "    .dataframe thead th {\n",
       "        text-align: right;\n",
       "    }\n",
       "</style>\n",
       "<table border=\"1\" class=\"dataframe\">\n",
       "  <thead>\n",
       "    <tr style=\"text-align: right;\">\n",
       "      <th></th>\n",
       "      <th>Open</th>\n",
       "      <th>High</th>\n",
       "      <th>Low</th>\n",
       "      <th>Close</th>\n",
       "      <th>Volume</th>\n",
       "      <th>Dividends</th>\n",
       "      <th>Stock Splits</th>\n",
       "    </tr>\n",
       "    <tr>\n",
       "      <th>Datetime</th>\n",
       "      <th></th>\n",
       "      <th></th>\n",
       "      <th></th>\n",
       "      <th></th>\n",
       "      <th></th>\n",
       "      <th></th>\n",
       "      <th></th>\n",
       "    </tr>\n",
       "  </thead>\n",
       "  <tbody>\n",
       "    <tr>\n",
       "      <th>2025-10-29 09:00:00+09:00</th>\n",
       "      <td>151.735992</td>\n",
       "      <td>151.763000</td>\n",
       "      <td>151.529999</td>\n",
       "      <td>151.727997</td>\n",
       "      <td>0</td>\n",
       "      <td>0.0</td>\n",
       "      <td>0.0</td>\n",
       "    </tr>\n",
       "    <tr>\n",
       "      <th>2025-10-29 09:15:00+09:00</th>\n",
       "      <td>151.727005</td>\n",
       "      <td>151.860992</td>\n",
       "      <td>151.712997</td>\n",
       "      <td>151.819000</td>\n",
       "      <td>0</td>\n",
       "      <td>0.0</td>\n",
       "      <td>0.0</td>\n",
       "    </tr>\n",
       "    <tr>\n",
       "      <th>2025-10-29 09:30:00+09:00</th>\n",
       "      <td>151.817001</td>\n",
       "      <td>151.888000</td>\n",
       "      <td>151.744003</td>\n",
       "      <td>151.806000</td>\n",
       "      <td>0</td>\n",
       "      <td>0.0</td>\n",
       "      <td>0.0</td>\n",
       "    </tr>\n",
       "    <tr>\n",
       "      <th>2025-10-29 09:45:00+09:00</th>\n",
       "      <td>151.806000</td>\n",
       "      <td>151.809006</td>\n",
       "      <td>151.542999</td>\n",
       "      <td>151.634003</td>\n",
       "      <td>0</td>\n",
       "      <td>0.0</td>\n",
       "      <td>0.0</td>\n",
       "    </tr>\n",
       "    <tr>\n",
       "      <th>2025-10-29 10:00:00+09:00</th>\n",
       "      <td>151.626999</td>\n",
       "      <td>151.723007</td>\n",
       "      <td>151.542007</td>\n",
       "      <td>151.666000</td>\n",
       "      <td>0</td>\n",
       "      <td>0.0</td>\n",
       "      <td>0.0</td>\n",
       "    </tr>\n",
       "    <tr>\n",
       "      <th>...</th>\n",
       "      <td>...</td>\n",
       "      <td>...</td>\n",
       "      <td>...</td>\n",
       "      <td>...</td>\n",
       "      <td>...</td>\n",
       "      <td>...</td>\n",
       "      <td>...</td>\n",
       "    </tr>\n",
       "    <tr>\n",
       "      <th>2025-10-30 10:15:00+09:00</th>\n",
       "      <td>152.578003</td>\n",
       "      <td>152.662003</td>\n",
       "      <td>152.546005</td>\n",
       "      <td>152.593002</td>\n",
       "      <td>0</td>\n",
       "      <td>0.0</td>\n",
       "      <td>0.0</td>\n",
       "    </tr>\n",
       "    <tr>\n",
       "      <th>2025-10-30 10:30:00+09:00</th>\n",
       "      <td>152.589005</td>\n",
       "      <td>152.597000</td>\n",
       "      <td>152.445999</td>\n",
       "      <td>152.492004</td>\n",
       "      <td>0</td>\n",
       "      <td>0.0</td>\n",
       "      <td>0.0</td>\n",
       "    </tr>\n",
       "    <tr>\n",
       "      <th>2025-10-30 10:45:00+09:00</th>\n",
       "      <td>152.488007</td>\n",
       "      <td>152.546997</td>\n",
       "      <td>152.451996</td>\n",
       "      <td>152.537994</td>\n",
       "      <td>0</td>\n",
       "      <td>0.0</td>\n",
       "      <td>0.0</td>\n",
       "    </tr>\n",
       "    <tr>\n",
       "      <th>2025-10-30 11:00:00+09:00</th>\n",
       "      <td>152.541000</td>\n",
       "      <td>152.561005</td>\n",
       "      <td>152.384995</td>\n",
       "      <td>152.397995</td>\n",
       "      <td>0</td>\n",
       "      <td>0.0</td>\n",
       "      <td>0.0</td>\n",
       "    </tr>\n",
       "    <tr>\n",
       "      <th>2025-10-30 11:15:00+09:00</th>\n",
       "      <td>152.393997</td>\n",
       "      <td>152.460999</td>\n",
       "      <td>152.384995</td>\n",
       "      <td>152.455994</td>\n",
       "      <td>0</td>\n",
       "      <td>0.0</td>\n",
       "      <td>0.0</td>\n",
       "    </tr>\n",
       "  </tbody>\n",
       "</table>\n",
       "<p>106 rows × 7 columns</p>\n",
       "</div>"
      ],
      "text/plain": [
       "                                 Open        High         Low       Close  \\\n",
       "Datetime                                                                    \n",
       "2025-10-29 09:00:00+09:00  151.735992  151.763000  151.529999  151.727997   \n",
       "2025-10-29 09:15:00+09:00  151.727005  151.860992  151.712997  151.819000   \n",
       "2025-10-29 09:30:00+09:00  151.817001  151.888000  151.744003  151.806000   \n",
       "2025-10-29 09:45:00+09:00  151.806000  151.809006  151.542999  151.634003   \n",
       "2025-10-29 10:00:00+09:00  151.626999  151.723007  151.542007  151.666000   \n",
       "...                               ...         ...         ...         ...   \n",
       "2025-10-30 10:15:00+09:00  152.578003  152.662003  152.546005  152.593002   \n",
       "2025-10-30 10:30:00+09:00  152.589005  152.597000  152.445999  152.492004   \n",
       "2025-10-30 10:45:00+09:00  152.488007  152.546997  152.451996  152.537994   \n",
       "2025-10-30 11:00:00+09:00  152.541000  152.561005  152.384995  152.397995   \n",
       "2025-10-30 11:15:00+09:00  152.393997  152.460999  152.384995  152.455994   \n",
       "\n",
       "                           Volume  Dividends  Stock Splits  \n",
       "Datetime                                                    \n",
       "2025-10-29 09:00:00+09:00       0        0.0           0.0  \n",
       "2025-10-29 09:15:00+09:00       0        0.0           0.0  \n",
       "2025-10-29 09:30:00+09:00       0        0.0           0.0  \n",
       "2025-10-29 09:45:00+09:00       0        0.0           0.0  \n",
       "2025-10-29 10:00:00+09:00       0        0.0           0.0  \n",
       "...                           ...        ...           ...  \n",
       "2025-10-30 10:15:00+09:00       0        0.0           0.0  \n",
       "2025-10-30 10:30:00+09:00       0        0.0           0.0  \n",
       "2025-10-30 10:45:00+09:00       0        0.0           0.0  \n",
       "2025-10-30 11:00:00+09:00       0        0.0           0.0  \n",
       "2025-10-30 11:15:00+09:00       0        0.0           0.0  \n",
       "\n",
       "[106 rows x 7 columns]"
      ]
     },
     "execution_count": 8,
     "metadata": {},
     "output_type": "execute_result"
    }
   ],
   "source": [
    "# 15分足で過去 2 日分のデータを取得\n",
    "df_exchange = ticker2.history(period=\"2d\", interval=\"15m\")\n",
    "df_exchange.index = df_exchange.index.tz_convert(\"Asia/Tokyo\")\n",
    "df_exchange"
   ]
  },
  {
   "cell_type": "markdown",
   "id": "3bdb0d3e-7c5b-4d00-8ef6-a79d243141ce",
   "metadata": {},
   "source": [
    "### 15分足の Close のドル円レートで一括割る"
   ]
  },
  {
   "cell_type": "code",
   "execution_count": 9,
   "id": "f78f11ba-0261-41ae-b3fa-fdc3d7c2caff",
   "metadata": {},
   "outputs": [
    {
     "data": {
      "text/html": [
       "<div>\n",
       "<style scoped>\n",
       "    .dataframe tbody tr th:only-of-type {\n",
       "        vertical-align: middle;\n",
       "    }\n",
       "\n",
       "    .dataframe tbody tr th {\n",
       "        vertical-align: top;\n",
       "    }\n",
       "\n",
       "    .dataframe thead th {\n",
       "        text-align: right;\n",
       "    }\n",
       "</style>\n",
       "<table border=\"1\" class=\"dataframe\">\n",
       "  <thead>\n",
       "    <tr style=\"text-align: right;\">\n",
       "      <th></th>\n",
       "      <th>Open</th>\n",
       "      <th>High</th>\n",
       "      <th>Low</th>\n",
       "      <th>Close</th>\n",
       "    </tr>\n",
       "    <tr>\n",
       "      <th>Datetime</th>\n",
       "      <th></th>\n",
       "      <th></th>\n",
       "      <th></th>\n",
       "      <th></th>\n",
       "    </tr>\n",
       "  </thead>\n",
       "  <tbody>\n",
       "    <tr>\n",
       "      <th>2025-10-30 09:00:00+09:00</th>\n",
       "      <td>334.897850</td>\n",
       "      <td>336.136442</td>\n",
       "      <td>334.440217</td>\n",
       "      <td>335.987606</td>\n",
       "    </tr>\n",
       "    <tr>\n",
       "      <th>2025-10-30 09:15:00+09:00</th>\n",
       "      <td>336.611488</td>\n",
       "      <td>337.176966</td>\n",
       "      <td>336.008718</td>\n",
       "      <td>336.947348</td>\n",
       "    </tr>\n",
       "    <tr>\n",
       "      <th>2025-10-30 09:30:00+09:00</th>\n",
       "      <td>336.809387</td>\n",
       "      <td>337.788841</td>\n",
       "      <td>335.854095</td>\n",
       "      <td>335.954488</td>\n",
       "    </tr>\n",
       "    <tr>\n",
       "      <th>2025-10-30 09:45:00+09:00</th>\n",
       "      <td>335.886188</td>\n",
       "      <td>336.371362</td>\n",
       "      <td>334.934393</td>\n",
       "      <td>335.612901</td>\n",
       "    </tr>\n",
       "    <tr>\n",
       "      <th>2025-10-30 10:00:00+09:00</th>\n",
       "      <td>335.647248</td>\n",
       "      <td>336.402969</td>\n",
       "      <td>334.529220</td>\n",
       "      <td>335.571801</td>\n",
       "    </tr>\n",
       "    <tr>\n",
       "      <th>2025-10-30 10:15:00+09:00</th>\n",
       "      <td>335.612847</td>\n",
       "      <td>335.661127</td>\n",
       "      <td>334.731212</td>\n",
       "      <td>335.004483</td>\n",
       "    </tr>\n",
       "    <tr>\n",
       "      <th>2025-10-30 10:30:00+09:00</th>\n",
       "      <td>335.216781</td>\n",
       "      <td>336.465899</td>\n",
       "      <td>334.622257</td>\n",
       "      <td>336.310742</td>\n",
       "    </tr>\n",
       "    <tr>\n",
       "      <th>2025-10-30 10:45:00+09:00</th>\n",
       "      <td>336.213673</td>\n",
       "      <td>336.414033</td>\n",
       "      <td>335.869701</td>\n",
       "      <td>336.134671</td>\n",
       "    </tr>\n",
       "    <tr>\n",
       "      <th>2025-10-30 11:00:00+09:00</th>\n",
       "      <td>336.424312</td>\n",
       "      <td>336.792412</td>\n",
       "      <td>336.328167</td>\n",
       "      <td>336.418673</td>\n",
       "    </tr>\n",
       "  </tbody>\n",
       "</table>\n",
       "</div>"
      ],
      "text/plain": [
       "                                 Open        High         Low       Close\n",
       "Datetime                                                                 \n",
       "2025-10-30 09:00:00+09:00  334.897850  336.136442  334.440217  335.987606\n",
       "2025-10-30 09:15:00+09:00  336.611488  337.176966  336.008718  336.947348\n",
       "2025-10-30 09:30:00+09:00  336.809387  337.788841  335.854095  335.954488\n",
       "2025-10-30 09:45:00+09:00  335.886188  336.371362  334.934393  335.612901\n",
       "2025-10-30 10:00:00+09:00  335.647248  336.402969  334.529220  335.571801\n",
       "2025-10-30 10:15:00+09:00  335.612847  335.661127  334.731212  335.004483\n",
       "2025-10-30 10:30:00+09:00  335.216781  336.465899  334.622257  336.310742\n",
       "2025-10-30 10:45:00+09:00  336.213673  336.414033  335.869701  336.134671\n",
       "2025-10-30 11:00:00+09:00  336.424312  336.792412  336.328167  336.418673"
      ]
     },
     "execution_count": 9,
     "metadata": {},
     "output_type": "execute_result"
    }
   ],
   "source": [
    "ser_rate = df_exchange.loc[df.index, \"Close\"]\n",
    "ser_rate\n",
    "df2 = pd.DataFrame()\n",
    "df2[\"Open\"] = df[\"Open\"] / ser_rate\n",
    "df2[\"High\"] = df[\"High\"] / ser_rate\n",
    "df2[\"Low\"] = df[\"Low\"] / ser_rate\n",
    "df2[\"Close\"] = df[\"Close\"] / ser_rate\n",
    "df2"
   ]
  },
  {
   "cell_type": "markdown",
   "id": "3c20e929-430e-4b75-9b16-23408c6e40cd",
   "metadata": {},
   "source": [
    "### 前日の終値のドル円レートから、前日の終値のドル換算"
   ]
  },
  {
   "cell_type": "code",
   "execution_count": 10,
   "id": "38669de5-6f50-44b1-ad01-33a722573c02",
   "metadata": {},
   "outputs": [
    {
     "name": "stdout",
     "output_type": "stream",
     "text": [
      "2025-10-29 15:15:00+09:00\n"
     ]
    },
    {
     "data": {
      "text/plain": [
       "np.float64(152.28199768066406)"
      ]
     },
     "execution_count": 10,
     "metadata": {},
     "output_type": "execute_result"
    }
   ],
   "source": [
    "dt = df_exchange.head(1).index[0]\n",
    "dt_last_close = pd.to_datetime(f\"{str(dt.date())} 15:15:00+09:00\")\n",
    "print(dt_last_close)\n",
    "last_close_usd = df_exchange.loc[dt_last_close, \"Close\"]\n",
    "last_close_usd"
   ]
  },
  {
   "cell_type": "markdown",
   "id": "7bd6776f-5a42-4d76-8ad5-a8de55eebc09",
   "metadata": {},
   "source": [
    "## ローソク足チャート（小さいサイズ）/ ドル換算チャート"
   ]
  },
  {
   "cell_type": "code",
   "execution_count": 11,
   "id": "67fd86b9-2b36-4dee-aac2-157c7d5db22a",
   "metadata": {},
   "outputs": [
    {
     "name": "stdout",
     "output_type": "stream",
     "text": [
      "前日終値（ドル換算） 336.925238826275\n"
     ]
    },
    {
     "data": {
      "image/png": "[encoded data removed]",
      "text/plain": [
       "<Figure size 300x180 with 1 Axes>"
      ]
     },
     "metadata": {},
     "output_type": "display_data"
    }
   ],
   "source": [
    "FONT_PATH = \"../fonts/RictyDiminished-Regular.ttf\"\n",
    "fm.fontManager.addfont(FONT_PATH)\n",
    "\n",
    "# FontPropertiesオブジェクト生成（名前の取得のため）\n",
    "font_prop = fm.FontProperties(fname=FONT_PATH)\n",
    "font_prop.get_name()\n",
    "\n",
    "plt.rcParams[\"font.family\"] = font_prop.get_name()\n",
    "plt.rcParams[\"font.size\"] = 8\n",
    "\n",
    "fig, ax = plt.subplots(figsize=(3, 1.8))\n",
    "\n",
    "ax.axhline(y=lastclose / last_close_usd, color=\"red\", linewidth=0.75)\n",
    "print(\"前日終値（ドル換算）\", lastclose / last_close_usd)\n",
    "mpf.plot(\n",
    "    df2,\n",
    "    type=\"candle\",\n",
    "    style=\"default\",\n",
    "    datetime_format=\"%H:%M\",\n",
    "    xrotation=0,\n",
    "    update_width_config=dict(candle_linewidth=0.75),\n",
    "    ax=ax,\n",
    ")\n",
    "ax.yaxis.set_major_formatter(ticker.StrMethodFormatter('{x:,.2f}'))\n",
    "ax.set_ylabel(\"USD\")\n",
    "ax.grid()\n",
    "\n",
    "if \"shortName\" in ticker1.info:\n",
    "    ax.set_title(f\"{ticker1.info['shortName']} ({symbol}) in USD\")\n",
    "elif \"longName\" in ticker1.info:\n",
    "    ax.set_title(f\"{ticker1.info['longName']} ({symbol}) in USD\")\n",
    "else:\n",
    "    ax.set_title(f\"{symbol}\")\n",
    "\n",
    "plt.tight_layout()\n",
    "plt.savefig(get_name_15min_chart_usd(code, dt_first))\n",
    "plt.show()"
   ]
  },
  {
   "cell_type": "code",
   "execution_count": null,
   "id": "bf4fa924-9b95-4ff9-bd6f-c181ea967b4a",
   "metadata": {},
   "outputs": [],
   "source": []
  }
 ],
 "metadata": {
  "kernelspec": {
   "display_name": "Python 3 (ipykernel)",
   "language": "python",
   "name": "python3"
  },
  "language_info": {
   "codemirror_mode": {
    "name": "ipython",
    "version": 3
   },
   "file_extension": ".py",
   "mimetype": "text/x-python",
   "name": "python",
   "nbconvert_exporter": "python",
   "pygments_lexer": "ipython3",
   "version": "3.13.7"
  }
 },
 "nbformat": 4,
 "nbformat_minor": 5
}
