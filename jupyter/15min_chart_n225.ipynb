{
 "cells": [
  {
   "cell_type": "markdown",
   "id": "07ceea52-6536-47e0-81aa-30c017b5bfc5",
   "metadata": {},
   "source": [
    "# 日経平均株価 15分足"
   ]
  },
  {
   "cell_type": "markdown",
   "id": "8a363236-5477-4a61-99da-bf92362631f4",
   "metadata": {},
   "source": [
    "### 一つ上のディレクトリをパスに追加"
   ]
  },
  {
   "cell_type": "code",
   "execution_count": 100,
   "id": "f1f6d8b7-4107-4a29-ae60-f3cbfa1f5a38",
   "metadata": {},
   "outputs": [],
   "source": [
    "import sys\n",
    "\n",
    "path_up = \"..\"\n",
    "if not path_up in sys.path:\n",
    "    sys.path.append(path_up)"
   ]
  },
  {
   "cell_type": "markdown",
   "id": "19d64844-3cbf-4a92-827e-43c425e34eb6",
   "metadata": {},
   "source": [
    "### ライブラリをここで一括インポート"
   ]
  },
  {
   "cell_type": "code",
   "execution_count": 101,
   "id": "3421a3f8-52ac-41e8-8e08-921ddaa4b37a",
   "metadata": {},
   "outputs": [],
   "source": [
    "import datetime\n",
    "\n",
    "import matplotlib.font_manager as fm\n",
    "import matplotlib.pyplot as plt\n",
    "import matplotlib.ticker as ticker\n",
    "import mplfinance as mpf\n",
    "import numpy as np\n",
    "import pandas as pd\n",
    "import yfinance as yf\n",
    "\n",
    "from funcs.commons import (\n",
    "    get_name_15min_chart,\n",
    "    get_name_15min_chart_now,\n",
    "    get_name_15min_chart_usd,\n",
    ")"
   ]
  },
  {
   "cell_type": "markdown",
   "id": "8efa7b4f-c5a5-45df-bcbc-c689517b5fb2",
   "metadata": {},
   "source": [
    "## yfinance による株価データの取得"
   ]
  },
  {
   "cell_type": "code",
   "execution_count": 102,
   "id": "513d138a-5223-48b6-868d-a4e49a86c6b6",
   "metadata": {},
   "outputs": [
    {
     "data": {
      "text/html": [
       "<div>\n",
       "<style scoped>\n",
       "    .dataframe tbody tr th:only-of-type {\n",
       "        vertical-align: middle;\n",
       "    }\n",
       "\n",
       "    .dataframe tbody tr th {\n",
       "        vertical-align: top;\n",
       "    }\n",
       "\n",
       "    .dataframe thead th {\n",
       "        text-align: right;\n",
       "    }\n",
       "</style>\n",
       "<table border=\"1\" class=\"dataframe\">\n",
       "  <thead>\n",
       "    <tr style=\"text-align: right;\">\n",
       "      <th></th>\n",
       "      <th>Open</th>\n",
       "      <th>High</th>\n",
       "      <th>Low</th>\n",
       "      <th>Close</th>\n",
       "      <th>Volume</th>\n",
       "      <th>Dividends</th>\n",
       "      <th>Stock Splits</th>\n",
       "    </tr>\n",
       "    <tr>\n",
       "      <th>Datetime</th>\n",
       "      <th></th>\n",
       "      <th></th>\n",
       "      <th></th>\n",
       "      <th></th>\n",
       "      <th></th>\n",
       "      <th></th>\n",
       "      <th></th>\n",
       "    </tr>\n",
       "  </thead>\n",
       "  <tbody>\n",
       "    <tr>\n",
       "      <th>2025-10-29 09:00:00+09:00</th>\n",
       "      <td>50453.640625</td>\n",
       "      <td>50772.789062</td>\n",
       "      <td>50365.621094</td>\n",
       "      <td>50770.968750</td>\n",
       "      <td>0</td>\n",
       "      <td>0.0</td>\n",
       "      <td>0.0</td>\n",
       "    </tr>\n",
       "    <tr>\n",
       "      <th>2025-10-29 09:15:00+09:00</th>\n",
       "      <td>50768.269531</td>\n",
       "      <td>50843.570312</td>\n",
       "      <td>50710.898438</td>\n",
       "      <td>50830.628906</td>\n",
       "      <td>0</td>\n",
       "      <td>0.0</td>\n",
       "      <td>0.0</td>\n",
       "    </tr>\n",
       "    <tr>\n",
       "      <th>2025-10-29 09:30:00+09:00</th>\n",
       "      <td>50829.558594</td>\n",
       "      <td>50910.839844</td>\n",
       "      <td>50816.300781</td>\n",
       "      <td>50886.960938</td>\n",
       "      <td>0</td>\n",
       "      <td>0.0</td>\n",
       "      <td>0.0</td>\n",
       "    </tr>\n",
       "    <tr>\n",
       "      <th>2025-10-29 09:45:00+09:00</th>\n",
       "      <td>50889.949219</td>\n",
       "      <td>50896.531250</td>\n",
       "      <td>50748.988281</td>\n",
       "      <td>50852.230469</td>\n",
       "      <td>0</td>\n",
       "      <td>0.0</td>\n",
       "      <td>0.0</td>\n",
       "    </tr>\n",
       "    <tr>\n",
       "      <th>2025-10-29 10:00:00+09:00</th>\n",
       "      <td>50852.011719</td>\n",
       "      <td>50954.910156</td>\n",
       "      <td>50811.648438</td>\n",
       "      <td>50947.140625</td>\n",
       "      <td>0</td>\n",
       "      <td>0.0</td>\n",
       "      <td>0.0</td>\n",
       "    </tr>\n",
       "    <tr>\n",
       "      <th>2025-10-29 10:15:00+09:00</th>\n",
       "      <td>50942.691406</td>\n",
       "      <td>51048.140625</td>\n",
       "      <td>50924.539062</td>\n",
       "      <td>51004.281250</td>\n",
       "      <td>0</td>\n",
       "      <td>0.0</td>\n",
       "      <td>0.0</td>\n",
       "    </tr>\n",
       "    <tr>\n",
       "      <th>2025-10-29 10:30:00+09:00</th>\n",
       "      <td>51009.488281</td>\n",
       "      <td>51233.500000</td>\n",
       "      <td>51009.488281</td>\n",
       "      <td>51133.671875</td>\n",
       "      <td>0</td>\n",
       "      <td>0.0</td>\n",
       "      <td>0.0</td>\n",
       "    </tr>\n",
       "    <tr>\n",
       "      <th>2025-10-29 10:45:00+09:00</th>\n",
       "      <td>51120.699219</td>\n",
       "      <td>51120.699219</td>\n",
       "      <td>51120.699219</td>\n",
       "      <td>51120.699219</td>\n",
       "      <td>0</td>\n",
       "      <td>0.0</td>\n",
       "      <td>0.0</td>\n",
       "    </tr>\n",
       "  </tbody>\n",
       "</table>\n",
       "</div>"
      ],
      "text/plain": [
       "                                   Open          High           Low  \\\n",
       "Datetime                                                              \n",
       "2025-10-29 09:00:00+09:00  50453.640625  50772.789062  50365.621094   \n",
       "2025-10-29 09:15:00+09:00  50768.269531  50843.570312  50710.898438   \n",
       "2025-10-29 09:30:00+09:00  50829.558594  50910.839844  50816.300781   \n",
       "2025-10-29 09:45:00+09:00  50889.949219  50896.531250  50748.988281   \n",
       "2025-10-29 10:00:00+09:00  50852.011719  50954.910156  50811.648438   \n",
       "2025-10-29 10:15:00+09:00  50942.691406  51048.140625  50924.539062   \n",
       "2025-10-29 10:30:00+09:00  51009.488281  51233.500000  51009.488281   \n",
       "2025-10-29 10:45:00+09:00  51120.699219  51120.699219  51120.699219   \n",
       "\n",
       "                                  Close  Volume  Dividends  Stock Splits  \n",
       "Datetime                                                                  \n",
       "2025-10-29 09:00:00+09:00  50770.968750       0        0.0           0.0  \n",
       "2025-10-29 09:15:00+09:00  50830.628906       0        0.0           0.0  \n",
       "2025-10-29 09:30:00+09:00  50886.960938       0        0.0           0.0  \n",
       "2025-10-29 09:45:00+09:00  50852.230469       0        0.0           0.0  \n",
       "2025-10-29 10:00:00+09:00  50947.140625       0        0.0           0.0  \n",
       "2025-10-29 10:15:00+09:00  51004.281250       0        0.0           0.0  \n",
       "2025-10-29 10:30:00+09:00  51133.671875       0        0.0           0.0  \n",
       "2025-10-29 10:45:00+09:00  51120.699219       0        0.0           0.0  "
      ]
     },
     "execution_count": 102,
     "metadata": {},
     "output_type": "execute_result"
    }
   ],
   "source": [
    "code = \"N225\"\n",
    "symbol = f\"^{code}\"\n",
    "ticker1 = yf.Ticker(symbol)\n",
    "df = ticker1.history(period=\"1d\", interval=\"15m\")\n",
    "df"
   ]
  },
  {
   "cell_type": "markdown",
   "id": "2b974883-632b-43cf-8f1b-9f3e4cededdd",
   "metadata": {},
   "source": [
    "## 前日終値の取得"
   ]
  },
  {
   "cell_type": "code",
   "execution_count": 103,
   "id": "cf79a23f-ac87-47e6-bd34-0746a65c86f9",
   "metadata": {},
   "outputs": [
    {
     "name": "stdout",
     "output_type": "stream",
     "text": [
      "Date\n",
      "2025-10-22 00:00:00+09:00    49307.789062\n",
      "2025-10-23 00:00:00+09:00    48641.609375\n",
      "2025-10-24 00:00:00+09:00    49299.648438\n",
      "2025-10-27 00:00:00+09:00    50512.320312\n",
      "2025-10-28 00:00:00+09:00    50219.179688\n",
      "2025-10-29 00:00:00+09:00    51120.699219\n",
      "Name: Close, dtype: float64\n"
     ]
    },
    {
     "data": {
      "text/plain": [
       "Date\n",
       "2025-10-28 00:00:00+09:00    50219.179688\n",
       "Name: Close, dtype: float64"
      ]
     },
     "execution_count": 103,
     "metadata": {},
     "output_type": "execute_result"
    }
   ],
   "source": [
    "# 過去一週間のデータを取得\n",
    "td = datetime.timedelta(days=7)\n",
    "dt_first = df.index[0]\n",
    "dt_prev = dt_first - td\n",
    "df_last = ticker1.history(interval=\"1d\", start=str(dt_prev.date()))\n",
    "print(df_last[\"Close\"])\n",
    "n = len(df_last)\n",
    "lastclose = df_last[n - 2 : n - 1][\"Close\"].iloc[0]\n",
    "# lastclose = 44902.27 # 9/16 終値\n",
    "# 確認のため出力\n",
    "df_last[n - 2 : n - 1][\"Close\"]"
   ]
  },
  {
   "cell_type": "markdown",
   "id": "e41961ad-e3e5-4055-a368-6295b0c73219",
   "metadata": {},
   "source": [
    "### 当日始値 - 前日終値"
   ]
  },
  {
   "cell_type": "code",
   "execution_count": 104,
   "id": "0acbf95b-3e5c-4df6-a7dc-c3e4f82578af",
   "metadata": {},
   "outputs": [
    {
     "name": "stdout",
     "output_type": "stream",
     "text": [
      "+234.46\n"
     ]
    }
   ],
   "source": [
    "delta_open = df.head(1)[\"Open\"].iloc[0] - lastclose\n",
    "print(f\"{delta_open:+.2f}\")"
   ]
  },
  {
   "cell_type": "markdown",
   "id": "432d492c-6e58-46b6-8004-044d4419c02c",
   "metadata": {},
   "source": [
    "## ローソク足チャート（小さいサイズ）"
   ]
  },
  {
   "cell_type": "code",
   "execution_count": 105,
   "id": "f4d0b7d0-b14a-4bfd-949a-c03ee4a578a0",
   "metadata": {},
   "outputs": [
    {
     "data": {
      "image/png": "[encoded data removed]",
      "text/plain": [
       "<Figure size 300x180 with 1 Axes>"
      ]
     },
     "metadata": {},
     "output_type": "display_data"
    }
   ],
   "source": [
    "FONT_PATH = \"../fonts/RictyDiminished-Regular.ttf\"\n",
    "fm.fontManager.addfont(FONT_PATH)\n",
    "\n",
    "# FontPropertiesオブジェクト生成（名前の取得のため）\n",
    "font_prop = fm.FontProperties(fname=FONT_PATH)\n",
    "font_prop.get_name()\n",
    "\n",
    "plt.rcParams[\"font.family\"] = font_prop.get_name()\n",
    "plt.rcParams[\"font.size\"] = 8\n",
    "\n",
    "fig, ax = plt.subplots(figsize=(3, 1.8))\n",
    "\n",
    "ax.axhline(y=lastclose, color=\"red\", linewidth=0.75)\n",
    "mpf.plot(\n",
    "    df,\n",
    "    type=\"candle\",\n",
    "    style=\"default\",\n",
    "    datetime_format=\"%H:%M\",\n",
    "    xrotation=0,\n",
    "    update_width_config=dict(candle_linewidth=0.75),\n",
    "    ax=ax,\n",
    ")\n",
    "ax.yaxis.set_major_formatter(ticker.StrMethodFormatter('{x:,.0f}'))\n",
    "ax.set_ylabel(\"JPY\")\n",
    "ax.grid()\n",
    "\n",
    "if \"shortName\" in ticker1.info:\n",
    "    ax.set_title(f\"{ticker1.info['shortName']} ({symbol})\")\n",
    "elif \"longName\" in ticker1.info:\n",
    "    ax.set_title(f\"{ticker1.info['longName']} ({symbol})\")\n",
    "else:\n",
    "    ax.set_title(f\"{symbol}\")\n",
    "\n",
    "plt.tight_layout()\n",
    "plt.savefig(get_name_15min_chart(code, dt_first))\n",
    "plt.show()"
   ]
  },
  {
   "cell_type": "markdown",
   "id": "975de5bc-90ff-4c41-898a-0aa329c7576a",
   "metadata": {},
   "source": [
    "## ドル円レートで換算"
   ]
  },
  {
   "cell_type": "code",
   "execution_count": 106,
   "id": "f18e1ab8-e1be-4684-a805-0584f61e0488",
   "metadata": {},
   "outputs": [],
   "source": [
    "code2 = \"USDJPY=X\"\n",
    "symbol2 = code2\n",
    "ticker2 = yf.Ticker(symbol2)"
   ]
  },
  {
   "cell_type": "markdown",
   "id": "3d3c79b6-f705-4109-9b86-21f6c073df78",
   "metadata": {},
   "source": [
    "### 過去２日分のドル円レートの過去データを取得"
   ]
  },
  {
   "cell_type": "code",
   "execution_count": 107,
   "id": "da50dc67-a62c-4db4-9e26-71abcd1ab12d",
   "metadata": {},
   "outputs": [
    {
     "data": {
      "text/html": [
       "<div>\n",
       "<style scoped>\n",
       "    .dataframe tbody tr th:only-of-type {\n",
       "        vertical-align: middle;\n",
       "    }\n",
       "\n",
       "    .dataframe tbody tr th {\n",
       "        vertical-align: top;\n",
       "    }\n",
       "\n",
       "    .dataframe thead th {\n",
       "        text-align: right;\n",
       "    }\n",
       "</style>\n",
       "<table border=\"1\" class=\"dataframe\">\n",
       "  <thead>\n",
       "    <tr style=\"text-align: right;\">\n",
       "      <th></th>\n",
       "      <th>Open</th>\n",
       "      <th>High</th>\n",
       "      <th>Low</th>\n",
       "      <th>Close</th>\n",
       "      <th>Volume</th>\n",
       "      <th>Dividends</th>\n",
       "      <th>Stock Splits</th>\n",
       "    </tr>\n",
       "    <tr>\n",
       "      <th>Datetime</th>\n",
       "      <th></th>\n",
       "      <th></th>\n",
       "      <th></th>\n",
       "      <th></th>\n",
       "      <th></th>\n",
       "      <th></th>\n",
       "      <th></th>\n",
       "    </tr>\n",
       "  </thead>\n",
       "  <tbody>\n",
       "    <tr>\n",
       "      <th>2025-10-28 09:00:00+09:00</th>\n",
       "      <td>152.692001</td>\n",
       "      <td>152.735992</td>\n",
       "      <td>152.544998</td>\n",
       "      <td>152.556000</td>\n",
       "      <td>0</td>\n",
       "      <td>0.0</td>\n",
       "      <td>0.0</td>\n",
       "    </tr>\n",
       "    <tr>\n",
       "      <th>2025-10-28 09:15:00+09:00</th>\n",
       "      <td>152.556000</td>\n",
       "      <td>152.606003</td>\n",
       "      <td>152.498993</td>\n",
       "      <td>152.509995</td>\n",
       "      <td>0</td>\n",
       "      <td>0.0</td>\n",
       "      <td>0.0</td>\n",
       "    </tr>\n",
       "    <tr>\n",
       "      <th>2025-10-28 09:30:00+09:00</th>\n",
       "      <td>152.513000</td>\n",
       "      <td>152.522995</td>\n",
       "      <td>152.393997</td>\n",
       "      <td>152.449005</td>\n",
       "      <td>0</td>\n",
       "      <td>0.0</td>\n",
       "      <td>0.0</td>\n",
       "    </tr>\n",
       "    <tr>\n",
       "      <th>2025-10-28 09:45:00+09:00</th>\n",
       "      <td>152.449005</td>\n",
       "      <td>152.559998</td>\n",
       "      <td>152.389008</td>\n",
       "      <td>152.492996</td>\n",
       "      <td>0</td>\n",
       "      <td>0.0</td>\n",
       "      <td>0.0</td>\n",
       "    </tr>\n",
       "    <tr>\n",
       "      <th>2025-10-28 10:00:00+09:00</th>\n",
       "      <td>152.488998</td>\n",
       "      <td>152.511993</td>\n",
       "      <td>152.285995</td>\n",
       "      <td>152.302002</td>\n",
       "      <td>0</td>\n",
       "      <td>0.0</td>\n",
       "      <td>0.0</td>\n",
       "    </tr>\n",
       "    <tr>\n",
       "      <th>...</th>\n",
       "      <td>...</td>\n",
       "      <td>...</td>\n",
       "      <td>...</td>\n",
       "      <td>...</td>\n",
       "      <td>...</td>\n",
       "      <td>...</td>\n",
       "      <td>...</td>\n",
       "    </tr>\n",
       "    <tr>\n",
       "      <th>2025-10-29 10:00:00+09:00</th>\n",
       "      <td>151.626999</td>\n",
       "      <td>151.723007</td>\n",
       "      <td>151.542007</td>\n",
       "      <td>151.666000</td>\n",
       "      <td>0</td>\n",
       "      <td>0.0</td>\n",
       "      <td>0.0</td>\n",
       "    </tr>\n",
       "    <tr>\n",
       "      <th>2025-10-29 10:15:00+09:00</th>\n",
       "      <td>151.671005</td>\n",
       "      <td>151.794006</td>\n",
       "      <td>151.598007</td>\n",
       "      <td>151.740005</td>\n",
       "      <td>0</td>\n",
       "      <td>0.0</td>\n",
       "      <td>0.0</td>\n",
       "    </tr>\n",
       "    <tr>\n",
       "      <th>2025-10-29 10:30:00+09:00</th>\n",
       "      <td>151.733002</td>\n",
       "      <td>151.916000</td>\n",
       "      <td>151.733002</td>\n",
       "      <td>151.891006</td>\n",
       "      <td>0</td>\n",
       "      <td>0.0</td>\n",
       "      <td>0.0</td>\n",
       "    </tr>\n",
       "    <tr>\n",
       "      <th>2025-10-29 10:45:00+09:00</th>\n",
       "      <td>151.884995</td>\n",
       "      <td>151.897003</td>\n",
       "      <td>151.781006</td>\n",
       "      <td>151.889999</td>\n",
       "      <td>0</td>\n",
       "      <td>0.0</td>\n",
       "      <td>0.0</td>\n",
       "    </tr>\n",
       "    <tr>\n",
       "      <th>2025-10-29 11:00:00+09:00</th>\n",
       "      <td>151.899994</td>\n",
       "      <td>151.899994</td>\n",
       "      <td>151.899994</td>\n",
       "      <td>151.899994</td>\n",
       "      <td>0</td>\n",
       "      <td>0.0</td>\n",
       "      <td>0.0</td>\n",
       "    </tr>\n",
       "  </tbody>\n",
       "</table>\n",
       "<p>105 rows × 7 columns</p>\n",
       "</div>"
      ],
      "text/plain": [
       "                                 Open        High         Low       Close  \\\n",
       "Datetime                                                                    \n",
       "2025-10-28 09:00:00+09:00  152.692001  152.735992  152.544998  152.556000   \n",
       "2025-10-28 09:15:00+09:00  152.556000  152.606003  152.498993  152.509995   \n",
       "2025-10-28 09:30:00+09:00  152.513000  152.522995  152.393997  152.449005   \n",
       "2025-10-28 09:45:00+09:00  152.449005  152.559998  152.389008  152.492996   \n",
       "2025-10-28 10:00:00+09:00  152.488998  152.511993  152.285995  152.302002   \n",
       "...                               ...         ...         ...         ...   \n",
       "2025-10-29 10:00:00+09:00  151.626999  151.723007  151.542007  151.666000   \n",
       "2025-10-29 10:15:00+09:00  151.671005  151.794006  151.598007  151.740005   \n",
       "2025-10-29 10:30:00+09:00  151.733002  151.916000  151.733002  151.891006   \n",
       "2025-10-29 10:45:00+09:00  151.884995  151.897003  151.781006  151.889999   \n",
       "2025-10-29 11:00:00+09:00  151.899994  151.899994  151.899994  151.899994   \n",
       "\n",
       "                           Volume  Dividends  Stock Splits  \n",
       "Datetime                                                    \n",
       "2025-10-28 09:00:00+09:00       0        0.0           0.0  \n",
       "2025-10-28 09:15:00+09:00       0        0.0           0.0  \n",
       "2025-10-28 09:30:00+09:00       0        0.0           0.0  \n",
       "2025-10-28 09:45:00+09:00       0        0.0           0.0  \n",
       "2025-10-28 10:00:00+09:00       0        0.0           0.0  \n",
       "...                           ...        ...           ...  \n",
       "2025-10-29 10:00:00+09:00       0        0.0           0.0  \n",
       "2025-10-29 10:15:00+09:00       0        0.0           0.0  \n",
       "2025-10-29 10:30:00+09:00       0        0.0           0.0  \n",
       "2025-10-29 10:45:00+09:00       0        0.0           0.0  \n",
       "2025-10-29 11:00:00+09:00       0        0.0           0.0  \n",
       "\n",
       "[105 rows x 7 columns]"
      ]
     },
     "execution_count": 107,
     "metadata": {},
     "output_type": "execute_result"
    }
   ],
   "source": [
    "# 15分足で過去 2 日分のデータを取得\n",
    "df_exchange = ticker2.history(period=\"2d\", interval=\"15m\")\n",
    "df_exchange.index = df_exchange.index.tz_convert(\"Asia/Tokyo\")\n",
    "df_exchange"
   ]
  },
  {
   "cell_type": "markdown",
   "id": "3bdb0d3e-7c5b-4d00-8ef6-a79d243141ce",
   "metadata": {},
   "source": [
    "### 15分足の Close のドル円レートで一括割る"
   ]
  },
  {
   "cell_type": "code",
   "execution_count": 108,
   "id": "f78f11ba-0261-41ae-b3fa-fdc3d7c2caff",
   "metadata": {},
   "outputs": [
    {
     "data": {
      "text/html": [
       "<div>\n",
       "<style scoped>\n",
       "    .dataframe tbody tr th:only-of-type {\n",
       "        vertical-align: middle;\n",
       "    }\n",
       "\n",
       "    .dataframe tbody tr th {\n",
       "        vertical-align: top;\n",
       "    }\n",
       "\n",
       "    .dataframe thead th {\n",
       "        text-align: right;\n",
       "    }\n",
       "</style>\n",
       "<table border=\"1\" class=\"dataframe\">\n",
       "  <thead>\n",
       "    <tr style=\"text-align: right;\">\n",
       "      <th></th>\n",
       "      <th>Open</th>\n",
       "      <th>High</th>\n",
       "      <th>Low</th>\n",
       "      <th>Close</th>\n",
       "    </tr>\n",
       "    <tr>\n",
       "      <th>Datetime</th>\n",
       "      <th></th>\n",
       "      <th></th>\n",
       "      <th></th>\n",
       "      <th></th>\n",
       "    </tr>\n",
       "  </thead>\n",
       "  <tbody>\n",
       "    <tr>\n",
       "      <th>2025-10-29 09:00:00+09:00</th>\n",
       "      <td>332.526901</td>\n",
       "      <td>334.630326</td>\n",
       "      <td>331.946787</td>\n",
       "      <td>334.618329</td>\n",
       "    </tr>\n",
       "    <tr>\n",
       "      <th>2025-10-29 09:15:00+09:00</th>\n",
       "      <td>334.399973</td>\n",
       "      <td>334.895963</td>\n",
       "      <td>334.022081</td>\n",
       "      <td>334.810721</td>\n",
       "    </tr>\n",
       "    <tr>\n",
       "      <th>2025-10-29 09:30:00+09:00</th>\n",
       "      <td>334.832343</td>\n",
       "      <td>335.367772</td>\n",
       "      <td>334.745009</td>\n",
       "      <td>335.210473</td>\n",
       "    </tr>\n",
       "    <tr>\n",
       "      <th>2025-10-29 09:45:00+09:00</th>\n",
       "      <td>335.610406</td>\n",
       "      <td>335.653813</td>\n",
       "      <td>334.680793</td>\n",
       "      <td>335.361657</td>\n",
       "    </tr>\n",
       "    <tr>\n",
       "      <th>2025-10-29 10:00:00+09:00</th>\n",
       "      <td>335.289462</td>\n",
       "      <td>335.967917</td>\n",
       "      <td>335.023330</td>\n",
       "      <td>335.916689</td>\n",
       "    </tr>\n",
       "    <tr>\n",
       "      <th>2025-10-29 10:15:00+09:00</th>\n",
       "      <td>335.723537</td>\n",
       "      <td>336.418471</td>\n",
       "      <td>335.603909</td>\n",
       "      <td>336.129428</td>\n",
       "    </tr>\n",
       "    <tr>\n",
       "      <th>2025-10-29 10:30:00+09:00</th>\n",
       "      <td>335.829550</td>\n",
       "      <td>337.304368</td>\n",
       "      <td>335.829550</td>\n",
       "      <td>336.647133</td>\n",
       "    </tr>\n",
       "    <tr>\n",
       "      <th>2025-10-29 10:45:00+09:00</th>\n",
       "      <td>336.563957</td>\n",
       "      <td>336.563957</td>\n",
       "      <td>336.563957</td>\n",
       "      <td>336.563957</td>\n",
       "    </tr>\n",
       "  </tbody>\n",
       "</table>\n",
       "</div>"
      ],
      "text/plain": [
       "                                 Open        High         Low       Close\n",
       "Datetime                                                                 \n",
       "2025-10-29 09:00:00+09:00  332.526901  334.630326  331.946787  334.618329\n",
       "2025-10-29 09:15:00+09:00  334.399973  334.895963  334.022081  334.810721\n",
       "2025-10-29 09:30:00+09:00  334.832343  335.367772  334.745009  335.210473\n",
       "2025-10-29 09:45:00+09:00  335.610406  335.653813  334.680793  335.361657\n",
       "2025-10-29 10:00:00+09:00  335.289462  335.967917  335.023330  335.916689\n",
       "2025-10-29 10:15:00+09:00  335.723537  336.418471  335.603909  336.129428\n",
       "2025-10-29 10:30:00+09:00  335.829550  337.304368  335.829550  336.647133\n",
       "2025-10-29 10:45:00+09:00  336.563957  336.563957  336.563957  336.563957"
      ]
     },
     "execution_count": 108,
     "metadata": {},
     "output_type": "execute_result"
    }
   ],
   "source": [
    "ser_rate = df_exchange.loc[df.index, \"Close\"]\n",
    "ser_rate\n",
    "df2 = pd.DataFrame()\n",
    "df2[\"Open\"] = df[\"Open\"] / ser_rate\n",
    "df2[\"High\"] = df[\"High\"] / ser_rate\n",
    "df2[\"Low\"] = df[\"Low\"] / ser_rate\n",
    "df2[\"Close\"] = df[\"Close\"] / ser_rate\n",
    "df2"
   ]
  },
  {
   "cell_type": "markdown",
   "id": "3c20e929-430e-4b75-9b16-23408c6e40cd",
   "metadata": {},
   "source": [
    "### 前日の終値のドル円レートから、前日の終値のドル換算"
   ]
  },
  {
   "cell_type": "code",
   "execution_count": 109,
   "id": "38669de5-6f50-44b1-ad01-33a722573c02",
   "metadata": {},
   "outputs": [
    {
     "name": "stdout",
     "output_type": "stream",
     "text": [
      "2025-10-28 15:15:00+09:00\n"
     ]
    },
    {
     "data": {
      "text/plain": [
       "np.float64(151.97900390625)"
      ]
     },
     "execution_count": 109,
     "metadata": {},
     "output_type": "execute_result"
    }
   ],
   "source": [
    "dt = df_exchange.head(1).index[0]\n",
    "dt_last_close = pd.to_datetime(f\"{str(dt.date())} 15:15:00+09:00\")\n",
    "print(dt_last_close)\n",
    "last_close_usd = df_exchange.loc[dt_last_close, \"Close\"]\n",
    "last_close_usd"
   ]
  },
  {
   "cell_type": "markdown",
   "id": "7bd6776f-5a42-4d76-8ad5-a8de55eebc09",
   "metadata": {},
   "source": [
    "## ローソク足チャート（小さいサイズ）/ ドル換算チャート"
   ]
  },
  {
   "cell_type": "code",
   "execution_count": 110,
   "id": "67fd86b9-2b36-4dee-aac2-157c7d5db22a",
   "metadata": {},
   "outputs": [
    {
     "name": "stdout",
     "output_type": "stream",
     "text": [
      "前日終値（ドル換算） 330.4349837591927\n"
     ]
    },
    {
     "data": {
      "image/png": "[encoded data removed]",
      "text/plain": [
       "<Figure size 300x180 with 1 Axes>"
      ]
     },
     "metadata": {},
     "output_type": "display_data"
    }
   ],
   "source": [
    "FONT_PATH = \"../fonts/RictyDiminished-Regular.ttf\"\n",
    "fm.fontManager.addfont(FONT_PATH)\n",
    "\n",
    "# FontPropertiesオブジェクト生成（名前の取得のため）\n",
    "font_prop = fm.FontProperties(fname=FONT_PATH)\n",
    "font_prop.get_name()\n",
    "\n",
    "plt.rcParams[\"font.family\"] = font_prop.get_name()\n",
    "plt.rcParams[\"font.size\"] = 8\n",
    "\n",
    "fig, ax = plt.subplots(figsize=(3, 1.8))\n",
    "\n",
    "ax.axhline(y=lastclose / last_close_usd, color=\"red\", linewidth=0.75)\n",
    "print(\"前日終値（ドル換算）\", lastclose / last_close_usd)\n",
    "mpf.plot(\n",
    "    df2,\n",
    "    type=\"candle\",\n",
    "    style=\"default\",\n",
    "    datetime_format=\"%H:%M\",\n",
    "    xrotation=0,\n",
    "    update_width_config=dict(candle_linewidth=0.75),\n",
    "    ax=ax,\n",
    ")\n",
    "ax.yaxis.set_major_formatter(ticker.StrMethodFormatter('{x:,.2f}'))\n",
    "ax.set_ylabel(\"USD\")\n",
    "ax.grid()\n",
    "\n",
    "if \"shortName\" in ticker1.info:\n",
    "    ax.set_title(f\"{ticker1.info['shortName']} ({symbol}) in USD\")\n",
    "elif \"longName\" in ticker1.info:\n",
    "    ax.set_title(f\"{ticker1.info['longName']} ({symbol}) in USD\")\n",
    "else:\n",
    "    ax.set_title(f\"{symbol}\")\n",
    "\n",
    "plt.tight_layout()\n",
    "plt.savefig(get_name_15min_chart_usd(code, dt_first))\n",
    "plt.show()"
   ]
  },
  {
   "cell_type": "code",
   "execution_count": null,
   "id": "bf4fa924-9b95-4ff9-bd6f-c181ea967b4a",
   "metadata": {},
   "outputs": [],
   "source": []
  }
 ],
 "metadata": {
  "kernelspec": {
   "display_name": "Python 3 (ipykernel)",
   "language": "python",
   "name": "python3"
  },
  "language_info": {
   "codemirror_mode": {
    "name": "ipython",
    "version": 3
   },
   "file_extension": ".py",
   "mimetype": "text/x-python",
   "name": "python",
   "nbconvert_exporter": "python",
   "pygments_lexer": "ipython3",
   "version": "3.13.7"
  }
 },
 "nbformat": 4,
 "nbformat_minor": 5
}
