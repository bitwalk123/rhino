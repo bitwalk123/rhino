{
 "cells": [
  {
   "cell_type": "markdown",
   "id": "07ceea52-6536-47e0-81aa-30c017b5bfc5",
   "metadata": {},
   "source": [
    "# 日経平均株価 15分足"
   ]
  },
  {
   "cell_type": "markdown",
   "id": "8a363236-5477-4a61-99da-bf92362631f4",
   "metadata": {},
   "source": [
    "### 一つ上のディレクトリをパスに追加"
   ]
  },
  {
   "cell_type": "code",
   "execution_count": 153,
   "id": "f1f6d8b7-4107-4a29-ae60-f3cbfa1f5a38",
   "metadata": {},
   "outputs": [],
   "source": [
    "import sys\n",
    "\n",
    "path_up = \"..\"\n",
    "if not path_up in sys.path:\n",
    "    sys.path.append(path_up)"
   ]
  },
  {
   "cell_type": "markdown",
   "id": "19d64844-3cbf-4a92-827e-43c425e34eb6",
   "metadata": {},
   "source": [
    "### ライブラリをここで一括インポート"
   ]
  },
  {
   "cell_type": "code",
   "execution_count": 154,
   "id": "3421a3f8-52ac-41e8-8e08-921ddaa4b37a",
   "metadata": {},
   "outputs": [],
   "source": [
    "import datetime\n",
    "\n",
    "import matplotlib.font_manager as fm\n",
    "import matplotlib.pyplot as plt\n",
    "import matplotlib.ticker as ticker\n",
    "import mplfinance as mpf\n",
    "import numpy as np\n",
    "import pandas as pd\n",
    "import yfinance as yf\n",
    "\n",
    "from funcs.commons import (\n",
    "    get_name_15min_chart,\n",
    "    get_name_15min_chart_now,\n",
    "    get_name_15min_chart_usd,\n",
    ")"
   ]
  },
  {
   "cell_type": "markdown",
   "id": "8efa7b4f-c5a5-45df-bcbc-c689517b5fb2",
   "metadata": {},
   "source": [
    "## yfinance による株価データの取得"
   ]
  },
  {
   "cell_type": "code",
   "execution_count": 155,
   "id": "513d138a-5223-48b6-868d-a4e49a86c6b6",
   "metadata": {},
   "outputs": [
    {
     "data": {
      "text/html": [
       "<div>\n",
       "<style scoped>\n",
       "    .dataframe tbody tr th:only-of-type {\n",
       "        vertical-align: middle;\n",
       "    }\n",
       "\n",
       "    .dataframe tbody tr th {\n",
       "        vertical-align: top;\n",
       "    }\n",
       "\n",
       "    .dataframe thead th {\n",
       "        text-align: right;\n",
       "    }\n",
       "</style>\n",
       "<table border=\"1\" class=\"dataframe\">\n",
       "  <thead>\n",
       "    <tr style=\"text-align: right;\">\n",
       "      <th></th>\n",
       "      <th>Open</th>\n",
       "      <th>High</th>\n",
       "      <th>Low</th>\n",
       "      <th>Close</th>\n",
       "      <th>Volume</th>\n",
       "      <th>Dividends</th>\n",
       "      <th>Stock Splits</th>\n",
       "    </tr>\n",
       "    <tr>\n",
       "      <th>Datetime</th>\n",
       "      <th></th>\n",
       "      <th></th>\n",
       "      <th></th>\n",
       "      <th></th>\n",
       "      <th></th>\n",
       "      <th></th>\n",
       "      <th></th>\n",
       "    </tr>\n",
       "  </thead>\n",
       "  <tbody>\n",
       "    <tr>\n",
       "      <th>2025-10-21 09:00:00+09:00</th>\n",
       "      <td>49675.429688</td>\n",
       "      <td>49739.761719</td>\n",
       "      <td>49447.691406</td>\n",
       "      <td>49531.828125</td>\n",
       "      <td>0</td>\n",
       "      <td>0.0</td>\n",
       "      <td>0.0</td>\n",
       "    </tr>\n",
       "    <tr>\n",
       "      <th>2025-10-21 09:15:00+09:00</th>\n",
       "      <td>49532.929688</td>\n",
       "      <td>49707.550781</td>\n",
       "      <td>49532.929688</td>\n",
       "      <td>49667.101562</td>\n",
       "      <td>0</td>\n",
       "      <td>0.0</td>\n",
       "      <td>0.0</td>\n",
       "    </tr>\n",
       "    <tr>\n",
       "      <th>2025-10-21 09:30:00+09:00</th>\n",
       "      <td>49664.910156</td>\n",
       "      <td>49736.660156</td>\n",
       "      <td>49575.011719</td>\n",
       "      <td>49723.988281</td>\n",
       "      <td>0</td>\n",
       "      <td>0.0</td>\n",
       "      <td>0.0</td>\n",
       "    </tr>\n",
       "    <tr>\n",
       "      <th>2025-10-21 09:45:00+09:00</th>\n",
       "      <td>49723.550781</td>\n",
       "      <td>49794.898438</td>\n",
       "      <td>49683.628906</td>\n",
       "      <td>49785.648438</td>\n",
       "      <td>0</td>\n",
       "      <td>0.0</td>\n",
       "      <td>0.0</td>\n",
       "    </tr>\n",
       "    <tr>\n",
       "      <th>2025-10-21 10:00:00+09:00</th>\n",
       "      <td>49787.941406</td>\n",
       "      <td>49851.871094</td>\n",
       "      <td>49704.820312</td>\n",
       "      <td>49704.820312</td>\n",
       "      <td>0</td>\n",
       "      <td>0.0</td>\n",
       "      <td>0.0</td>\n",
       "    </tr>\n",
       "    <tr>\n",
       "      <th>2025-10-21 10:15:00+09:00</th>\n",
       "      <td>49706.019531</td>\n",
       "      <td>49804.679688</td>\n",
       "      <td>49706.019531</td>\n",
       "      <td>49791.128906</td>\n",
       "      <td>0</td>\n",
       "      <td>0.0</td>\n",
       "      <td>0.0</td>\n",
       "    </tr>\n",
       "    <tr>\n",
       "      <th>2025-10-21 10:30:00+09:00</th>\n",
       "      <td>49792.031250</td>\n",
       "      <td>49884.261719</td>\n",
       "      <td>49781.679688</td>\n",
       "      <td>49882.000000</td>\n",
       "      <td>0</td>\n",
       "      <td>0.0</td>\n",
       "      <td>0.0</td>\n",
       "    </tr>\n",
       "    <tr>\n",
       "      <th>2025-10-21 10:45:00+09:00</th>\n",
       "      <td>49884.109375</td>\n",
       "      <td>49912.230469</td>\n",
       "      <td>49857.679688</td>\n",
       "      <td>49870.300781</td>\n",
       "      <td>0</td>\n",
       "      <td>0.0</td>\n",
       "      <td>0.0</td>\n",
       "    </tr>\n",
       "    <tr>\n",
       "      <th>2025-10-21 11:00:00+09:00</th>\n",
       "      <td>49870.921875</td>\n",
       "      <td>49899.921875</td>\n",
       "      <td>49870.921875</td>\n",
       "      <td>49893.281250</td>\n",
       "      <td>0</td>\n",
       "      <td>0.0</td>\n",
       "      <td>0.0</td>\n",
       "    </tr>\n",
       "  </tbody>\n",
       "</table>\n",
       "</div>"
      ],
      "text/plain": [
       "                                   Open          High           Low  \\\n",
       "Datetime                                                              \n",
       "2025-10-21 09:00:00+09:00  49675.429688  49739.761719  49447.691406   \n",
       "2025-10-21 09:15:00+09:00  49532.929688  49707.550781  49532.929688   \n",
       "2025-10-21 09:30:00+09:00  49664.910156  49736.660156  49575.011719   \n",
       "2025-10-21 09:45:00+09:00  49723.550781  49794.898438  49683.628906   \n",
       "2025-10-21 10:00:00+09:00  49787.941406  49851.871094  49704.820312   \n",
       "2025-10-21 10:15:00+09:00  49706.019531  49804.679688  49706.019531   \n",
       "2025-10-21 10:30:00+09:00  49792.031250  49884.261719  49781.679688   \n",
       "2025-10-21 10:45:00+09:00  49884.109375  49912.230469  49857.679688   \n",
       "2025-10-21 11:00:00+09:00  49870.921875  49899.921875  49870.921875   \n",
       "\n",
       "                                  Close  Volume  Dividends  Stock Splits  \n",
       "Datetime                                                                  \n",
       "2025-10-21 09:00:00+09:00  49531.828125       0        0.0           0.0  \n",
       "2025-10-21 09:15:00+09:00  49667.101562       0        0.0           0.0  \n",
       "2025-10-21 09:30:00+09:00  49723.988281       0        0.0           0.0  \n",
       "2025-10-21 09:45:00+09:00  49785.648438       0        0.0           0.0  \n",
       "2025-10-21 10:00:00+09:00  49704.820312       0        0.0           0.0  \n",
       "2025-10-21 10:15:00+09:00  49791.128906       0        0.0           0.0  \n",
       "2025-10-21 10:30:00+09:00  49882.000000       0        0.0           0.0  \n",
       "2025-10-21 10:45:00+09:00  49870.300781       0        0.0           0.0  \n",
       "2025-10-21 11:00:00+09:00  49893.281250       0        0.0           0.0  "
      ]
     },
     "execution_count": 155,
     "metadata": {},
     "output_type": "execute_result"
    }
   ],
   "source": [
    "code = \"N225\"\n",
    "symbol = f\"^{code}\"\n",
    "ticker1 = yf.Ticker(symbol)\n",
    "df = ticker1.history(period=\"1d\", interval=\"15m\")\n",
    "df"
   ]
  },
  {
   "cell_type": "markdown",
   "id": "2b974883-632b-43cf-8f1b-9f3e4cededdd",
   "metadata": {},
   "source": [
    "## 前日終値の取得"
   ]
  },
  {
   "cell_type": "code",
   "execution_count": 156,
   "id": "cf79a23f-ac87-47e6-bd34-0746a65c86f9",
   "metadata": {},
   "outputs": [
    {
     "name": "stdout",
     "output_type": "stream",
     "text": [
      "Date\n",
      "2025-10-14 00:00:00+09:00    46847.320312\n",
      "2025-10-15 00:00:00+09:00    47672.671875\n",
      "2025-10-16 00:00:00+09:00    48277.738281\n",
      "2025-10-17 00:00:00+09:00    47582.148438\n",
      "2025-10-20 00:00:00+09:00    49185.500000\n",
      "2025-10-21 00:00:00+09:00    49893.281250\n",
      "Name: Close, dtype: float64\n"
     ]
    },
    {
     "data": {
      "text/plain": [
       "Date\n",
       "2025-10-20 00:00:00+09:00    49185.5\n",
       "Name: Close, dtype: float64"
      ]
     },
     "execution_count": 156,
     "metadata": {},
     "output_type": "execute_result"
    }
   ],
   "source": [
    "# 過去一週間のデータを取得\n",
    "td = datetime.timedelta(days=7)\n",
    "dt_first = df.index[0]\n",
    "dt_prev = dt_first - td\n",
    "df_last = ticker1.history(interval=\"1d\", start=str(dt_prev.date()))\n",
    "print(df_last[\"Close\"])\n",
    "n = len(df_last)\n",
    "lastclose = df_last[n - 2 : n - 1][\"Close\"].iloc[0]\n",
    "# lastclose = 44902.27 # 9/16 終値\n",
    "# 確認のため出力\n",
    "df_last[n - 2 : n - 1][\"Close\"]"
   ]
  },
  {
   "cell_type": "markdown",
   "id": "e41961ad-e3e5-4055-a368-6295b0c73219",
   "metadata": {},
   "source": [
    "### 当日始値 - 前日終値"
   ]
  },
  {
   "cell_type": "code",
   "execution_count": 157,
   "id": "0acbf95b-3e5c-4df6-a7dc-c3e4f82578af",
   "metadata": {},
   "outputs": [
    {
     "name": "stdout",
     "output_type": "stream",
     "text": [
      "+489.93\n"
     ]
    }
   ],
   "source": [
    "delta_open = df.head(1)[\"Open\"].iloc[0] - lastclose\n",
    "print(f\"{delta_open:+.2f}\")"
   ]
  },
  {
   "cell_type": "markdown",
   "id": "432d492c-6e58-46b6-8004-044d4419c02c",
   "metadata": {},
   "source": [
    "## ローソク足チャート（小さいサイズ）"
   ]
  },
  {
   "cell_type": "code",
   "execution_count": 158,
   "id": "f4d0b7d0-b14a-4bfd-949a-c03ee4a578a0",
   "metadata": {},
   "outputs": [
    {
     "data": {
      "image/png": "[encoded data removed]",
      "text/plain": [
       "<Figure size 300x180 with 1 Axes>"
      ]
     },
     "metadata": {},
     "output_type": "display_data"
    }
   ],
   "source": [
    "FONT_PATH = \"../fonts/RictyDiminished-Regular.ttf\"\n",
    "fm.fontManager.addfont(FONT_PATH)\n",
    "\n",
    "# FontPropertiesオブジェクト生成（名前の取得のため）\n",
    "font_prop = fm.FontProperties(fname=FONT_PATH)\n",
    "font_prop.get_name()\n",
    "\n",
    "plt.rcParams[\"font.family\"] = font_prop.get_name()\n",
    "plt.rcParams[\"font.size\"] = 8\n",
    "\n",
    "fig, ax = plt.subplots(figsize=(3, 1.8))\n",
    "\n",
    "ax.axhline(y=lastclose, color=\"red\", linewidth=0.75)\n",
    "mpf.plot(\n",
    "    df,\n",
    "    type=\"candle\",\n",
    "    style=\"default\",\n",
    "    datetime_format=\"%H:%M\",\n",
    "    xrotation=0,\n",
    "    update_width_config=dict(candle_linewidth=0.75),\n",
    "    ax=ax,\n",
    ")\n",
    "ax.yaxis.set_major_formatter(ticker.StrMethodFormatter('{x:,.0f}'))\n",
    "ax.set_ylabel(\"JPY\")\n",
    "ax.grid()\n",
    "\n",
    "if \"shortName\" in ticker1.info:\n",
    "    ax.set_title(f\"{ticker1.info['shortName']} ({symbol})\")\n",
    "elif \"longName\" in ticker1.info:\n",
    "    ax.set_title(f\"{ticker1.info['longName']} ({symbol})\")\n",
    "else:\n",
    "    ax.set_title(f\"{symbol}\")\n",
    "\n",
    "plt.tight_layout()\n",
    "plt.savefig(get_name_15min_chart(code, dt_first))\n",
    "plt.show()"
   ]
  },
  {
   "cell_type": "markdown",
   "id": "975de5bc-90ff-4c41-898a-0aa329c7576a",
   "metadata": {},
   "source": [
    "## ドル円レートで換算"
   ]
  },
  {
   "cell_type": "code",
   "execution_count": 159,
   "id": "f18e1ab8-e1be-4684-a805-0584f61e0488",
   "metadata": {},
   "outputs": [],
   "source": [
    "code2 = \"USDJPY=X\"\n",
    "symbol2 = code2\n",
    "ticker2 = yf.Ticker(symbol2)"
   ]
  },
  {
   "cell_type": "markdown",
   "id": "3d3c79b6-f705-4109-9b86-21f6c073df78",
   "metadata": {},
   "source": [
    "### 過去２日分のドル円レートの過去データを取得"
   ]
  },
  {
   "cell_type": "code",
   "execution_count": 160,
   "id": "da50dc67-a62c-4db4-9e26-71abcd1ab12d",
   "metadata": {},
   "outputs": [
    {
     "data": {
      "text/html": [
       "<div>\n",
       "<style scoped>\n",
       "    .dataframe tbody tr th:only-of-type {\n",
       "        vertical-align: middle;\n",
       "    }\n",
       "\n",
       "    .dataframe tbody tr th {\n",
       "        vertical-align: top;\n",
       "    }\n",
       "\n",
       "    .dataframe thead th {\n",
       "        text-align: right;\n",
       "    }\n",
       "</style>\n",
       "<table border=\"1\" class=\"dataframe\">\n",
       "  <thead>\n",
       "    <tr style=\"text-align: right;\">\n",
       "      <th></th>\n",
       "      <th>Open</th>\n",
       "      <th>High</th>\n",
       "      <th>Low</th>\n",
       "      <th>Close</th>\n",
       "      <th>Volume</th>\n",
       "      <th>Dividends</th>\n",
       "      <th>Stock Splits</th>\n",
       "    </tr>\n",
       "    <tr>\n",
       "      <th>Datetime</th>\n",
       "      <th></th>\n",
       "      <th></th>\n",
       "      <th></th>\n",
       "      <th></th>\n",
       "      <th></th>\n",
       "      <th></th>\n",
       "      <th></th>\n",
       "    </tr>\n",
       "  </thead>\n",
       "  <tbody>\n",
       "    <tr>\n",
       "      <th>2025-10-20 08:00:00+09:00</th>\n",
       "      <td>150.822998</td>\n",
       "      <td>150.940002</td>\n",
       "      <td>150.815002</td>\n",
       "      <td>150.927994</td>\n",
       "      <td>0</td>\n",
       "      <td>0.0</td>\n",
       "      <td>0.0</td>\n",
       "    </tr>\n",
       "    <tr>\n",
       "      <th>2025-10-20 08:15:00+09:00</th>\n",
       "      <td>150.929993</td>\n",
       "      <td>150.964996</td>\n",
       "      <td>150.813995</td>\n",
       "      <td>150.832993</td>\n",
       "      <td>0</td>\n",
       "      <td>0.0</td>\n",
       "      <td>0.0</td>\n",
       "    </tr>\n",
       "    <tr>\n",
       "      <th>2025-10-20 08:30:00+09:00</th>\n",
       "      <td>150.835007</td>\n",
       "      <td>150.912003</td>\n",
       "      <td>150.820999</td>\n",
       "      <td>150.848999</td>\n",
       "      <td>0</td>\n",
       "      <td>0.0</td>\n",
       "      <td>0.0</td>\n",
       "    </tr>\n",
       "    <tr>\n",
       "      <th>2025-10-20 08:45:00+09:00</th>\n",
       "      <td>150.839996</td>\n",
       "      <td>150.938995</td>\n",
       "      <td>150.798004</td>\n",
       "      <td>150.917007</td>\n",
       "      <td>0</td>\n",
       "      <td>0.0</td>\n",
       "      <td>0.0</td>\n",
       "    </tr>\n",
       "    <tr>\n",
       "      <th>2025-10-20 09:00:00+09:00</th>\n",
       "      <td>150.912994</td>\n",
       "      <td>150.975006</td>\n",
       "      <td>150.811005</td>\n",
       "      <td>150.882004</td>\n",
       "      <td>0</td>\n",
       "      <td>0.0</td>\n",
       "      <td>0.0</td>\n",
       "    </tr>\n",
       "    <tr>\n",
       "      <th>...</th>\n",
       "      <td>...</td>\n",
       "      <td>...</td>\n",
       "      <td>...</td>\n",
       "      <td>...</td>\n",
       "      <td>...</td>\n",
       "      <td>...</td>\n",
       "      <td>...</td>\n",
       "    </tr>\n",
       "    <tr>\n",
       "      <th>2025-10-21 10:15:00+09:00</th>\n",
       "      <td>150.636002</td>\n",
       "      <td>150.738007</td>\n",
       "      <td>150.567001</td>\n",
       "      <td>150.731995</td>\n",
       "      <td>0</td>\n",
       "      <td>0.0</td>\n",
       "      <td>0.0</td>\n",
       "    </tr>\n",
       "    <tr>\n",
       "      <th>2025-10-21 10:30:00+09:00</th>\n",
       "      <td>150.733002</td>\n",
       "      <td>150.897995</td>\n",
       "      <td>150.671005</td>\n",
       "      <td>150.873993</td>\n",
       "      <td>0</td>\n",
       "      <td>0.0</td>\n",
       "      <td>0.0</td>\n",
       "    </tr>\n",
       "    <tr>\n",
       "      <th>2025-10-21 10:45:00+09:00</th>\n",
       "      <td>150.880997</td>\n",
       "      <td>150.994003</td>\n",
       "      <td>150.850998</td>\n",
       "      <td>150.975006</td>\n",
       "      <td>0</td>\n",
       "      <td>0.0</td>\n",
       "      <td>0.0</td>\n",
       "    </tr>\n",
       "    <tr>\n",
       "      <th>2025-10-21 11:00:00+09:00</th>\n",
       "      <td>150.973999</td>\n",
       "      <td>151.115997</td>\n",
       "      <td>150.957001</td>\n",
       "      <td>150.990997</td>\n",
       "      <td>0</td>\n",
       "      <td>0.0</td>\n",
       "      <td>0.0</td>\n",
       "    </tr>\n",
       "    <tr>\n",
       "      <th>2025-10-21 11:15:00+09:00</th>\n",
       "      <td>150.985992</td>\n",
       "      <td>151.044006</td>\n",
       "      <td>150.975998</td>\n",
       "      <td>151.020004</td>\n",
       "      <td>0</td>\n",
       "      <td>0.0</td>\n",
       "      <td>0.0</td>\n",
       "    </tr>\n",
       "  </tbody>\n",
       "</table>\n",
       "<p>110 rows × 7 columns</p>\n",
       "</div>"
      ],
      "text/plain": [
       "                                 Open        High         Low       Close  \\\n",
       "Datetime                                                                    \n",
       "2025-10-20 08:00:00+09:00  150.822998  150.940002  150.815002  150.927994   \n",
       "2025-10-20 08:15:00+09:00  150.929993  150.964996  150.813995  150.832993   \n",
       "2025-10-20 08:30:00+09:00  150.835007  150.912003  150.820999  150.848999   \n",
       "2025-10-20 08:45:00+09:00  150.839996  150.938995  150.798004  150.917007   \n",
       "2025-10-20 09:00:00+09:00  150.912994  150.975006  150.811005  150.882004   \n",
       "...                               ...         ...         ...         ...   \n",
       "2025-10-21 10:15:00+09:00  150.636002  150.738007  150.567001  150.731995   \n",
       "2025-10-21 10:30:00+09:00  150.733002  150.897995  150.671005  150.873993   \n",
       "2025-10-21 10:45:00+09:00  150.880997  150.994003  150.850998  150.975006   \n",
       "2025-10-21 11:00:00+09:00  150.973999  151.115997  150.957001  150.990997   \n",
       "2025-10-21 11:15:00+09:00  150.985992  151.044006  150.975998  151.020004   \n",
       "\n",
       "                           Volume  Dividends  Stock Splits  \n",
       "Datetime                                                    \n",
       "2025-10-20 08:00:00+09:00       0        0.0           0.0  \n",
       "2025-10-20 08:15:00+09:00       0        0.0           0.0  \n",
       "2025-10-20 08:30:00+09:00       0        0.0           0.0  \n",
       "2025-10-20 08:45:00+09:00       0        0.0           0.0  \n",
       "2025-10-20 09:00:00+09:00       0        0.0           0.0  \n",
       "...                           ...        ...           ...  \n",
       "2025-10-21 10:15:00+09:00       0        0.0           0.0  \n",
       "2025-10-21 10:30:00+09:00       0        0.0           0.0  \n",
       "2025-10-21 10:45:00+09:00       0        0.0           0.0  \n",
       "2025-10-21 11:00:00+09:00       0        0.0           0.0  \n",
       "2025-10-21 11:15:00+09:00       0        0.0           0.0  \n",
       "\n",
       "[110 rows x 7 columns]"
      ]
     },
     "execution_count": 160,
     "metadata": {},
     "output_type": "execute_result"
    }
   ],
   "source": [
    "# 15分足で過去 2 日分のデータを取得\n",
    "df_exchange = ticker2.history(period=\"2d\", interval=\"15m\")\n",
    "df_exchange.index = df_exchange.index.tz_convert(\"Asia/Tokyo\")\n",
    "df_exchange"
   ]
  },
  {
   "cell_type": "markdown",
   "id": "3bdb0d3e-7c5b-4d00-8ef6-a79d243141ce",
   "metadata": {},
   "source": [
    "### 15分足の Close のドル円レートで一括割る"
   ]
  },
  {
   "cell_type": "code",
   "execution_count": 161,
   "id": "f78f11ba-0261-41ae-b3fa-fdc3d7c2caff",
   "metadata": {},
   "outputs": [
    {
     "data": {
      "text/html": [
       "<div>\n",
       "<style scoped>\n",
       "    .dataframe tbody tr th:only-of-type {\n",
       "        vertical-align: middle;\n",
       "    }\n",
       "\n",
       "    .dataframe tbody tr th {\n",
       "        vertical-align: top;\n",
       "    }\n",
       "\n",
       "    .dataframe thead th {\n",
       "        text-align: right;\n",
       "    }\n",
       "</style>\n",
       "<table border=\"1\" class=\"dataframe\">\n",
       "  <thead>\n",
       "    <tr style=\"text-align: right;\">\n",
       "      <th></th>\n",
       "      <th>Open</th>\n",
       "      <th>High</th>\n",
       "      <th>Low</th>\n",
       "      <th>Close</th>\n",
       "    </tr>\n",
       "    <tr>\n",
       "      <th>Datetime</th>\n",
       "      <th></th>\n",
       "      <th></th>\n",
       "      <th></th>\n",
       "      <th></th>\n",
       "    </tr>\n",
       "  </thead>\n",
       "  <tbody>\n",
       "    <tr>\n",
       "      <th>2025-10-21 09:00:00+09:00</th>\n",
       "      <td>329.850117</td>\n",
       "      <td>330.277289</td>\n",
       "      <td>328.337911</td>\n",
       "      <td>328.896588</td>\n",
       "    </tr>\n",
       "    <tr>\n",
       "      <th>2025-10-21 09:15:00+09:00</th>\n",
       "      <td>328.727111</td>\n",
       "      <td>329.885990</td>\n",
       "      <td>328.727111</td>\n",
       "      <td>329.617547</td>\n",
       "    </tr>\n",
       "    <tr>\n",
       "      <th>2025-10-21 09:30:00+09:00</th>\n",
       "      <td>329.878865</td>\n",
       "      <td>330.355435</td>\n",
       "      <td>329.281752</td>\n",
       "      <td>330.271268</td>\n",
       "    </tr>\n",
       "    <tr>\n",
       "      <th>2025-10-21 09:45:00+09:00</th>\n",
       "      <td>330.051300</td>\n",
       "      <td>330.524886</td>\n",
       "      <td>329.786309</td>\n",
       "      <td>330.463487</td>\n",
       "    </tr>\n",
       "    <tr>\n",
       "      <th>2025-10-21 10:00:00+09:00</th>\n",
       "      <td>330.526981</td>\n",
       "      <td>330.951390</td>\n",
       "      <td>329.975165</td>\n",
       "      <td>329.975165</td>\n",
       "    </tr>\n",
       "    <tr>\n",
       "      <th>2025-10-21 10:15:00+09:00</th>\n",
       "      <td>329.764226</td>\n",
       "      <td>330.418766</td>\n",
       "      <td>329.764226</td>\n",
       "      <td>330.328866</td>\n",
       "    </tr>\n",
       "    <tr>\n",
       "      <th>2025-10-21 10:30:00+09:00</th>\n",
       "      <td>330.023951</td>\n",
       "      <td>330.635259</td>\n",
       "      <td>329.955340</td>\n",
       "      <td>330.620268</td>\n",
       "    </tr>\n",
       "    <tr>\n",
       "      <th>2025-10-21 10:45:00+09:00</th>\n",
       "      <td>330.413031</td>\n",
       "      <td>330.599294</td>\n",
       "      <td>330.237971</td>\n",
       "      <td>330.321568</td>\n",
       "    </tr>\n",
       "    <tr>\n",
       "      <th>2025-10-21 11:00:00+09:00</th>\n",
       "      <td>330.290698</td>\n",
       "      <td>330.482762</td>\n",
       "      <td>330.290698</td>\n",
       "      <td>330.438782</td>\n",
       "    </tr>\n",
       "  </tbody>\n",
       "</table>\n",
       "</div>"
      ],
      "text/plain": [
       "                                 Open        High         Low       Close\n",
       "Datetime                                                                 \n",
       "2025-10-21 09:00:00+09:00  329.850117  330.277289  328.337911  328.896588\n",
       "2025-10-21 09:15:00+09:00  328.727111  329.885990  328.727111  329.617547\n",
       "2025-10-21 09:30:00+09:00  329.878865  330.355435  329.281752  330.271268\n",
       "2025-10-21 09:45:00+09:00  330.051300  330.524886  329.786309  330.463487\n",
       "2025-10-21 10:00:00+09:00  330.526981  330.951390  329.975165  329.975165\n",
       "2025-10-21 10:15:00+09:00  329.764226  330.418766  329.764226  330.328866\n",
       "2025-10-21 10:30:00+09:00  330.023951  330.635259  329.955340  330.620268\n",
       "2025-10-21 10:45:00+09:00  330.413031  330.599294  330.237971  330.321568\n",
       "2025-10-21 11:00:00+09:00  330.290698  330.482762  330.290698  330.438782"
      ]
     },
     "execution_count": 161,
     "metadata": {},
     "output_type": "execute_result"
    }
   ],
   "source": [
    "ser_rate = df_exchange.loc[df.index, \"Close\"]\n",
    "ser_rate\n",
    "df2 = pd.DataFrame()\n",
    "df2[\"Open\"] = df[\"Open\"] / ser_rate\n",
    "df2[\"High\"] = df[\"High\"] / ser_rate\n",
    "df2[\"Low\"] = df[\"Low\"] / ser_rate\n",
    "df2[\"Close\"] = df[\"Close\"] / ser_rate\n",
    "df2"
   ]
  },
  {
   "cell_type": "markdown",
   "id": "3c20e929-430e-4b75-9b16-23408c6e40cd",
   "metadata": {},
   "source": [
    "### 前日の終値のドル円レートから、前日の終値のドル換算"
   ]
  },
  {
   "cell_type": "code",
   "execution_count": 162,
   "id": "38669de5-6f50-44b1-ad01-33a722573c02",
   "metadata": {},
   "outputs": [
    {
     "name": "stdout",
     "output_type": "stream",
     "text": [
      "2025-10-20 15:15:00+09:00\n"
     ]
    },
    {
     "data": {
      "text/plain": [
       "np.float64(150.6540069580078)"
      ]
     },
     "execution_count": 162,
     "metadata": {},
     "output_type": "execute_result"
    }
   ],
   "source": [
    "dt = df_exchange.head(1).index[0]\n",
    "dt_last_close = pd.to_datetime(f\"{str(dt.date())} 15:15:00+09:00\")\n",
    "print(dt_last_close)\n",
    "last_close_usd = df_exchange.loc[dt_last_close, \"Close\"]\n",
    "last_close_usd"
   ]
  },
  {
   "cell_type": "markdown",
   "id": "7bd6776f-5a42-4d76-8ad5-a8de55eebc09",
   "metadata": {},
   "source": [
    "## ローソク足チャート（小さいサイズ）/ ドル換算チャート"
   ]
  },
  {
   "cell_type": "code",
   "execution_count": 163,
   "id": "67fd86b9-2b36-4dee-aac2-157c7d5db22a",
   "metadata": {},
   "outputs": [
    {
     "name": "stdout",
     "output_type": "stream",
     "text": [
      "前日終値（ドル換算） 326.4798659733598\n"
     ]
    },
    {
     "data": {
      "image/png": "[encoded data removed]",
      "text/plain": [
       "<Figure size 300x180 with 1 Axes>"
      ]
     },
     "metadata": {},
     "output_type": "display_data"
    }
   ],
   "source": [
    "FONT_PATH = \"../fonts/RictyDiminished-Regular.ttf\"\n",
    "fm.fontManager.addfont(FONT_PATH)\n",
    "\n",
    "# FontPropertiesオブジェクト生成（名前の取得のため）\n",
    "font_prop = fm.FontProperties(fname=FONT_PATH)\n",
    "font_prop.get_name()\n",
    "\n",
    "plt.rcParams[\"font.family\"] = font_prop.get_name()\n",
    "plt.rcParams[\"font.size\"] = 8\n",
    "\n",
    "fig, ax = plt.subplots(figsize=(3, 1.8))\n",
    "\n",
    "ax.axhline(y=lastclose / last_close_usd, color=\"red\", linewidth=0.75)\n",
    "print(\"前日終値（ドル換算）\", lastclose / last_close_usd)\n",
    "mpf.plot(\n",
    "    df2,\n",
    "    type=\"candle\",\n",
    "    style=\"default\",\n",
    "    datetime_format=\"%H:%M\",\n",
    "    xrotation=0,\n",
    "    update_width_config=dict(candle_linewidth=0.75),\n",
    "    ax=ax,\n",
    ")\n",
    "ax.yaxis.set_major_formatter(ticker.StrMethodFormatter('{x:,.2f}'))\n",
    "ax.set_ylabel(\"USD\")\n",
    "ax.grid()\n",
    "\n",
    "if \"shortName\" in ticker1.info:\n",
    "    ax.set_title(f\"{ticker1.info['shortName']} ({symbol}) in USD\")\n",
    "elif \"longName\" in ticker1.info:\n",
    "    ax.set_title(f\"{ticker1.info['longName']} ({symbol}) in USD\")\n",
    "else:\n",
    "    ax.set_title(f\"{symbol}\")\n",
    "\n",
    "plt.tight_layout()\n",
    "plt.savefig(get_name_15min_chart_usd(code, dt_first))\n",
    "plt.show()"
   ]
  },
  {
   "cell_type": "code",
   "execution_count": null,
   "id": "11e86162-6fff-4049-922a-58818d5980e4",
   "metadata": {},
   "outputs": [],
   "source": []
  }
 ],
 "metadata": {
  "kernelspec": {
   "display_name": "Python 3 (ipykernel)",
   "language": "python",
   "name": "python3"
  },
  "language_info": {
   "codemirror_mode": {
    "name": "ipython",
    "version": 3
   },
   "file_extension": ".py",
   "mimetype": "text/x-python",
   "name": "python",
   "nbconvert_exporter": "python",
   "pygments_lexer": "ipython3",
   "version": "3.13.7"
  }
 },
 "nbformat": 4,
 "nbformat_minor": 5
}
