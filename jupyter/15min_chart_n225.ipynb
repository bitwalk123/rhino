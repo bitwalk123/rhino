{
 "cells": [
  {
   "cell_type": "markdown",
   "id": "07ceea52-6536-47e0-81aa-30c017b5bfc5",
   "metadata": {},
   "source": [
    "# 日経平均株価 15分足"
   ]
  },
  {
   "cell_type": "markdown",
   "id": "8a363236-5477-4a61-99da-bf92362631f4",
   "metadata": {},
   "source": [
    "### 一つ上のディレクトリをパスに追加"
   ]
  },
  {
   "cell_type": "code",
   "execution_count": 91,
   "id": "f1f6d8b7-4107-4a29-ae60-f3cbfa1f5a38",
   "metadata": {},
   "outputs": [],
   "source": [
    "import sys\n",
    "\n",
    "path_up = \"..\"\n",
    "if not path_up in sys.path:\n",
    "    sys.path.append(path_up)"
   ]
  },
  {
   "cell_type": "markdown",
   "id": "19d64844-3cbf-4a92-827e-43c425e34eb6",
   "metadata": {},
   "source": [
    "### ライブラリをここで一括インポート"
   ]
  },
  {
   "cell_type": "code",
   "execution_count": 92,
   "id": "3421a3f8-52ac-41e8-8e08-921ddaa4b37a",
   "metadata": {},
   "outputs": [],
   "source": [
    "import datetime\n",
    "\n",
    "import matplotlib.font_manager as fm\n",
    "import matplotlib.pyplot as plt\n",
    "import matplotlib.ticker as ticker\n",
    "import mplfinance as mpf\n",
    "import numpy as np\n",
    "import pandas as pd\n",
    "import yfinance as yf\n",
    "\n",
    "from funcs.commons import (\n",
    "    get_name_15min_chart,\n",
    "    get_name_15min_chart_now,\n",
    "    get_name_15min_chart_usd,\n",
    ")"
   ]
  },
  {
   "cell_type": "markdown",
   "id": "8efa7b4f-c5a5-45df-bcbc-c689517b5fb2",
   "metadata": {},
   "source": [
    "## yfinance による株価データの取得"
   ]
  },
  {
   "cell_type": "code",
   "execution_count": 93,
   "id": "513d138a-5223-48b6-868d-a4e49a86c6b6",
   "metadata": {},
   "outputs": [
    {
     "data": {
      "text/html": [
       "<div>\n",
       "<style scoped>\n",
       "    .dataframe tbody tr th:only-of-type {\n",
       "        vertical-align: middle;\n",
       "    }\n",
       "\n",
       "    .dataframe tbody tr th {\n",
       "        vertical-align: top;\n",
       "    }\n",
       "\n",
       "    .dataframe thead th {\n",
       "        text-align: right;\n",
       "    }\n",
       "</style>\n",
       "<table border=\"1\" class=\"dataframe\">\n",
       "  <thead>\n",
       "    <tr style=\"text-align: right;\">\n",
       "      <th></th>\n",
       "      <th>Open</th>\n",
       "      <th>High</th>\n",
       "      <th>Low</th>\n",
       "      <th>Close</th>\n",
       "      <th>Volume</th>\n",
       "      <th>Dividends</th>\n",
       "      <th>Stock Splits</th>\n",
       "    </tr>\n",
       "    <tr>\n",
       "      <th>Datetime</th>\n",
       "      <th></th>\n",
       "      <th></th>\n",
       "      <th></th>\n",
       "      <th></th>\n",
       "      <th></th>\n",
       "      <th></th>\n",
       "      <th></th>\n",
       "    </tr>\n",
       "  </thead>\n",
       "  <tbody>\n",
       "    <tr>\n",
       "      <th>2025-10-09 09:00:00+09:00</th>\n",
       "      <td>48035.421875</td>\n",
       "      <td>48179.000000</td>\n",
       "      <td>47995.218750</td>\n",
       "      <td>48075.308594</td>\n",
       "      <td>0</td>\n",
       "      <td>0.0</td>\n",
       "      <td>0.0</td>\n",
       "    </tr>\n",
       "    <tr>\n",
       "      <th>2025-10-09 09:15:00+09:00</th>\n",
       "      <td>48076.679688</td>\n",
       "      <td>48334.851562</td>\n",
       "      <td>48062.488281</td>\n",
       "      <td>48280.550781</td>\n",
       "      <td>0</td>\n",
       "      <td>0.0</td>\n",
       "      <td>0.0</td>\n",
       "    </tr>\n",
       "    <tr>\n",
       "      <th>2025-10-09 09:30:00+09:00</th>\n",
       "      <td>48276.128906</td>\n",
       "      <td>48362.628906</td>\n",
       "      <td>48244.218750</td>\n",
       "      <td>48247.828125</td>\n",
       "      <td>0</td>\n",
       "      <td>0.0</td>\n",
       "      <td>0.0</td>\n",
       "    </tr>\n",
       "    <tr>\n",
       "      <th>2025-10-09 09:45:00+09:00</th>\n",
       "      <td>48245.808594</td>\n",
       "      <td>48423.179688</td>\n",
       "      <td>48245.808594</td>\n",
       "      <td>48415.339844</td>\n",
       "      <td>0</td>\n",
       "      <td>0.0</td>\n",
       "      <td>0.0</td>\n",
       "    </tr>\n",
       "    <tr>\n",
       "      <th>2025-10-09 10:00:00+09:00</th>\n",
       "      <td>48408.359375</td>\n",
       "      <td>48435.851562</td>\n",
       "      <td>48354.378906</td>\n",
       "      <td>48435.851562</td>\n",
       "      <td>0</td>\n",
       "      <td>0.0</td>\n",
       "      <td>0.0</td>\n",
       "    </tr>\n",
       "  </tbody>\n",
       "</table>\n",
       "</div>"
      ],
      "text/plain": [
       "                                   Open          High           Low  \\\n",
       "Datetime                                                              \n",
       "2025-10-09 09:00:00+09:00  48035.421875  48179.000000  47995.218750   \n",
       "2025-10-09 09:15:00+09:00  48076.679688  48334.851562  48062.488281   \n",
       "2025-10-09 09:30:00+09:00  48276.128906  48362.628906  48244.218750   \n",
       "2025-10-09 09:45:00+09:00  48245.808594  48423.179688  48245.808594   \n",
       "2025-10-09 10:00:00+09:00  48408.359375  48435.851562  48354.378906   \n",
       "\n",
       "                                  Close  Volume  Dividends  Stock Splits  \n",
       "Datetime                                                                  \n",
       "2025-10-09 09:00:00+09:00  48075.308594       0        0.0           0.0  \n",
       "2025-10-09 09:15:00+09:00  48280.550781       0        0.0           0.0  \n",
       "2025-10-09 09:30:00+09:00  48247.828125       0        0.0           0.0  \n",
       "2025-10-09 09:45:00+09:00  48415.339844       0        0.0           0.0  \n",
       "2025-10-09 10:00:00+09:00  48435.851562       0        0.0           0.0  "
      ]
     },
     "execution_count": 93,
     "metadata": {},
     "output_type": "execute_result"
    }
   ],
   "source": [
    "code = \"N225\"\n",
    "symbol = f\"^{code}\"\n",
    "ticker1 = yf.Ticker(symbol)\n",
    "df = ticker1.history(period=\"1d\", interval=\"15m\")\n",
    "df"
   ]
  },
  {
   "cell_type": "markdown",
   "id": "2b974883-632b-43cf-8f1b-9f3e4cededdd",
   "metadata": {},
   "source": [
    "## 前日終値の取得"
   ]
  },
  {
   "cell_type": "code",
   "execution_count": 94,
   "id": "cf79a23f-ac87-47e6-bd34-0746a65c86f9",
   "metadata": {},
   "outputs": [
    {
     "name": "stdout",
     "output_type": "stream",
     "text": [
      "Date\n",
      "2025-10-02 00:00:00+09:00    44936.730469\n",
      "2025-10-03 00:00:00+09:00    45769.500000\n",
      "2025-10-06 00:00:00+09:00    47944.761719\n",
      "2025-10-07 00:00:00+09:00    47950.878906\n",
      "2025-10-09 00:00:00+09:00    48435.851562\n",
      "Name: Close, dtype: float64\n"
     ]
    },
    {
     "data": {
      "text/plain": [
       "Date\n",
       "2025-10-07 00:00:00+09:00    47950.878906\n",
       "Name: Close, dtype: float64"
      ]
     },
     "execution_count": 94,
     "metadata": {},
     "output_type": "execute_result"
    }
   ],
   "source": [
    "# 過去一週間のデータを取得\n",
    "td = datetime.timedelta(days=7)\n",
    "dt_first = df.index[0]\n",
    "dt_prev = dt_first - td\n",
    "df_last = ticker1.history(interval=\"1d\", start=str(dt_prev.date()))\n",
    "print(df_last[\"Close\"])\n",
    "n = len(df_last)\n",
    "lastclose = df_last[n - 2 : n - 1][\"Close\"].iloc[0]\n",
    "# lastclose = 44902.27 # 9/16 終値\n",
    "# 確認のため出力\n",
    "df_last[n - 2 : n - 1][\"Close\"]"
   ]
  },
  {
   "cell_type": "markdown",
   "id": "e41961ad-e3e5-4055-a368-6295b0c73219",
   "metadata": {},
   "source": [
    "### 当日始値 - 前日終値"
   ]
  },
  {
   "cell_type": "code",
   "execution_count": 95,
   "id": "0acbf95b-3e5c-4df6-a7dc-c3e4f82578af",
   "metadata": {},
   "outputs": [
    {
     "name": "stdout",
     "output_type": "stream",
     "text": [
      "+84.54\n"
     ]
    }
   ],
   "source": [
    "delta_open = df.head(1)[\"Open\"].iloc[0] - lastclose\n",
    "print(f\"{delta_open:+.2f}\")"
   ]
  },
  {
   "cell_type": "markdown",
   "id": "432d492c-6e58-46b6-8004-044d4419c02c",
   "metadata": {},
   "source": [
    "## ローソク足チャート（小さいサイズ）"
   ]
  },
  {
   "cell_type": "code",
   "execution_count": 96,
   "id": "f4d0b7d0-b14a-4bfd-949a-c03ee4a578a0",
   "metadata": {},
   "outputs": [
    {
     "data": {
      "image/png": "[encoded data removed]",
      "text/plain": [
       "<Figure size 300x180 with 1 Axes>"
      ]
     },
     "metadata": {},
     "output_type": "display_data"
    }
   ],
   "source": [
    "FONT_PATH = \"../fonts/RictyDiminished-Regular.ttf\"\n",
    "fm.fontManager.addfont(FONT_PATH)\n",
    "\n",
    "# FontPropertiesオブジェクト生成（名前の取得のため）\n",
    "font_prop = fm.FontProperties(fname=FONT_PATH)\n",
    "font_prop.get_name()\n",
    "\n",
    "plt.rcParams[\"font.family\"] = font_prop.get_name()\n",
    "plt.rcParams[\"font.size\"] = 8\n",
    "\n",
    "fig, ax = plt.subplots(figsize=(3, 1.8))\n",
    "mpf.plot(\n",
    "    df,\n",
    "    type=\"candle\",\n",
    "    style=\"default\",\n",
    "    datetime_format=\"%H:%M\",\n",
    "    xrotation=0,\n",
    "    update_width_config=dict(candle_linewidth=0.75),\n",
    "    ax=ax,\n",
    ")\n",
    "ax.axhline(y=lastclose, color=\"red\", linewidth=0.75)\n",
    "ax.yaxis.set_major_formatter(ticker.StrMethodFormatter('{x:,.0f}'))\n",
    "ax.set_ylabel(\"JPY\")\n",
    "ax.grid()\n",
    "\n",
    "if \"shortName\" in ticker1.info:\n",
    "    ax.set_title(f\"{ticker1.info['shortName']} ({symbol})\")\n",
    "elif \"longName\" in ticker1.info:\n",
    "    ax.set_title(f\"{ticker1.info['longName']} ({symbol})\")\n",
    "else:\n",
    "    ax.set_title(f\"{symbol}\")\n",
    "\n",
    "plt.tight_layout()\n",
    "plt.savefig(get_name_15min_chart(code, dt_first))\n",
    "plt.show()"
   ]
  },
  {
   "cell_type": "markdown",
   "id": "975de5bc-90ff-4c41-898a-0aa329c7576a",
   "metadata": {},
   "source": [
    "## ドル円レートで換算"
   ]
  },
  {
   "cell_type": "code",
   "execution_count": 97,
   "id": "f18e1ab8-e1be-4684-a805-0584f61e0488",
   "metadata": {},
   "outputs": [],
   "source": [
    "code2 = \"USDJPY=X\"\n",
    "symbol2 = code2\n",
    "ticker2 = yf.Ticker(symbol2)"
   ]
  },
  {
   "cell_type": "markdown",
   "id": "3d3c79b6-f705-4109-9b86-21f6c073df78",
   "metadata": {},
   "source": [
    "### 過去２日分のドル円レートの過去データを取得"
   ]
  },
  {
   "cell_type": "code",
   "execution_count": 98,
   "id": "da50dc67-a62c-4db4-9e26-71abcd1ab12d",
   "metadata": {},
   "outputs": [
    {
     "data": {
      "text/html": [
       "<div>\n",
       "<style scoped>\n",
       "    .dataframe tbody tr th:only-of-type {\n",
       "        vertical-align: middle;\n",
       "    }\n",
       "\n",
       "    .dataframe tbody tr th {\n",
       "        vertical-align: top;\n",
       "    }\n",
       "\n",
       "    .dataframe thead th {\n",
       "        text-align: right;\n",
       "    }\n",
       "</style>\n",
       "<table border=\"1\" class=\"dataframe\">\n",
       "  <thead>\n",
       "    <tr style=\"text-align: right;\">\n",
       "      <th></th>\n",
       "      <th>Open</th>\n",
       "      <th>High</th>\n",
       "      <th>Low</th>\n",
       "      <th>Close</th>\n",
       "      <th>Volume</th>\n",
       "      <th>Dividends</th>\n",
       "      <th>Stock Splits</th>\n",
       "    </tr>\n",
       "    <tr>\n",
       "      <th>Datetime</th>\n",
       "      <th></th>\n",
       "      <th></th>\n",
       "      <th></th>\n",
       "      <th></th>\n",
       "      <th></th>\n",
       "      <th></th>\n",
       "      <th></th>\n",
       "    </tr>\n",
       "  </thead>\n",
       "  <tbody>\n",
       "    <tr>\n",
       "      <th>2025-10-08 08:00:00+09:00</th>\n",
       "      <td>151.809006</td>\n",
       "      <td>151.964005</td>\n",
       "      <td>151.787994</td>\n",
       "      <td>151.955002</td>\n",
       "      <td>0</td>\n",
       "      <td>0.0</td>\n",
       "      <td>0.0</td>\n",
       "    </tr>\n",
       "    <tr>\n",
       "      <th>2025-10-08 08:15:00+09:00</th>\n",
       "      <td>151.949997</td>\n",
       "      <td>152.093002</td>\n",
       "      <td>151.917007</td>\n",
       "      <td>151.955002</td>\n",
       "      <td>0</td>\n",
       "      <td>0.0</td>\n",
       "      <td>0.0</td>\n",
       "    </tr>\n",
       "    <tr>\n",
       "      <th>2025-10-08 08:30:00+09:00</th>\n",
       "      <td>151.957001</td>\n",
       "      <td>152.031006</td>\n",
       "      <td>151.923996</td>\n",
       "      <td>151.977005</td>\n",
       "      <td>0</td>\n",
       "      <td>0.0</td>\n",
       "      <td>0.0</td>\n",
       "    </tr>\n",
       "    <tr>\n",
       "      <th>2025-10-08 08:45:00+09:00</th>\n",
       "      <td>151.973007</td>\n",
       "      <td>152.070999</td>\n",
       "      <td>151.953995</td>\n",
       "      <td>152.054993</td>\n",
       "      <td>0</td>\n",
       "      <td>0.0</td>\n",
       "      <td>0.0</td>\n",
       "    </tr>\n",
       "    <tr>\n",
       "      <th>2025-10-08 09:00:00+09:00</th>\n",
       "      <td>152.052002</td>\n",
       "      <td>152.335999</td>\n",
       "      <td>152.052002</td>\n",
       "      <td>152.261002</td>\n",
       "      <td>0</td>\n",
       "      <td>0.0</td>\n",
       "      <td>0.0</td>\n",
       "    </tr>\n",
       "    <tr>\n",
       "      <th>...</th>\n",
       "      <td>...</td>\n",
       "      <td>...</td>\n",
       "      <td>...</td>\n",
       "      <td>...</td>\n",
       "      <td>...</td>\n",
       "      <td>...</td>\n",
       "      <td>...</td>\n",
       "    </tr>\n",
       "    <tr>\n",
       "      <th>2025-10-09 09:15:00+09:00</th>\n",
       "      <td>152.604996</td>\n",
       "      <td>152.630997</td>\n",
       "      <td>152.473999</td>\n",
       "      <td>152.548996</td>\n",
       "      <td>0</td>\n",
       "      <td>0.0</td>\n",
       "      <td>0.0</td>\n",
       "    </tr>\n",
       "    <tr>\n",
       "      <th>2025-10-09 09:30:00+09:00</th>\n",
       "      <td>152.546997</td>\n",
       "      <td>152.557999</td>\n",
       "      <td>152.449997</td>\n",
       "      <td>152.533005</td>\n",
       "      <td>0</td>\n",
       "      <td>0.0</td>\n",
       "      <td>0.0</td>\n",
       "    </tr>\n",
       "    <tr>\n",
       "      <th>2025-10-09 09:45:00+09:00</th>\n",
       "      <td>152.531998</td>\n",
       "      <td>152.705002</td>\n",
       "      <td>152.511993</td>\n",
       "      <td>152.699005</td>\n",
       "      <td>0</td>\n",
       "      <td>0.0</td>\n",
       "      <td>0.0</td>\n",
       "    </tr>\n",
       "    <tr>\n",
       "      <th>2025-10-09 10:00:00+09:00</th>\n",
       "      <td>152.701996</td>\n",
       "      <td>152.764999</td>\n",
       "      <td>152.574997</td>\n",
       "      <td>152.636993</td>\n",
       "      <td>0</td>\n",
       "      <td>0.0</td>\n",
       "      <td>0.0</td>\n",
       "    </tr>\n",
       "    <tr>\n",
       "      <th>2025-10-09 10:15:00+09:00</th>\n",
       "      <td>152.636002</td>\n",
       "      <td>152.643005</td>\n",
       "      <td>152.481003</td>\n",
       "      <td>152.488998</td>\n",
       "      <td>0</td>\n",
       "      <td>0.0</td>\n",
       "      <td>0.0</td>\n",
       "    </tr>\n",
       "  </tbody>\n",
       "</table>\n",
       "<p>99 rows × 7 columns</p>\n",
       "</div>"
      ],
      "text/plain": [
       "                                 Open        High         Low       Close  \\\n",
       "Datetime                                                                    \n",
       "2025-10-08 08:00:00+09:00  151.809006  151.964005  151.787994  151.955002   \n",
       "2025-10-08 08:15:00+09:00  151.949997  152.093002  151.917007  151.955002   \n",
       "2025-10-08 08:30:00+09:00  151.957001  152.031006  151.923996  151.977005   \n",
       "2025-10-08 08:45:00+09:00  151.973007  152.070999  151.953995  152.054993   \n",
       "2025-10-08 09:00:00+09:00  152.052002  152.335999  152.052002  152.261002   \n",
       "...                               ...         ...         ...         ...   \n",
       "2025-10-09 09:15:00+09:00  152.604996  152.630997  152.473999  152.548996   \n",
       "2025-10-09 09:30:00+09:00  152.546997  152.557999  152.449997  152.533005   \n",
       "2025-10-09 09:45:00+09:00  152.531998  152.705002  152.511993  152.699005   \n",
       "2025-10-09 10:00:00+09:00  152.701996  152.764999  152.574997  152.636993   \n",
       "2025-10-09 10:15:00+09:00  152.636002  152.643005  152.481003  152.488998   \n",
       "\n",
       "                           Volume  Dividends  Stock Splits  \n",
       "Datetime                                                    \n",
       "2025-10-08 08:00:00+09:00       0        0.0           0.0  \n",
       "2025-10-08 08:15:00+09:00       0        0.0           0.0  \n",
       "2025-10-08 08:30:00+09:00       0        0.0           0.0  \n",
       "2025-10-08 08:45:00+09:00       0        0.0           0.0  \n",
       "2025-10-08 09:00:00+09:00       0        0.0           0.0  \n",
       "...                           ...        ...           ...  \n",
       "2025-10-09 09:15:00+09:00       0        0.0           0.0  \n",
       "2025-10-09 09:30:00+09:00       0        0.0           0.0  \n",
       "2025-10-09 09:45:00+09:00       0        0.0           0.0  \n",
       "2025-10-09 10:00:00+09:00       0        0.0           0.0  \n",
       "2025-10-09 10:15:00+09:00       0        0.0           0.0  \n",
       "\n",
       "[99 rows x 7 columns]"
      ]
     },
     "execution_count": 98,
     "metadata": {},
     "output_type": "execute_result"
    }
   ],
   "source": [
    "# 15分足で過去 2 日分のデータを取得\n",
    "df_exchange = ticker2.history(period=\"2d\", interval=\"15m\")\n",
    "df_exchange.index = df_exchange.index.tz_convert(\"Asia/Tokyo\")\n",
    "df_exchange"
   ]
  },
  {
   "cell_type": "markdown",
   "id": "3bdb0d3e-7c5b-4d00-8ef6-a79d243141ce",
   "metadata": {},
   "source": [
    "### 15分足の Close のドル円レートで一括割る"
   ]
  },
  {
   "cell_type": "code",
   "execution_count": 99,
   "id": "f78f11ba-0261-41ae-b3fa-fdc3d7c2caff",
   "metadata": {},
   "outputs": [
    {
     "data": {
      "text/html": [
       "<div>\n",
       "<style scoped>\n",
       "    .dataframe tbody tr th:only-of-type {\n",
       "        vertical-align: middle;\n",
       "    }\n",
       "\n",
       "    .dataframe tbody tr th {\n",
       "        vertical-align: top;\n",
       "    }\n",
       "\n",
       "    .dataframe thead th {\n",
       "        text-align: right;\n",
       "    }\n",
       "</style>\n",
       "<table border=\"1\" class=\"dataframe\">\n",
       "  <thead>\n",
       "    <tr style=\"text-align: right;\">\n",
       "      <th></th>\n",
       "      <th>Open</th>\n",
       "      <th>High</th>\n",
       "      <th>Low</th>\n",
       "      <th>Close</th>\n",
       "    </tr>\n",
       "    <tr>\n",
       "      <th>Datetime</th>\n",
       "      <th></th>\n",
       "      <th></th>\n",
       "      <th></th>\n",
       "      <th></th>\n",
       "    </tr>\n",
       "  </thead>\n",
       "  <tbody>\n",
       "    <tr>\n",
       "      <th>2025-10-09 09:00:00+09:00</th>\n",
       "      <td>314.771701</td>\n",
       "      <td>315.712555</td>\n",
       "      <td>314.508254</td>\n",
       "      <td>315.033075</td>\n",
       "    </tr>\n",
       "    <tr>\n",
       "      <th>2025-10-09 09:15:00+09:00</th>\n",
       "      <td>315.155661</td>\n",
       "      <td>316.848048</td>\n",
       "      <td>315.062633</td>\n",
       "      <td>316.492091</td>\n",
       "    </tr>\n",
       "    <tr>\n",
       "      <th>2025-10-09 09:30:00+09:00</th>\n",
       "      <td>316.496282</td>\n",
       "      <td>317.063372</td>\n",
       "      <td>316.287080</td>\n",
       "      <td>316.310743</td>\n",
       "    </tr>\n",
       "    <tr>\n",
       "      <th>2025-10-09 09:45:00+09:00</th>\n",
       "      <td>315.953654</td>\n",
       "      <td>317.115227</td>\n",
       "      <td>315.953654</td>\n",
       "      <td>317.063885</td>\n",
       "    </tr>\n",
       "    <tr>\n",
       "      <th>2025-10-09 10:00:00+09:00</th>\n",
       "      <td>317.146966</td>\n",
       "      <td>317.327081</td>\n",
       "      <td>316.793314</td>\n",
       "      <td>317.327081</td>\n",
       "    </tr>\n",
       "  </tbody>\n",
       "</table>\n",
       "</div>"
      ],
      "text/plain": [
       "                                 Open        High         Low       Close\n",
       "Datetime                                                                 \n",
       "2025-10-09 09:00:00+09:00  314.771701  315.712555  314.508254  315.033075\n",
       "2025-10-09 09:15:00+09:00  315.155661  316.848048  315.062633  316.492091\n",
       "2025-10-09 09:30:00+09:00  316.496282  317.063372  316.287080  316.310743\n",
       "2025-10-09 09:45:00+09:00  315.953654  317.115227  315.953654  317.063885\n",
       "2025-10-09 10:00:00+09:00  317.146966  317.327081  316.793314  317.327081"
      ]
     },
     "execution_count": 99,
     "metadata": {},
     "output_type": "execute_result"
    }
   ],
   "source": [
    "ser_rate = df_exchange.loc[df.index, \"Close\"]\n",
    "ser_rate\n",
    "df2 = pd.DataFrame()\n",
    "df2[\"Open\"] = df[\"Open\"] / ser_rate\n",
    "df2[\"High\"] = df[\"High\"] / ser_rate\n",
    "df2[\"Low\"] = df[\"Low\"] / ser_rate\n",
    "df2[\"Close\"] = df[\"Close\"] / ser_rate\n",
    "df2"
   ]
  },
  {
   "cell_type": "markdown",
   "id": "3c20e929-430e-4b75-9b16-23408c6e40cd",
   "metadata": {},
   "source": [
    "### 前日の終値のドル円レートから、前日の終値のドル換算"
   ]
  },
  {
   "cell_type": "code",
   "execution_count": 100,
   "id": "38669de5-6f50-44b1-ad01-33a722573c02",
   "metadata": {},
   "outputs": [
    {
     "name": "stdout",
     "output_type": "stream",
     "text": [
      "2025-10-08 15:15:00+09:00\n"
     ]
    },
    {
     "data": {
      "text/plain": [
       "np.float64(152.46400451660156)"
      ]
     },
     "execution_count": 100,
     "metadata": {},
     "output_type": "execute_result"
    }
   ],
   "source": [
    "dt = df_exchange.head(1).index[0]\n",
    "dt_last_close = pd.to_datetime(f\"{str(dt.date())} 15:15:00+09:00\")\n",
    "print(dt_last_close)\n",
    "last_close_usd = df_exchange.loc[dt_last_close, \"Close\"]\n",
    "last_close_usd"
   ]
  },
  {
   "cell_type": "code",
   "execution_count": 101,
   "id": "67fd86b9-2b36-4dee-aac2-157c7d5db22a",
   "metadata": {},
   "outputs": [
    {
     "data": {
      "image/png": "[encoded data removed]",
      "text/plain": [
       "<Figure size 300x180 with 1 Axes>"
      ]
     },
     "metadata": {},
     "output_type": "display_data"
    }
   ],
   "source": [
    "FONT_PATH = \"../fonts/RictyDiminished-Regular.ttf\"\n",
    "fm.fontManager.addfont(FONT_PATH)\n",
    "\n",
    "# FontPropertiesオブジェクト生成（名前の取得のため）\n",
    "font_prop = fm.FontProperties(fname=FONT_PATH)\n",
    "font_prop.get_name()\n",
    "\n",
    "plt.rcParams[\"font.family\"] = font_prop.get_name()\n",
    "plt.rcParams[\"font.size\"] = 8\n",
    "\n",
    "fig, ax = plt.subplots(figsize=(3, 1.8))\n",
    "mpf.plot(\n",
    "    df2,\n",
    "    type=\"candle\",\n",
    "    style=\"default\",\n",
    "    datetime_format=\"%H:%M\",\n",
    "    xrotation=0,\n",
    "    update_width_config=dict(candle_linewidth=0.75),\n",
    "    ax=ax,\n",
    ")\n",
    "ax.axhline(y=lastclose / last_close_usd, color=\"red\", linewidth=0.75)\n",
    "ax.yaxis.set_major_formatter(ticker.StrMethodFormatter('{x:,.2f}'))\n",
    "ax.set_ylabel(\"USD\")\n",
    "ax.grid()\n",
    "\n",
    "if \"shortName\" in ticker1.info:\n",
    "    ax.set_title(f\"{ticker1.info['shortName']} ({symbol}) in USD\")\n",
    "elif \"longName\" in ticker1.info:\n",
    "    ax.set_title(f\"{ticker1.info['longName']} ({symbol}) in USD\")\n",
    "else:\n",
    "    ax.set_title(f\"{symbol}\")\n",
    "\n",
    "plt.tight_layout()\n",
    "plt.savefig(get_name_15min_chart_usd(code, dt_first))\n",
    "plt.show()"
   ]
  },
  {
   "cell_type": "code",
   "execution_count": null,
   "id": "11e86162-6fff-4049-922a-58818d5980e4",
   "metadata": {},
   "outputs": [],
   "source": []
  }
 ],
 "metadata": {
  "kernelspec": {
   "display_name": "Python 3 (ipykernel)",
   "language": "python",
   "name": "python3"
  },
  "language_info": {
   "codemirror_mode": {
    "name": "ipython",
    "version": 3
   },
   "file_extension": ".py",
   "mimetype": "text/x-python",
   "name": "python",
   "nbconvert_exporter": "python",
   "pygments_lexer": "ipython3",
   "version": "3.13.7"
  }
 },
 "nbformat": 4,
 "nbformat_minor": 5
}
