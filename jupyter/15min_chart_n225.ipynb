{
 "cells": [
  {
   "cell_type": "markdown",
   "id": "07ceea52-6536-47e0-81aa-30c017b5bfc5",
   "metadata": {},
   "source": [
    "# 日経平均株価 15分足"
   ]
  },
  {
   "cell_type": "markdown",
   "id": "8a363236-5477-4a61-99da-bf92362631f4",
   "metadata": {},
   "source": [
    "### 一つ上のディレクトリをパスに追加"
   ]
  },
  {
   "cell_type": "code",
   "execution_count": 34,
   "id": "f1f6d8b7-4107-4a29-ae60-f3cbfa1f5a38",
   "metadata": {},
   "outputs": [],
   "source": [
    "import sys\n",
    "\n",
    "path_up = \"..\"\n",
    "if not path_up in sys.path:\n",
    "    sys.path.append(path_up)"
   ]
  },
  {
   "cell_type": "markdown",
   "id": "19d64844-3cbf-4a92-827e-43c425e34eb6",
   "metadata": {},
   "source": [
    "### ライブラリをここで一括インポート"
   ]
  },
  {
   "cell_type": "code",
   "execution_count": 35,
   "id": "3421a3f8-52ac-41e8-8e08-921ddaa4b37a",
   "metadata": {},
   "outputs": [],
   "source": [
    "import datetime\n",
    "\n",
    "import matplotlib.font_manager as fm\n",
    "import matplotlib.pyplot as plt\n",
    "import matplotlib.ticker as ticker\n",
    "import mplfinance as mpf\n",
    "import numpy as np\n",
    "import pandas as pd\n",
    "import yfinance as yf\n",
    "\n",
    "from funcs.commons import (\n",
    "    get_name_15min_chart,\n",
    "    get_name_15min_chart_now,\n",
    "    get_name_15min_chart_usd,\n",
    ")"
   ]
  },
  {
   "cell_type": "markdown",
   "id": "8efa7b4f-c5a5-45df-bcbc-c689517b5fb2",
   "metadata": {},
   "source": [
    "## yfinance による株価データの取得"
   ]
  },
  {
   "cell_type": "code",
   "execution_count": 36,
   "id": "513d138a-5223-48b6-868d-a4e49a86c6b6",
   "metadata": {},
   "outputs": [
    {
     "data": {
      "text/html": [
       "<div>\n",
       "<style scoped>\n",
       "    .dataframe tbody tr th:only-of-type {\n",
       "        vertical-align: middle;\n",
       "    }\n",
       "\n",
       "    .dataframe tbody tr th {\n",
       "        vertical-align: top;\n",
       "    }\n",
       "\n",
       "    .dataframe thead th {\n",
       "        text-align: right;\n",
       "    }\n",
       "</style>\n",
       "<table border=\"1\" class=\"dataframe\">\n",
       "  <thead>\n",
       "    <tr style=\"text-align: right;\">\n",
       "      <th></th>\n",
       "      <th>Open</th>\n",
       "      <th>High</th>\n",
       "      <th>Low</th>\n",
       "      <th>Close</th>\n",
       "      <th>Volume</th>\n",
       "      <th>Dividends</th>\n",
       "      <th>Stock Splits</th>\n",
       "    </tr>\n",
       "    <tr>\n",
       "      <th>Datetime</th>\n",
       "      <th></th>\n",
       "      <th></th>\n",
       "      <th></th>\n",
       "      <th></th>\n",
       "      <th></th>\n",
       "      <th></th>\n",
       "      <th></th>\n",
       "    </tr>\n",
       "  </thead>\n",
       "  <tbody>\n",
       "    <tr>\n",
       "      <th>2025-10-15 09:00:00+09:00</th>\n",
       "      <td>47002.300781</td>\n",
       "      <td>47164.078125</td>\n",
       "      <td>46910.828125</td>\n",
       "      <td>47147.050781</td>\n",
       "      <td>0</td>\n",
       "      <td>0.0</td>\n",
       "      <td>0.0</td>\n",
       "    </tr>\n",
       "    <tr>\n",
       "      <th>2025-10-15 09:15:00+09:00</th>\n",
       "      <td>47147.738281</td>\n",
       "      <td>47242.898438</td>\n",
       "      <td>47095.441406</td>\n",
       "      <td>47237.710938</td>\n",
       "      <td>0</td>\n",
       "      <td>0.0</td>\n",
       "      <td>0.0</td>\n",
       "    </tr>\n",
       "    <tr>\n",
       "      <th>2025-10-15 09:30:00+09:00</th>\n",
       "      <td>47216.449219</td>\n",
       "      <td>47243.808594</td>\n",
       "      <td>47068.128906</td>\n",
       "      <td>47163.589844</td>\n",
       "      <td>0</td>\n",
       "      <td>0.0</td>\n",
       "      <td>0.0</td>\n",
       "    </tr>\n",
       "    <tr>\n",
       "      <th>2025-10-15 09:45:00+09:00</th>\n",
       "      <td>47149.269531</td>\n",
       "      <td>47269.300781</td>\n",
       "      <td>47149.269531</td>\n",
       "      <td>47250.871094</td>\n",
       "      <td>0</td>\n",
       "      <td>0.0</td>\n",
       "      <td>0.0</td>\n",
       "    </tr>\n",
       "    <tr>\n",
       "      <th>2025-10-15 10:00:00+09:00</th>\n",
       "      <td>47243.191406</td>\n",
       "      <td>47246.730469</td>\n",
       "      <td>47127.398438</td>\n",
       "      <td>47202.371094</td>\n",
       "      <td>0</td>\n",
       "      <td>0.0</td>\n",
       "      <td>0.0</td>\n",
       "    </tr>\n",
       "    <tr>\n",
       "      <th>2025-10-15 10:15:00+09:00</th>\n",
       "      <td>47200.570312</td>\n",
       "      <td>47306.339844</td>\n",
       "      <td>47185.421875</td>\n",
       "      <td>47298.078125</td>\n",
       "      <td>0</td>\n",
       "      <td>0.0</td>\n",
       "      <td>0.0</td>\n",
       "    </tr>\n",
       "    <tr>\n",
       "      <th>2025-10-15 10:30:00+09:00</th>\n",
       "      <td>47295.218750</td>\n",
       "      <td>47328.960938</td>\n",
       "      <td>47264.230469</td>\n",
       "      <td>47320.800781</td>\n",
       "      <td>0</td>\n",
       "      <td>0.0</td>\n",
       "      <td>0.0</td>\n",
       "    </tr>\n",
       "    <tr>\n",
       "      <th>2025-10-15 10:45:00+09:00</th>\n",
       "      <td>47319.949219</td>\n",
       "      <td>47319.949219</td>\n",
       "      <td>47262.808594</td>\n",
       "      <td>47297.039062</td>\n",
       "      <td>0</td>\n",
       "      <td>0.0</td>\n",
       "      <td>0.0</td>\n",
       "    </tr>\n",
       "  </tbody>\n",
       "</table>\n",
       "</div>"
      ],
      "text/plain": [
       "                                   Open          High           Low  \\\n",
       "Datetime                                                              \n",
       "2025-10-15 09:00:00+09:00  47002.300781  47164.078125  46910.828125   \n",
       "2025-10-15 09:15:00+09:00  47147.738281  47242.898438  47095.441406   \n",
       "2025-10-15 09:30:00+09:00  47216.449219  47243.808594  47068.128906   \n",
       "2025-10-15 09:45:00+09:00  47149.269531  47269.300781  47149.269531   \n",
       "2025-10-15 10:00:00+09:00  47243.191406  47246.730469  47127.398438   \n",
       "2025-10-15 10:15:00+09:00  47200.570312  47306.339844  47185.421875   \n",
       "2025-10-15 10:30:00+09:00  47295.218750  47328.960938  47264.230469   \n",
       "2025-10-15 10:45:00+09:00  47319.949219  47319.949219  47262.808594   \n",
       "\n",
       "                                  Close  Volume  Dividends  Stock Splits  \n",
       "Datetime                                                                  \n",
       "2025-10-15 09:00:00+09:00  47147.050781       0        0.0           0.0  \n",
       "2025-10-15 09:15:00+09:00  47237.710938       0        0.0           0.0  \n",
       "2025-10-15 09:30:00+09:00  47163.589844       0        0.0           0.0  \n",
       "2025-10-15 09:45:00+09:00  47250.871094       0        0.0           0.0  \n",
       "2025-10-15 10:00:00+09:00  47202.371094       0        0.0           0.0  \n",
       "2025-10-15 10:15:00+09:00  47298.078125       0        0.0           0.0  \n",
       "2025-10-15 10:30:00+09:00  47320.800781       0        0.0           0.0  \n",
       "2025-10-15 10:45:00+09:00  47297.039062       0        0.0           0.0  "
      ]
     },
     "execution_count": 36,
     "metadata": {},
     "output_type": "execute_result"
    }
   ],
   "source": [
    "code = \"N225\"\n",
    "symbol = f\"^{code}\"\n",
    "ticker1 = yf.Ticker(symbol)\n",
    "df = ticker1.history(period=\"1d\", interval=\"15m\")\n",
    "df"
   ]
  },
  {
   "cell_type": "markdown",
   "id": "2b974883-632b-43cf-8f1b-9f3e4cededdd",
   "metadata": {},
   "source": [
    "## 前日終値の取得"
   ]
  },
  {
   "cell_type": "code",
   "execution_count": 37,
   "id": "cf79a23f-ac87-47e6-bd34-0746a65c86f9",
   "metadata": {},
   "outputs": [
    {
     "name": "stdout",
     "output_type": "stream",
     "text": [
      "Date\n",
      "2025-10-08 00:00:00+09:00    47734.988281\n",
      "2025-10-09 00:00:00+09:00    48580.441406\n",
      "2025-10-10 00:00:00+09:00    48088.800781\n",
      "2025-10-14 00:00:00+09:00    46847.320312\n",
      "2025-10-15 00:00:00+09:00    47297.039062\n",
      "Name: Close, dtype: float64\n"
     ]
    },
    {
     "data": {
      "text/plain": [
       "Date\n",
       "2025-10-14 00:00:00+09:00    46847.320312\n",
       "Name: Close, dtype: float64"
      ]
     },
     "execution_count": 37,
     "metadata": {},
     "output_type": "execute_result"
    }
   ],
   "source": [
    "# 過去一週間のデータを取得\n",
    "td = datetime.timedelta(days=7)\n",
    "dt_first = df.index[0]\n",
    "dt_prev = dt_first - td\n",
    "df_last = ticker1.history(interval=\"1d\", start=str(dt_prev.date()))\n",
    "print(df_last[\"Close\"])\n",
    "n = len(df_last)\n",
    "lastclose = df_last[n - 2 : n - 1][\"Close\"].iloc[0]\n",
    "# lastclose = 44902.27 # 9/16 終値\n",
    "# 確認のため出力\n",
    "df_last[n - 2 : n - 1][\"Close\"]"
   ]
  },
  {
   "cell_type": "markdown",
   "id": "e41961ad-e3e5-4055-a368-6295b0c73219",
   "metadata": {},
   "source": [
    "### 当日始値 - 前日終値"
   ]
  },
  {
   "cell_type": "code",
   "execution_count": 38,
   "id": "0acbf95b-3e5c-4df6-a7dc-c3e4f82578af",
   "metadata": {},
   "outputs": [
    {
     "name": "stdout",
     "output_type": "stream",
     "text": [
      "+154.98\n"
     ]
    }
   ],
   "source": [
    "delta_open = df.head(1)[\"Open\"].iloc[0] - lastclose\n",
    "print(f\"{delta_open:+.2f}\")"
   ]
  },
  {
   "cell_type": "markdown",
   "id": "432d492c-6e58-46b6-8004-044d4419c02c",
   "metadata": {},
   "source": [
    "## ローソク足チャート（小さいサイズ）"
   ]
  },
  {
   "cell_type": "code",
   "execution_count": 39,
   "id": "f4d0b7d0-b14a-4bfd-949a-c03ee4a578a0",
   "metadata": {},
   "outputs": [
    {
     "data": {
      "image/png": "[encoded data removed]",
      "text/plain": [
       "<Figure size 300x180 with 1 Axes>"
      ]
     },
     "metadata": {},
     "output_type": "display_data"
    }
   ],
   "source": [
    "FONT_PATH = \"../fonts/RictyDiminished-Regular.ttf\"\n",
    "fm.fontManager.addfont(FONT_PATH)\n",
    "\n",
    "# FontPropertiesオブジェクト生成（名前の取得のため）\n",
    "font_prop = fm.FontProperties(fname=FONT_PATH)\n",
    "font_prop.get_name()\n",
    "\n",
    "plt.rcParams[\"font.family\"] = font_prop.get_name()\n",
    "plt.rcParams[\"font.size\"] = 8\n",
    "\n",
    "fig, ax = plt.subplots(figsize=(3, 1.8))\n",
    "mpf.plot(\n",
    "    df,\n",
    "    type=\"candle\",\n",
    "    style=\"default\",\n",
    "    datetime_format=\"%H:%M\",\n",
    "    xrotation=0,\n",
    "    update_width_config=dict(candle_linewidth=0.75),\n",
    "    ax=ax,\n",
    ")\n",
    "ax.axhline(y=lastclose, color=\"red\", linewidth=0.75)\n",
    "ax.yaxis.set_major_formatter(ticker.StrMethodFormatter('{x:,.0f}'))\n",
    "ax.set_ylabel(\"JPY\")\n",
    "ax.grid()\n",
    "\n",
    "if \"shortName\" in ticker1.info:\n",
    "    ax.set_title(f\"{ticker1.info['shortName']} ({symbol})\")\n",
    "elif \"longName\" in ticker1.info:\n",
    "    ax.set_title(f\"{ticker1.info['longName']} ({symbol})\")\n",
    "else:\n",
    "    ax.set_title(f\"{symbol}\")\n",
    "\n",
    "plt.tight_layout()\n",
    "plt.savefig(get_name_15min_chart(code, dt_first))\n",
    "plt.show()"
   ]
  },
  {
   "cell_type": "markdown",
   "id": "975de5bc-90ff-4c41-898a-0aa329c7576a",
   "metadata": {},
   "source": [
    "## ドル円レートで換算"
   ]
  },
  {
   "cell_type": "code",
   "execution_count": 40,
   "id": "f18e1ab8-e1be-4684-a805-0584f61e0488",
   "metadata": {},
   "outputs": [],
   "source": [
    "code2 = \"USDJPY=X\"\n",
    "symbol2 = code2\n",
    "ticker2 = yf.Ticker(symbol2)"
   ]
  },
  {
   "cell_type": "markdown",
   "id": "3d3c79b6-f705-4109-9b86-21f6c073df78",
   "metadata": {},
   "source": [
    "### 過去２日分のドル円レートの過去データを取得"
   ]
  },
  {
   "cell_type": "code",
   "execution_count": 41,
   "id": "da50dc67-a62c-4db4-9e26-71abcd1ab12d",
   "metadata": {},
   "outputs": [
    {
     "data": {
      "text/html": [
       "<div>\n",
       "<style scoped>\n",
       "    .dataframe tbody tr th:only-of-type {\n",
       "        vertical-align: middle;\n",
       "    }\n",
       "\n",
       "    .dataframe tbody tr th {\n",
       "        vertical-align: top;\n",
       "    }\n",
       "\n",
       "    .dataframe thead th {\n",
       "        text-align: right;\n",
       "    }\n",
       "</style>\n",
       "<table border=\"1\" class=\"dataframe\">\n",
       "  <thead>\n",
       "    <tr style=\"text-align: right;\">\n",
       "      <th></th>\n",
       "      <th>Open</th>\n",
       "      <th>High</th>\n",
       "      <th>Low</th>\n",
       "      <th>Close</th>\n",
       "      <th>Volume</th>\n",
       "      <th>Dividends</th>\n",
       "      <th>Stock Splits</th>\n",
       "    </tr>\n",
       "    <tr>\n",
       "      <th>Datetime</th>\n",
       "      <th></th>\n",
       "      <th></th>\n",
       "      <th></th>\n",
       "      <th></th>\n",
       "      <th></th>\n",
       "      <th></th>\n",
       "      <th></th>\n",
       "    </tr>\n",
       "  </thead>\n",
       "  <tbody>\n",
       "    <tr>\n",
       "      <th>2025-10-14 08:00:00+09:00</th>\n",
       "      <td>152.334000</td>\n",
       "      <td>152.380005</td>\n",
       "      <td>152.320999</td>\n",
       "      <td>152.348007</td>\n",
       "      <td>0</td>\n",
       "      <td>0.0</td>\n",
       "      <td>0.0</td>\n",
       "    </tr>\n",
       "    <tr>\n",
       "      <th>2025-10-14 08:15:00+09:00</th>\n",
       "      <td>152.345001</td>\n",
       "      <td>152.352005</td>\n",
       "      <td>152.304993</td>\n",
       "      <td>152.341003</td>\n",
       "      <td>0</td>\n",
       "      <td>0.0</td>\n",
       "      <td>0.0</td>\n",
       "    </tr>\n",
       "    <tr>\n",
       "      <th>2025-10-14 08:30:00+09:00</th>\n",
       "      <td>152.339996</td>\n",
       "      <td>152.354004</td>\n",
       "      <td>152.274994</td>\n",
       "      <td>152.339996</td>\n",
       "      <td>0</td>\n",
       "      <td>0.0</td>\n",
       "      <td>0.0</td>\n",
       "    </tr>\n",
       "    <tr>\n",
       "      <th>2025-10-14 08:45:00+09:00</th>\n",
       "      <td>152.334000</td>\n",
       "      <td>152.460007</td>\n",
       "      <td>152.287003</td>\n",
       "      <td>152.451004</td>\n",
       "      <td>0</td>\n",
       "      <td>0.0</td>\n",
       "      <td>0.0</td>\n",
       "    </tr>\n",
       "    <tr>\n",
       "      <th>2025-10-14 09:00:00+09:00</th>\n",
       "      <td>152.451004</td>\n",
       "      <td>152.537003</td>\n",
       "      <td>152.423004</td>\n",
       "      <td>152.449997</td>\n",
       "      <td>0</td>\n",
       "      <td>0.0</td>\n",
       "      <td>0.0</td>\n",
       "    </tr>\n",
       "    <tr>\n",
       "      <th>...</th>\n",
       "      <td>...</td>\n",
       "      <td>...</td>\n",
       "      <td>...</td>\n",
       "      <td>...</td>\n",
       "      <td>...</td>\n",
       "      <td>...</td>\n",
       "      <td>...</td>\n",
       "    </tr>\n",
       "    <tr>\n",
       "      <th>2025-10-15 10:00:00+09:00</th>\n",
       "      <td>151.563995</td>\n",
       "      <td>151.604004</td>\n",
       "      <td>151.406998</td>\n",
       "      <td>151.432999</td>\n",
       "      <td>0</td>\n",
       "      <td>0.0</td>\n",
       "      <td>0.0</td>\n",
       "    </tr>\n",
       "    <tr>\n",
       "      <th>2025-10-15 10:15:00+09:00</th>\n",
       "      <td>151.432007</td>\n",
       "      <td>151.453003</td>\n",
       "      <td>151.317001</td>\n",
       "      <td>151.389999</td>\n",
       "      <td>0</td>\n",
       "      <td>0.0</td>\n",
       "      <td>0.0</td>\n",
       "    </tr>\n",
       "    <tr>\n",
       "      <th>2025-10-15 10:30:00+09:00</th>\n",
       "      <td>151.389999</td>\n",
       "      <td>151.455002</td>\n",
       "      <td>151.328995</td>\n",
       "      <td>151.412994</td>\n",
       "      <td>0</td>\n",
       "      <td>0.0</td>\n",
       "      <td>0.0</td>\n",
       "    </tr>\n",
       "    <tr>\n",
       "      <th>2025-10-15 10:45:00+09:00</th>\n",
       "      <td>151.414001</td>\n",
       "      <td>151.421005</td>\n",
       "      <td>151.294998</td>\n",
       "      <td>151.300003</td>\n",
       "      <td>0</td>\n",
       "      <td>0.0</td>\n",
       "      <td>0.0</td>\n",
       "    </tr>\n",
       "    <tr>\n",
       "      <th>2025-10-15 11:00:00+09:00</th>\n",
       "      <td>151.296005</td>\n",
       "      <td>151.315002</td>\n",
       "      <td>151.134995</td>\n",
       "      <td>151.171997</td>\n",
       "      <td>0</td>\n",
       "      <td>0.0</td>\n",
       "      <td>0.0</td>\n",
       "    </tr>\n",
       "  </tbody>\n",
       "</table>\n",
       "<p>109 rows × 7 columns</p>\n",
       "</div>"
      ],
      "text/plain": [
       "                                 Open        High         Low       Close  \\\n",
       "Datetime                                                                    \n",
       "2025-10-14 08:00:00+09:00  152.334000  152.380005  152.320999  152.348007   \n",
       "2025-10-14 08:15:00+09:00  152.345001  152.352005  152.304993  152.341003   \n",
       "2025-10-14 08:30:00+09:00  152.339996  152.354004  152.274994  152.339996   \n",
       "2025-10-14 08:45:00+09:00  152.334000  152.460007  152.287003  152.451004   \n",
       "2025-10-14 09:00:00+09:00  152.451004  152.537003  152.423004  152.449997   \n",
       "...                               ...         ...         ...         ...   \n",
       "2025-10-15 10:00:00+09:00  151.563995  151.604004  151.406998  151.432999   \n",
       "2025-10-15 10:15:00+09:00  151.432007  151.453003  151.317001  151.389999   \n",
       "2025-10-15 10:30:00+09:00  151.389999  151.455002  151.328995  151.412994   \n",
       "2025-10-15 10:45:00+09:00  151.414001  151.421005  151.294998  151.300003   \n",
       "2025-10-15 11:00:00+09:00  151.296005  151.315002  151.134995  151.171997   \n",
       "\n",
       "                           Volume  Dividends  Stock Splits  \n",
       "Datetime                                                    \n",
       "2025-10-14 08:00:00+09:00       0        0.0           0.0  \n",
       "2025-10-14 08:15:00+09:00       0        0.0           0.0  \n",
       "2025-10-14 08:30:00+09:00       0        0.0           0.0  \n",
       "2025-10-14 08:45:00+09:00       0        0.0           0.0  \n",
       "2025-10-14 09:00:00+09:00       0        0.0           0.0  \n",
       "...                           ...        ...           ...  \n",
       "2025-10-15 10:00:00+09:00       0        0.0           0.0  \n",
       "2025-10-15 10:15:00+09:00       0        0.0           0.0  \n",
       "2025-10-15 10:30:00+09:00       0        0.0           0.0  \n",
       "2025-10-15 10:45:00+09:00       0        0.0           0.0  \n",
       "2025-10-15 11:00:00+09:00       0        0.0           0.0  \n",
       "\n",
       "[109 rows x 7 columns]"
      ]
     },
     "execution_count": 41,
     "metadata": {},
     "output_type": "execute_result"
    }
   ],
   "source": [
    "# 15分足で過去 2 日分のデータを取得\n",
    "df_exchange = ticker2.history(period=\"2d\", interval=\"15m\")\n",
    "df_exchange.index = df_exchange.index.tz_convert(\"Asia/Tokyo\")\n",
    "df_exchange"
   ]
  },
  {
   "cell_type": "markdown",
   "id": "3bdb0d3e-7c5b-4d00-8ef6-a79d243141ce",
   "metadata": {},
   "source": [
    "### 15分足の Close のドル円レートで一括割る"
   ]
  },
  {
   "cell_type": "code",
   "execution_count": 42,
   "id": "f78f11ba-0261-41ae-b3fa-fdc3d7c2caff",
   "metadata": {},
   "outputs": [
    {
     "data": {
      "text/html": [
       "<div>\n",
       "<style scoped>\n",
       "    .dataframe tbody tr th:only-of-type {\n",
       "        vertical-align: middle;\n",
       "    }\n",
       "\n",
       "    .dataframe tbody tr th {\n",
       "        vertical-align: top;\n",
       "    }\n",
       "\n",
       "    .dataframe thead th {\n",
       "        text-align: right;\n",
       "    }\n",
       "</style>\n",
       "<table border=\"1\" class=\"dataframe\">\n",
       "  <thead>\n",
       "    <tr style=\"text-align: right;\">\n",
       "      <th></th>\n",
       "      <th>Open</th>\n",
       "      <th>High</th>\n",
       "      <th>Low</th>\n",
       "      <th>Close</th>\n",
       "    </tr>\n",
       "    <tr>\n",
       "      <th>Datetime</th>\n",
       "      <th></th>\n",
       "      <th></th>\n",
       "      <th></th>\n",
       "      <th></th>\n",
       "    </tr>\n",
       "  </thead>\n",
       "  <tbody>\n",
       "    <tr>\n",
       "      <th>2025-10-15 09:00:00+09:00</th>\n",
       "      <td>309.616761</td>\n",
       "      <td>310.682431</td>\n",
       "      <td>309.014206</td>\n",
       "      <td>310.570268</td>\n",
       "    </tr>\n",
       "    <tr>\n",
       "      <th>2025-10-15 09:15:00+09:00</th>\n",
       "      <td>310.769275</td>\n",
       "      <td>311.396513</td>\n",
       "      <td>310.424566</td>\n",
       "      <td>311.362321</td>\n",
       "    </tr>\n",
       "    <tr>\n",
       "      <th>2025-10-15 09:30:00+09:00</th>\n",
       "      <td>311.542503</td>\n",
       "      <td>311.723025</td>\n",
       "      <td>310.563859</td>\n",
       "      <td>311.193727</td>\n",
       "    </tr>\n",
       "    <tr>\n",
       "      <th>2025-10-15 09:45:00+09:00</th>\n",
       "      <td>311.080792</td>\n",
       "      <td>311.872732</td>\n",
       "      <td>311.080792</td>\n",
       "      <td>311.751137</td>\n",
       "    </tr>\n",
       "    <tr>\n",
       "      <th>2025-10-15 10:00:00+09:00</th>\n",
       "      <td>311.974218</td>\n",
       "      <td>311.997589</td>\n",
       "      <td>311.209570</td>\n",
       "      <td>311.704658</td>\n",
       "    </tr>\n",
       "    <tr>\n",
       "      <th>2025-10-15 10:15:00+09:00</th>\n",
       "      <td>311.781297</td>\n",
       "      <td>312.479953</td>\n",
       "      <td>311.681234</td>\n",
       "      <td>312.425380</td>\n",
       "    </tr>\n",
       "    <tr>\n",
       "      <th>2025-10-15 10:30:00+09:00</th>\n",
       "      <td>312.359048</td>\n",
       "      <td>312.581896</td>\n",
       "      <td>312.154387</td>\n",
       "      <td>312.528003</td>\n",
       "    </tr>\n",
       "    <tr>\n",
       "      <th>2025-10-15 10:45:00+09:00</th>\n",
       "      <td>312.755772</td>\n",
       "      <td>312.755772</td>\n",
       "      <td>312.378107</td>\n",
       "      <td>312.604350</td>\n",
       "    </tr>\n",
       "  </tbody>\n",
       "</table>\n",
       "</div>"
      ],
      "text/plain": [
       "                                 Open        High         Low       Close\n",
       "Datetime                                                                 \n",
       "2025-10-15 09:00:00+09:00  309.616761  310.682431  309.014206  310.570268\n",
       "2025-10-15 09:15:00+09:00  310.769275  311.396513  310.424566  311.362321\n",
       "2025-10-15 09:30:00+09:00  311.542503  311.723025  310.563859  311.193727\n",
       "2025-10-15 09:45:00+09:00  311.080792  311.872732  311.080792  311.751137\n",
       "2025-10-15 10:00:00+09:00  311.974218  311.997589  311.209570  311.704658\n",
       "2025-10-15 10:15:00+09:00  311.781297  312.479953  311.681234  312.425380\n",
       "2025-10-15 10:30:00+09:00  312.359048  312.581896  312.154387  312.528003\n",
       "2025-10-15 10:45:00+09:00  312.755772  312.755772  312.378107  312.604350"
      ]
     },
     "execution_count": 42,
     "metadata": {},
     "output_type": "execute_result"
    }
   ],
   "source": [
    "ser_rate = df_exchange.loc[df.index, \"Close\"]\n",
    "ser_rate\n",
    "df2 = pd.DataFrame()\n",
    "df2[\"Open\"] = df[\"Open\"] / ser_rate\n",
    "df2[\"High\"] = df[\"High\"] / ser_rate\n",
    "df2[\"Low\"] = df[\"Low\"] / ser_rate\n",
    "df2[\"Close\"] = df[\"Close\"] / ser_rate\n",
    "df2"
   ]
  },
  {
   "cell_type": "markdown",
   "id": "3c20e929-430e-4b75-9b16-23408c6e40cd",
   "metadata": {},
   "source": [
    "### 前日の終値のドル円レートから、前日の終値のドル換算"
   ]
  },
  {
   "cell_type": "code",
   "execution_count": 43,
   "id": "38669de5-6f50-44b1-ad01-33a722573c02",
   "metadata": {},
   "outputs": [
    {
     "name": "stdout",
     "output_type": "stream",
     "text": [
      "2025-10-14 15:15:00+09:00\n"
     ]
    },
    {
     "data": {
      "text/plain": [
       "np.float64(151.75799560546875)"
      ]
     },
     "execution_count": 43,
     "metadata": {},
     "output_type": "execute_result"
    }
   ],
   "source": [
    "dt = df_exchange.head(1).index[0]\n",
    "dt_last_close = pd.to_datetime(f\"{str(dt.date())} 15:15:00+09:00\")\n",
    "print(dt_last_close)\n",
    "last_close_usd = df_exchange.loc[dt_last_close, \"Close\"]\n",
    "last_close_usd"
   ]
  },
  {
   "cell_type": "markdown",
   "id": "7bd6776f-5a42-4d76-8ad5-a8de55eebc09",
   "metadata": {},
   "source": [
    "## ローソク足チャート（小さいサイズ）/ ドル換算チャート"
   ]
  },
  {
   "cell_type": "code",
   "execution_count": 44,
   "id": "67fd86b9-2b36-4dee-aac2-157c7d5db22a",
   "metadata": {},
   "outputs": [
    {
     "data": {
      "image/png": "[encoded data removed]",
      "text/plain": [
       "<Figure size 300x180 with 1 Axes>"
      ]
     },
     "metadata": {},
     "output_type": "display_data"
    }
   ],
   "source": [
    "FONT_PATH = \"../fonts/RictyDiminished-Regular.ttf\"\n",
    "fm.fontManager.addfont(FONT_PATH)\n",
    "\n",
    "# FontPropertiesオブジェクト生成（名前の取得のため）\n",
    "font_prop = fm.FontProperties(fname=FONT_PATH)\n",
    "font_prop.get_name()\n",
    "\n",
    "plt.rcParams[\"font.family\"] = font_prop.get_name()\n",
    "plt.rcParams[\"font.size\"] = 8\n",
    "\n",
    "fig, ax = plt.subplots(figsize=(3, 1.8))\n",
    "mpf.plot(\n",
    "    df2,\n",
    "    type=\"candle\",\n",
    "    style=\"default\",\n",
    "    datetime_format=\"%H:%M\",\n",
    "    xrotation=0,\n",
    "    update_width_config=dict(candle_linewidth=0.75),\n",
    "    ax=ax,\n",
    ")\n",
    "ax.axhline(y=lastclose / last_close_usd, color=\"red\", linewidth=0.75)\n",
    "ax.yaxis.set_major_formatter(ticker.StrMethodFormatter('{x:,.2f}'))\n",
    "ax.set_ylabel(\"USD\")\n",
    "ax.grid()\n",
    "\n",
    "if \"shortName\" in ticker1.info:\n",
    "    ax.set_title(f\"{ticker1.info['shortName']} ({symbol}) in USD\")\n",
    "elif \"longName\" in ticker1.info:\n",
    "    ax.set_title(f\"{ticker1.info['longName']} ({symbol}) in USD\")\n",
    "else:\n",
    "    ax.set_title(f\"{symbol}\")\n",
    "\n",
    "plt.tight_layout()\n",
    "plt.savefig(get_name_15min_chart_usd(code, dt_first))\n",
    "plt.show()"
   ]
  },
  {
   "cell_type": "code",
   "execution_count": null,
   "id": "11e86162-6fff-4049-922a-58818d5980e4",
   "metadata": {},
   "outputs": [],
   "source": []
  }
 ],
 "metadata": {
  "kernelspec": {
   "display_name": "Python 3 (ipykernel)",
   "language": "python",
   "name": "python3"
  },
  "language_info": {
   "codemirror_mode": {
    "name": "ipython",
    "version": 3
   },
   "file_extension": ".py",
   "mimetype": "text/x-python",
   "name": "python",
   "nbconvert_exporter": "python",
   "pygments_lexer": "ipython3",
   "version": "3.13.7"
  }
 },
 "nbformat": 4,
 "nbformat_minor": 5
}
