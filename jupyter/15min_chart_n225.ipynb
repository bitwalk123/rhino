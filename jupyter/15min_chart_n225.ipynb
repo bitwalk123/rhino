{
 "cells": [
  {
   "cell_type": "markdown",
   "id": "07ceea52-6536-47e0-81aa-30c017b5bfc5",
   "metadata": {},
   "source": [
    "# 日経平均株価 15分足"
   ]
  },
  {
   "cell_type": "markdown",
   "id": "8a363236-5477-4a61-99da-bf92362631f4",
   "metadata": {},
   "source": [
    "### 一つ上のディレクトリをパスに追加"
   ]
  },
  {
   "cell_type": "code",
   "execution_count": 91,
   "id": "f1f6d8b7-4107-4a29-ae60-f3cbfa1f5a38",
   "metadata": {},
   "outputs": [],
   "source": [
    "import sys\n",
    "\n",
    "path_up = \"..\"\n",
    "if not path_up in sys.path:\n",
    "    sys.path.append(path_up)"
   ]
  },
  {
   "cell_type": "markdown",
   "id": "19d64844-3cbf-4a92-827e-43c425e34eb6",
   "metadata": {},
   "source": [
    "### ライブラリをここで一括インポート"
   ]
  },
  {
   "cell_type": "code",
   "execution_count": 92,
   "id": "3421a3f8-52ac-41e8-8e08-921ddaa4b37a",
   "metadata": {},
   "outputs": [],
   "source": [
    "import datetime\n",
    "\n",
    "import matplotlib.font_manager as fm\n",
    "import matplotlib.pyplot as plt\n",
    "import mplfinance as mpf\n",
    "import numpy as np\n",
    "import pandas as pd\n",
    "import yfinance as yf\n",
    "\n",
    "from funcs.commons import get_name_15min_chart, get_name_15min_chart_now"
   ]
  },
  {
   "cell_type": "markdown",
   "id": "8efa7b4f-c5a5-45df-bcbc-c689517b5fb2",
   "metadata": {},
   "source": [
    "## yfinance による株価データの取得"
   ]
  },
  {
   "cell_type": "code",
   "execution_count": 93,
   "id": "513d138a-5223-48b6-868d-a4e49a86c6b6",
   "metadata": {},
   "outputs": [
    {
     "data": {
      "text/html": [
       "<div>\n",
       "<style scoped>\n",
       "    .dataframe tbody tr th:only-of-type {\n",
       "        vertical-align: middle;\n",
       "    }\n",
       "\n",
       "    .dataframe tbody tr th {\n",
       "        vertical-align: top;\n",
       "    }\n",
       "\n",
       "    .dataframe thead th {\n",
       "        text-align: right;\n",
       "    }\n",
       "</style>\n",
       "<table border=\"1\" class=\"dataframe\">\n",
       "  <thead>\n",
       "    <tr style=\"text-align: right;\">\n",
       "      <th></th>\n",
       "      <th>Open</th>\n",
       "      <th>High</th>\n",
       "      <th>Low</th>\n",
       "      <th>Close</th>\n",
       "      <th>Volume</th>\n",
       "      <th>Dividends</th>\n",
       "      <th>Stock Splits</th>\n",
       "    </tr>\n",
       "    <tr>\n",
       "      <th>Datetime</th>\n",
       "      <th></th>\n",
       "      <th></th>\n",
       "      <th></th>\n",
       "      <th></th>\n",
       "      <th></th>\n",
       "      <th></th>\n",
       "      <th></th>\n",
       "    </tr>\n",
       "  </thead>\n",
       "  <tbody>\n",
       "    <tr>\n",
       "      <th>2025-10-08 09:00:00+09:00</th>\n",
       "      <td>47925.218750</td>\n",
       "      <td>48012.320312</td>\n",
       "      <td>47845.628906</td>\n",
       "      <td>47899.671875</td>\n",
       "      <td>0</td>\n",
       "      <td>0.0</td>\n",
       "      <td>0.0</td>\n",
       "    </tr>\n",
       "    <tr>\n",
       "      <th>2025-10-08 09:15:00+09:00</th>\n",
       "      <td>47885.351562</td>\n",
       "      <td>48091.539062</td>\n",
       "      <td>47880.039062</td>\n",
       "      <td>48016.878906</td>\n",
       "      <td>0</td>\n",
       "      <td>0.0</td>\n",
       "      <td>0.0</td>\n",
       "    </tr>\n",
       "    <tr>\n",
       "      <th>2025-10-08 09:30:00+09:00</th>\n",
       "      <td>48028.101562</td>\n",
       "      <td>48139.890625</td>\n",
       "      <td>47976.640625</td>\n",
       "      <td>48126.929688</td>\n",
       "      <td>0</td>\n",
       "      <td>0.0</td>\n",
       "      <td>0.0</td>\n",
       "    </tr>\n",
       "    <tr>\n",
       "      <th>2025-10-08 09:45:00+09:00</th>\n",
       "      <td>48124.648438</td>\n",
       "      <td>48181.121094</td>\n",
       "      <td>48049.570312</td>\n",
       "      <td>48062.750000</td>\n",
       "      <td>0</td>\n",
       "      <td>0.0</td>\n",
       "      <td>0.0</td>\n",
       "    </tr>\n",
       "    <tr>\n",
       "      <th>2025-10-08 10:00:00+09:00</th>\n",
       "      <td>48063.531250</td>\n",
       "      <td>48096.550781</td>\n",
       "      <td>48037.250000</td>\n",
       "      <td>48054.421875</td>\n",
       "      <td>0</td>\n",
       "      <td>0.0</td>\n",
       "      <td>0.0</td>\n",
       "    </tr>\n",
       "    <tr>\n",
       "      <th>2025-10-08 10:15:00+09:00</th>\n",
       "      <td>48054.820312</td>\n",
       "      <td>48087.480469</td>\n",
       "      <td>48017.050781</td>\n",
       "      <td>48027.261719</td>\n",
       "      <td>0</td>\n",
       "      <td>0.0</td>\n",
       "      <td>0.0</td>\n",
       "    </tr>\n",
       "    <tr>\n",
       "      <th>2025-10-08 10:30:00+09:00</th>\n",
       "      <td>48029.109375</td>\n",
       "      <td>48063.308594</td>\n",
       "      <td>47918.289062</td>\n",
       "      <td>47953.820312</td>\n",
       "      <td>0</td>\n",
       "      <td>0.0</td>\n",
       "      <td>0.0</td>\n",
       "    </tr>\n",
       "    <tr>\n",
       "      <th>2025-10-08 10:45:00+09:00</th>\n",
       "      <td>47961.761719</td>\n",
       "      <td>48011.199219</td>\n",
       "      <td>47904.218750</td>\n",
       "      <td>47914.308594</td>\n",
       "      <td>0</td>\n",
       "      <td>0.0</td>\n",
       "      <td>0.0</td>\n",
       "    </tr>\n",
       "    <tr>\n",
       "      <th>2025-10-08 11:00:00+09:00</th>\n",
       "      <td>47916.390625</td>\n",
       "      <td>48012.750000</td>\n",
       "      <td>47892.140625</td>\n",
       "      <td>48008.531250</td>\n",
       "      <td>0</td>\n",
       "      <td>0.0</td>\n",
       "      <td>0.0</td>\n",
       "    </tr>\n",
       "    <tr>\n",
       "      <th>2025-10-08 11:15:00+09:00</th>\n",
       "      <td>48008.550781</td>\n",
       "      <td>48040.378906</td>\n",
       "      <td>47962.800781</td>\n",
       "      <td>47968.261719</td>\n",
       "      <td>0</td>\n",
       "      <td>0.0</td>\n",
       "      <td>0.0</td>\n",
       "    </tr>\n",
       "    <tr>\n",
       "      <th>2025-10-08 11:30:00+09:00</th>\n",
       "      <td>47962.359375</td>\n",
       "      <td>47965.289062</td>\n",
       "      <td>47962.359375</td>\n",
       "      <td>47965.289062</td>\n",
       "      <td>0</td>\n",
       "      <td>0.0</td>\n",
       "      <td>0.0</td>\n",
       "    </tr>\n",
       "  </tbody>\n",
       "</table>\n",
       "</div>"
      ],
      "text/plain": [
       "                                   Open          High           Low  \\\n",
       "Datetime                                                              \n",
       "2025-10-08 09:00:00+09:00  47925.218750  48012.320312  47845.628906   \n",
       "2025-10-08 09:15:00+09:00  47885.351562  48091.539062  47880.039062   \n",
       "2025-10-08 09:30:00+09:00  48028.101562  48139.890625  47976.640625   \n",
       "2025-10-08 09:45:00+09:00  48124.648438  48181.121094  48049.570312   \n",
       "2025-10-08 10:00:00+09:00  48063.531250  48096.550781  48037.250000   \n",
       "2025-10-08 10:15:00+09:00  48054.820312  48087.480469  48017.050781   \n",
       "2025-10-08 10:30:00+09:00  48029.109375  48063.308594  47918.289062   \n",
       "2025-10-08 10:45:00+09:00  47961.761719  48011.199219  47904.218750   \n",
       "2025-10-08 11:00:00+09:00  47916.390625  48012.750000  47892.140625   \n",
       "2025-10-08 11:15:00+09:00  48008.550781  48040.378906  47962.800781   \n",
       "2025-10-08 11:30:00+09:00  47962.359375  47965.289062  47962.359375   \n",
       "\n",
       "                                  Close  Volume  Dividends  Stock Splits  \n",
       "Datetime                                                                  \n",
       "2025-10-08 09:00:00+09:00  47899.671875       0        0.0           0.0  \n",
       "2025-10-08 09:15:00+09:00  48016.878906       0        0.0           0.0  \n",
       "2025-10-08 09:30:00+09:00  48126.929688       0        0.0           0.0  \n",
       "2025-10-08 09:45:00+09:00  48062.750000       0        0.0           0.0  \n",
       "2025-10-08 10:00:00+09:00  48054.421875       0        0.0           0.0  \n",
       "2025-10-08 10:15:00+09:00  48027.261719       0        0.0           0.0  \n",
       "2025-10-08 10:30:00+09:00  47953.820312       0        0.0           0.0  \n",
       "2025-10-08 10:45:00+09:00  47914.308594       0        0.0           0.0  \n",
       "2025-10-08 11:00:00+09:00  48008.531250       0        0.0           0.0  \n",
       "2025-10-08 11:15:00+09:00  47968.261719       0        0.0           0.0  \n",
       "2025-10-08 11:30:00+09:00  47965.289062       0        0.0           0.0  "
      ]
     },
     "execution_count": 93,
     "metadata": {},
     "output_type": "execute_result"
    }
   ],
   "source": [
    "code = \"N225\"\n",
    "symbol = f\"^{code}\"\n",
    "ticker = yf.Ticker(symbol)\n",
    "df = ticker.history(period=\"1d\", interval=\"15m\")\n",
    "df"
   ]
  },
  {
   "cell_type": "markdown",
   "id": "2b974883-632b-43cf-8f1b-9f3e4cededdd",
   "metadata": {
    "jp-MarkdownHeadingCollapsed": true
   },
   "source": [
    "## 前日終値の取得"
   ]
  },
  {
   "cell_type": "code",
   "execution_count": 94,
   "id": "cf79a23f-ac87-47e6-bd34-0746a65c86f9",
   "metadata": {},
   "outputs": [
    {
     "name": "stdout",
     "output_type": "stream",
     "text": [
      "Date\n",
      "2025-10-01 00:00:00+09:00    44550.851562\n",
      "2025-10-02 00:00:00+09:00    44936.730469\n",
      "2025-10-03 00:00:00+09:00    45769.500000\n",
      "2025-10-06 00:00:00+09:00    47944.761719\n",
      "2025-10-07 00:00:00+09:00    47950.878906\n",
      "2025-10-08 00:00:00+09:00    47965.289062\n",
      "Name: Close, dtype: float64\n"
     ]
    },
    {
     "data": {
      "text/plain": [
       "Date\n",
       "2025-10-07 00:00:00+09:00    47950.878906\n",
       "Name: Close, dtype: float64"
      ]
     },
     "execution_count": 94,
     "metadata": {},
     "output_type": "execute_result"
    }
   ],
   "source": [
    "# 過去一週間のデータを取得\n",
    "td = datetime.timedelta(days=7)\n",
    "dt_first = df.index[0]\n",
    "dt_prev = dt_first - td\n",
    "df_last = ticker.history(interval=\"1d\", start=str(dt_prev.date()))\n",
    "print(df_last[\"Close\"])\n",
    "n = len(df_last)\n",
    "lastclose = df_last[n - 2 : n - 1][\"Close\"].iloc[0]\n",
    "# lastclose = 44902.27 # 9/16 終値\n",
    "# 確認のため出力\n",
    "df_last[n - 2 : n - 1][\"Close\"]"
   ]
  },
  {
   "cell_type": "markdown",
   "id": "e41961ad-e3e5-4055-a368-6295b0c73219",
   "metadata": {},
   "source": [
    "### 当日始値 - 前日終値"
   ]
  },
  {
   "cell_type": "code",
   "execution_count": 95,
   "id": "0acbf95b-3e5c-4df6-a7dc-c3e4f82578af",
   "metadata": {},
   "outputs": [
    {
     "name": "stdout",
     "output_type": "stream",
     "text": [
      "-25.66\n"
     ]
    }
   ],
   "source": [
    "delta_open = df.head(1)[\"Open\"].iloc[0] - lastclose\n",
    "print(f\"{delta_open:+.2f}\")"
   ]
  },
  {
   "cell_type": "markdown",
   "id": "432d492c-6e58-46b6-8004-044d4419c02c",
   "metadata": {},
   "source": [
    "## ローソク足チャート（小さいサイズ）"
   ]
  },
  {
   "cell_type": "code",
   "execution_count": 96,
   "id": "f4d0b7d0-b14a-4bfd-949a-c03ee4a578a0",
   "metadata": {},
   "outputs": [
    {
     "data": {
      "image/png": "[encoded data removed]",
      "text/plain": [
       "<Figure size 300x200 with 1 Axes>"
      ]
     },
     "metadata": {},
     "output_type": "display_data"
    }
   ],
   "source": [
    "FONT_PATH = \"../fonts/RictyDiminished-Regular.ttf\"\n",
    "fm.fontManager.addfont(FONT_PATH)\n",
    "\n",
    "# FontPropertiesオブジェクト生成（名前の取得のため）\n",
    "font_prop = fm.FontProperties(fname=FONT_PATH)\n",
    "font_prop.get_name()\n",
    "\n",
    "plt.rcParams[\"font.family\"] = font_prop.get_name()\n",
    "plt.rcParams[\"font.size\"] = 9\n",
    "\n",
    "fig, ax = plt.subplots(figsize=(3, 2))\n",
    "mpf.plot(\n",
    "    df,\n",
    "    type=\"candle\",\n",
    "    style=\"default\",\n",
    "    datetime_format=\"%H:%M\",\n",
    "    xrotation=0,\n",
    "    update_width_config=dict(candle_linewidth=0.75),\n",
    "    ax=ax,\n",
    ")\n",
    "ax.axhline(y=lastclose, color=\"red\", linewidth=0.75)\n",
    "ax.set_ylabel(None)\n",
    "ax.grid()\n",
    "\n",
    "if \"shortName\" in ticker.info:\n",
    "    ax.set_title(f\"{ticker.info['shortName']} ({symbol})\")\n",
    "elif \"longName\" in ticker.info:\n",
    "    ax.set_title(f\"{ticker.info['longName']} ({symbol})\")\n",
    "else:\n",
    "    ax.set_title(f\"{symbol}\")\n",
    "\n",
    "plt.tight_layout()\n",
    "plt.savefig(get_name_15min_chart(code, dt_first))\n",
    "plt.show()"
   ]
  },
  {
   "cell_type": "code",
   "execution_count": null,
   "id": "f18e1ab8-e1be-4684-a805-0584f61e0488",
   "metadata": {},
   "outputs": [],
   "source": []
  }
 ],
 "metadata": {
  "kernelspec": {
   "display_name": "Python 3 (ipykernel)",
   "language": "python",
   "name": "python3"
  },
  "language_info": {
   "codemirror_mode": {
    "name": "ipython",
    "version": 3
   },
   "file_extension": ".py",
   "mimetype": "text/x-python",
   "name": "python",
   "nbconvert_exporter": "python",
   "pygments_lexer": "ipython3",
   "version": "3.13.7"
  }
 },
 "nbformat": 4,
 "nbformat_minor": 5
}
