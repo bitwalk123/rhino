{
 "cells": [
  {
   "cell_type": "markdown",
   "id": "07ceea52-6536-47e0-81aa-30c017b5bfc5",
   "metadata": {},
   "source": [
    "# 日経平均株価 15分足"
   ]
  },
  {
   "cell_type": "markdown",
   "id": "8a363236-5477-4a61-99da-bf92362631f4",
   "metadata": {},
   "source": [
    "### 一つ上のディレクトリをパスに追加"
   ]
  },
  {
   "cell_type": "code",
   "execution_count": 90,
   "id": "f1f6d8b7-4107-4a29-ae60-f3cbfa1f5a38",
   "metadata": {},
   "outputs": [],
   "source": [
    "import sys\n",
    "\n",
    "path_up = \"..\"\n",
    "if not path_up in sys.path:\n",
    "    sys.path.append(path_up)"
   ]
  },
  {
   "cell_type": "markdown",
   "id": "19d64844-3cbf-4a92-827e-43c425e34eb6",
   "metadata": {},
   "source": [
    "### ライブラリをここで一括インポート"
   ]
  },
  {
   "cell_type": "code",
   "execution_count": 91,
   "id": "3421a3f8-52ac-41e8-8e08-921ddaa4b37a",
   "metadata": {},
   "outputs": [],
   "source": [
    "import datetime\n",
    "\n",
    "import matplotlib.font_manager as fm\n",
    "import matplotlib.pyplot as plt\n",
    "import matplotlib.ticker as ticker\n",
    "import mplfinance as mpf\n",
    "import numpy as np\n",
    "import pandas as pd\n",
    "import yfinance as yf\n",
    "\n",
    "from funcs.commons import (\n",
    "    get_name_15min_chart,\n",
    "    get_name_15min_chart_now,\n",
    "    get_name_15min_chart_usd,\n",
    ")"
   ]
  },
  {
   "cell_type": "markdown",
   "id": "8efa7b4f-c5a5-45df-bcbc-c689517b5fb2",
   "metadata": {},
   "source": [
    "## yfinance による株価データの取得"
   ]
  },
  {
   "cell_type": "code",
   "execution_count": 92,
   "id": "513d138a-5223-48b6-868d-a4e49a86c6b6",
   "metadata": {},
   "outputs": [
    {
     "data": {
      "text/html": [
       "<div>\n",
       "<style scoped>\n",
       "    .dataframe tbody tr th:only-of-type {\n",
       "        vertical-align: middle;\n",
       "    }\n",
       "\n",
       "    .dataframe tbody tr th {\n",
       "        vertical-align: top;\n",
       "    }\n",
       "\n",
       "    .dataframe thead th {\n",
       "        text-align: right;\n",
       "    }\n",
       "</style>\n",
       "<table border=\"1\" class=\"dataframe\">\n",
       "  <thead>\n",
       "    <tr style=\"text-align: right;\">\n",
       "      <th></th>\n",
       "      <th>Open</th>\n",
       "      <th>High</th>\n",
       "      <th>Low</th>\n",
       "      <th>Close</th>\n",
       "      <th>Volume</th>\n",
       "      <th>Dividends</th>\n",
       "      <th>Stock Splits</th>\n",
       "    </tr>\n",
       "    <tr>\n",
       "      <th>Datetime</th>\n",
       "      <th></th>\n",
       "      <th></th>\n",
       "      <th></th>\n",
       "      <th></th>\n",
       "      <th></th>\n",
       "      <th></th>\n",
       "      <th></th>\n",
       "    </tr>\n",
       "  </thead>\n",
       "  <tbody>\n",
       "    <tr>\n",
       "      <th>2025-10-17 09:00:00+09:00</th>\n",
       "      <td>47820.968750</td>\n",
       "      <td>47926.250000</td>\n",
       "      <td>47750.558594</td>\n",
       "      <td>47781.378906</td>\n",
       "      <td>0</td>\n",
       "      <td>0.0</td>\n",
       "      <td>0.0</td>\n",
       "    </tr>\n",
       "    <tr>\n",
       "      <th>2025-10-17 09:15:00+09:00</th>\n",
       "      <td>47780.980469</td>\n",
       "      <td>47827.890625</td>\n",
       "      <td>47734.761719</td>\n",
       "      <td>47776.781250</td>\n",
       "      <td>0</td>\n",
       "      <td>0.0</td>\n",
       "      <td>0.0</td>\n",
       "    </tr>\n",
       "    <tr>\n",
       "      <th>2025-10-17 09:30:00+09:00</th>\n",
       "      <td>47771.320312</td>\n",
       "      <td>47828.230469</td>\n",
       "      <td>47729.859375</td>\n",
       "      <td>47807.460938</td>\n",
       "      <td>0</td>\n",
       "      <td>0.0</td>\n",
       "      <td>0.0</td>\n",
       "    </tr>\n",
       "    <tr>\n",
       "      <th>2025-10-17 09:45:00+09:00</th>\n",
       "      <td>47819.210938</td>\n",
       "      <td>47905.500000</td>\n",
       "      <td>47729.109375</td>\n",
       "      <td>47867.238281</td>\n",
       "      <td>0</td>\n",
       "      <td>0.0</td>\n",
       "      <td>0.0</td>\n",
       "    </tr>\n",
       "    <tr>\n",
       "      <th>2025-10-17 10:00:00+09:00</th>\n",
       "      <td>47869.570312</td>\n",
       "      <td>48017.410156</td>\n",
       "      <td>47869.570312</td>\n",
       "      <td>47991.488281</td>\n",
       "      <td>0</td>\n",
       "      <td>0.0</td>\n",
       "      <td>0.0</td>\n",
       "    </tr>\n",
       "    <tr>\n",
       "      <th>2025-10-17 10:15:00+09:00</th>\n",
       "      <td>47995.390625</td>\n",
       "      <td>48128.109375</td>\n",
       "      <td>47995.390625</td>\n",
       "      <td>48128.109375</td>\n",
       "      <td>0</td>\n",
       "      <td>0.0</td>\n",
       "      <td>0.0</td>\n",
       "    </tr>\n",
       "    <tr>\n",
       "      <th>2025-10-17 10:30:00+09:00</th>\n",
       "      <td>48132.679688</td>\n",
       "      <td>48140.898438</td>\n",
       "      <td>48046.429688</td>\n",
       "      <td>48066.851562</td>\n",
       "      <td>0</td>\n",
       "      <td>0.0</td>\n",
       "      <td>0.0</td>\n",
       "    </tr>\n",
       "    <tr>\n",
       "      <th>2025-10-17 10:45:00+09:00</th>\n",
       "      <td>48067.000000</td>\n",
       "      <td>48067.269531</td>\n",
       "      <td>47951.101562</td>\n",
       "      <td>47951.101562</td>\n",
       "      <td>0</td>\n",
       "      <td>0.0</td>\n",
       "      <td>0.0</td>\n",
       "    </tr>\n",
       "  </tbody>\n",
       "</table>\n",
       "</div>"
      ],
      "text/plain": [
       "                                   Open          High           Low  \\\n",
       "Datetime                                                              \n",
       "2025-10-17 09:00:00+09:00  47820.968750  47926.250000  47750.558594   \n",
       "2025-10-17 09:15:00+09:00  47780.980469  47827.890625  47734.761719   \n",
       "2025-10-17 09:30:00+09:00  47771.320312  47828.230469  47729.859375   \n",
       "2025-10-17 09:45:00+09:00  47819.210938  47905.500000  47729.109375   \n",
       "2025-10-17 10:00:00+09:00  47869.570312  48017.410156  47869.570312   \n",
       "2025-10-17 10:15:00+09:00  47995.390625  48128.109375  47995.390625   \n",
       "2025-10-17 10:30:00+09:00  48132.679688  48140.898438  48046.429688   \n",
       "2025-10-17 10:45:00+09:00  48067.000000  48067.269531  47951.101562   \n",
       "\n",
       "                                  Close  Volume  Dividends  Stock Splits  \n",
       "Datetime                                                                  \n",
       "2025-10-17 09:00:00+09:00  47781.378906       0        0.0           0.0  \n",
       "2025-10-17 09:15:00+09:00  47776.781250       0        0.0           0.0  \n",
       "2025-10-17 09:30:00+09:00  47807.460938       0        0.0           0.0  \n",
       "2025-10-17 09:45:00+09:00  47867.238281       0        0.0           0.0  \n",
       "2025-10-17 10:00:00+09:00  47991.488281       0        0.0           0.0  \n",
       "2025-10-17 10:15:00+09:00  48128.109375       0        0.0           0.0  \n",
       "2025-10-17 10:30:00+09:00  48066.851562       0        0.0           0.0  \n",
       "2025-10-17 10:45:00+09:00  47951.101562       0        0.0           0.0  "
      ]
     },
     "execution_count": 92,
     "metadata": {},
     "output_type": "execute_result"
    }
   ],
   "source": [
    "code = \"N225\"\n",
    "symbol = f\"^{code}\"\n",
    "ticker1 = yf.Ticker(symbol)\n",
    "df = ticker1.history(period=\"1d\", interval=\"15m\")\n",
    "df"
   ]
  },
  {
   "cell_type": "markdown",
   "id": "2b974883-632b-43cf-8f1b-9f3e4cededdd",
   "metadata": {},
   "source": [
    "## 前日終値の取得"
   ]
  },
  {
   "cell_type": "code",
   "execution_count": 93,
   "id": "cf79a23f-ac87-47e6-bd34-0746a65c86f9",
   "metadata": {},
   "outputs": [
    {
     "name": "stdout",
     "output_type": "stream",
     "text": [
      "Date\n",
      "2025-10-10 00:00:00+09:00    48088.800781\n",
      "2025-10-14 00:00:00+09:00    46847.320312\n",
      "2025-10-15 00:00:00+09:00    47672.671875\n",
      "2025-10-16 00:00:00+09:00    48277.738281\n",
      "2025-10-17 00:00:00+09:00    47951.101562\n",
      "Name: Close, dtype: float64\n"
     ]
    },
    {
     "data": {
      "text/plain": [
       "Date\n",
       "2025-10-16 00:00:00+09:00    48277.738281\n",
       "Name: Close, dtype: float64"
      ]
     },
     "execution_count": 93,
     "metadata": {},
     "output_type": "execute_result"
    }
   ],
   "source": [
    "# 過去一週間のデータを取得\n",
    "td = datetime.timedelta(days=7)\n",
    "dt_first = df.index[0]\n",
    "dt_prev = dt_first - td\n",
    "df_last = ticker1.history(interval=\"1d\", start=str(dt_prev.date()))\n",
    "print(df_last[\"Close\"])\n",
    "n = len(df_last)\n",
    "lastclose = df_last[n - 2 : n - 1][\"Close\"].iloc[0]\n",
    "# lastclose = 44902.27 # 9/16 終値\n",
    "# 確認のため出力\n",
    "df_last[n - 2 : n - 1][\"Close\"]"
   ]
  },
  {
   "cell_type": "markdown",
   "id": "e41961ad-e3e5-4055-a368-6295b0c73219",
   "metadata": {},
   "source": [
    "### 当日始値 - 前日終値"
   ]
  },
  {
   "cell_type": "code",
   "execution_count": 94,
   "id": "0acbf95b-3e5c-4df6-a7dc-c3e4f82578af",
   "metadata": {},
   "outputs": [
    {
     "name": "stdout",
     "output_type": "stream",
     "text": [
      "-456.77\n"
     ]
    }
   ],
   "source": [
    "delta_open = df.head(1)[\"Open\"].iloc[0] - lastclose\n",
    "print(f\"{delta_open:+.2f}\")"
   ]
  },
  {
   "cell_type": "markdown",
   "id": "432d492c-6e58-46b6-8004-044d4419c02c",
   "metadata": {},
   "source": [
    "## ローソク足チャート（小さいサイズ）"
   ]
  },
  {
   "cell_type": "code",
   "execution_count": 95,
   "id": "f4d0b7d0-b14a-4bfd-949a-c03ee4a578a0",
   "metadata": {},
   "outputs": [
    {
     "data": {
      "image/png": "[encoded data removed]",
      "text/plain": [
       "<Figure size 300x180 with 1 Axes>"
      ]
     },
     "metadata": {},
     "output_type": "display_data"
    }
   ],
   "source": [
    "FONT_PATH = \"../fonts/RictyDiminished-Regular.ttf\"\n",
    "fm.fontManager.addfont(FONT_PATH)\n",
    "\n",
    "# FontPropertiesオブジェクト生成（名前の取得のため）\n",
    "font_prop = fm.FontProperties(fname=FONT_PATH)\n",
    "font_prop.get_name()\n",
    "\n",
    "plt.rcParams[\"font.family\"] = font_prop.get_name()\n",
    "plt.rcParams[\"font.size\"] = 8\n",
    "\n",
    "fig, ax = plt.subplots(figsize=(3, 1.8))\n",
    "\n",
    "ax.axhline(y=lastclose, color=\"red\", linewidth=0.75)\n",
    "mpf.plot(\n",
    "    df,\n",
    "    type=\"candle\",\n",
    "    style=\"default\",\n",
    "    datetime_format=\"%H:%M\",\n",
    "    xrotation=0,\n",
    "    update_width_config=dict(candle_linewidth=0.75),\n",
    "    ax=ax,\n",
    ")\n",
    "ax.yaxis.set_major_formatter(ticker.StrMethodFormatter('{x:,.0f}'))\n",
    "ax.set_ylabel(\"JPY\")\n",
    "ax.grid()\n",
    "\n",
    "if \"shortName\" in ticker1.info:\n",
    "    ax.set_title(f\"{ticker1.info['shortName']} ({symbol})\")\n",
    "elif \"longName\" in ticker1.info:\n",
    "    ax.set_title(f\"{ticker1.info['longName']} ({symbol})\")\n",
    "else:\n",
    "    ax.set_title(f\"{symbol}\")\n",
    "\n",
    "plt.tight_layout()\n",
    "plt.savefig(get_name_15min_chart(code, dt_first))\n",
    "plt.show()"
   ]
  },
  {
   "cell_type": "markdown",
   "id": "975de5bc-90ff-4c41-898a-0aa329c7576a",
   "metadata": {},
   "source": [
    "## ドル円レートで換算"
   ]
  },
  {
   "cell_type": "code",
   "execution_count": 96,
   "id": "f18e1ab8-e1be-4684-a805-0584f61e0488",
   "metadata": {},
   "outputs": [],
   "source": [
    "code2 = \"USDJPY=X\"\n",
    "symbol2 = code2\n",
    "ticker2 = yf.Ticker(symbol2)"
   ]
  },
  {
   "cell_type": "markdown",
   "id": "3d3c79b6-f705-4109-9b86-21f6c073df78",
   "metadata": {},
   "source": [
    "### 過去２日分のドル円レートの過去データを取得"
   ]
  },
  {
   "cell_type": "code",
   "execution_count": 97,
   "id": "da50dc67-a62c-4db4-9e26-71abcd1ab12d",
   "metadata": {},
   "outputs": [
    {
     "data": {
      "text/html": [
       "<div>\n",
       "<style scoped>\n",
       "    .dataframe tbody tr th:only-of-type {\n",
       "        vertical-align: middle;\n",
       "    }\n",
       "\n",
       "    .dataframe tbody tr th {\n",
       "        vertical-align: top;\n",
       "    }\n",
       "\n",
       "    .dataframe thead th {\n",
       "        text-align: right;\n",
       "    }\n",
       "</style>\n",
       "<table border=\"1\" class=\"dataframe\">\n",
       "  <thead>\n",
       "    <tr style=\"text-align: right;\">\n",
       "      <th></th>\n",
       "      <th>Open</th>\n",
       "      <th>High</th>\n",
       "      <th>Low</th>\n",
       "      <th>Close</th>\n",
       "      <th>Volume</th>\n",
       "      <th>Dividends</th>\n",
       "      <th>Stock Splits</th>\n",
       "    </tr>\n",
       "    <tr>\n",
       "      <th>Datetime</th>\n",
       "      <th></th>\n",
       "      <th></th>\n",
       "      <th></th>\n",
       "      <th></th>\n",
       "      <th></th>\n",
       "      <th></th>\n",
       "      <th></th>\n",
       "    </tr>\n",
       "  </thead>\n",
       "  <tbody>\n",
       "    <tr>\n",
       "      <th>2025-10-16 08:00:00+09:00</th>\n",
       "      <td>150.906998</td>\n",
       "      <td>150.988007</td>\n",
       "      <td>150.876999</td>\n",
       "      <td>150.970001</td>\n",
       "      <td>0</td>\n",
       "      <td>0.0</td>\n",
       "      <td>0.0</td>\n",
       "    </tr>\n",
       "    <tr>\n",
       "      <th>2025-10-16 08:15:00+09:00</th>\n",
       "      <td>150.966003</td>\n",
       "      <td>151.037994</td>\n",
       "      <td>150.938995</td>\n",
       "      <td>151.003998</td>\n",
       "      <td>0</td>\n",
       "      <td>0.0</td>\n",
       "      <td>0.0</td>\n",
       "    </tr>\n",
       "    <tr>\n",
       "      <th>2025-10-16 08:30:00+09:00</th>\n",
       "      <td>151.005997</td>\n",
       "      <td>151.022995</td>\n",
       "      <td>150.923004</td>\n",
       "      <td>150.970993</td>\n",
       "      <td>0</td>\n",
       "      <td>0.0</td>\n",
       "      <td>0.0</td>\n",
       "    </tr>\n",
       "    <tr>\n",
       "      <th>2025-10-16 08:45:00+09:00</th>\n",
       "      <td>150.968994</td>\n",
       "      <td>151.003998</td>\n",
       "      <td>150.904007</td>\n",
       "      <td>150.983002</td>\n",
       "      <td>0</td>\n",
       "      <td>0.0</td>\n",
       "      <td>0.0</td>\n",
       "    </tr>\n",
       "    <tr>\n",
       "      <th>2025-10-16 09:00:00+09:00</th>\n",
       "      <td>150.983002</td>\n",
       "      <td>151.091003</td>\n",
       "      <td>150.774994</td>\n",
       "      <td>150.787003</td>\n",
       "      <td>0</td>\n",
       "      <td>0.0</td>\n",
       "      <td>0.0</td>\n",
       "    </tr>\n",
       "    <tr>\n",
       "      <th>...</th>\n",
       "      <td>...</td>\n",
       "      <td>...</td>\n",
       "      <td>...</td>\n",
       "      <td>...</td>\n",
       "      <td>...</td>\n",
       "      <td>...</td>\n",
       "      <td>...</td>\n",
       "    </tr>\n",
       "    <tr>\n",
       "      <th>2025-10-17 10:00:00+09:00</th>\n",
       "      <td>150.223999</td>\n",
       "      <td>150.287994</td>\n",
       "      <td>150.167007</td>\n",
       "      <td>150.238998</td>\n",
       "      <td>0</td>\n",
       "      <td>0.0</td>\n",
       "      <td>0.0</td>\n",
       "    </tr>\n",
       "    <tr>\n",
       "      <th>2025-10-17 10:15:00+09:00</th>\n",
       "      <td>150.238007</td>\n",
       "      <td>150.335007</td>\n",
       "      <td>150.225998</td>\n",
       "      <td>150.328003</td>\n",
       "      <td>0</td>\n",
       "      <td>0.0</td>\n",
       "      <td>0.0</td>\n",
       "    </tr>\n",
       "    <tr>\n",
       "      <th>2025-10-17 10:30:00+09:00</th>\n",
       "      <td>150.330002</td>\n",
       "      <td>150.360001</td>\n",
       "      <td>150.235001</td>\n",
       "      <td>150.339996</td>\n",
       "      <td>0</td>\n",
       "      <td>0.0</td>\n",
       "      <td>0.0</td>\n",
       "    </tr>\n",
       "    <tr>\n",
       "      <th>2025-10-17 10:45:00+09:00</th>\n",
       "      <td>150.339005</td>\n",
       "      <td>150.360992</td>\n",
       "      <td>150.281998</td>\n",
       "      <td>150.309998</td>\n",
       "      <td>0</td>\n",
       "      <td>0.0</td>\n",
       "      <td>0.0</td>\n",
       "    </tr>\n",
       "    <tr>\n",
       "      <th>2025-10-17 11:00:00+09:00</th>\n",
       "      <td>150.309006</td>\n",
       "      <td>150.389008</td>\n",
       "      <td>150.272995</td>\n",
       "      <td>150.362000</td>\n",
       "      <td>0</td>\n",
       "      <td>0.0</td>\n",
       "      <td>0.0</td>\n",
       "    </tr>\n",
       "  </tbody>\n",
       "</table>\n",
       "<p>107 rows × 7 columns</p>\n",
       "</div>"
      ],
      "text/plain": [
       "                                 Open        High         Low       Close  \\\n",
       "Datetime                                                                    \n",
       "2025-10-16 08:00:00+09:00  150.906998  150.988007  150.876999  150.970001   \n",
       "2025-10-16 08:15:00+09:00  150.966003  151.037994  150.938995  151.003998   \n",
       "2025-10-16 08:30:00+09:00  151.005997  151.022995  150.923004  150.970993   \n",
       "2025-10-16 08:45:00+09:00  150.968994  151.003998  150.904007  150.983002   \n",
       "2025-10-16 09:00:00+09:00  150.983002  151.091003  150.774994  150.787003   \n",
       "...                               ...         ...         ...         ...   \n",
       "2025-10-17 10:00:00+09:00  150.223999  150.287994  150.167007  150.238998   \n",
       "2025-10-17 10:15:00+09:00  150.238007  150.335007  150.225998  150.328003   \n",
       "2025-10-17 10:30:00+09:00  150.330002  150.360001  150.235001  150.339996   \n",
       "2025-10-17 10:45:00+09:00  150.339005  150.360992  150.281998  150.309998   \n",
       "2025-10-17 11:00:00+09:00  150.309006  150.389008  150.272995  150.362000   \n",
       "\n",
       "                           Volume  Dividends  Stock Splits  \n",
       "Datetime                                                    \n",
       "2025-10-16 08:00:00+09:00       0        0.0           0.0  \n",
       "2025-10-16 08:15:00+09:00       0        0.0           0.0  \n",
       "2025-10-16 08:30:00+09:00       0        0.0           0.0  \n",
       "2025-10-16 08:45:00+09:00       0        0.0           0.0  \n",
       "2025-10-16 09:00:00+09:00       0        0.0           0.0  \n",
       "...                           ...        ...           ...  \n",
       "2025-10-17 10:00:00+09:00       0        0.0           0.0  \n",
       "2025-10-17 10:15:00+09:00       0        0.0           0.0  \n",
       "2025-10-17 10:30:00+09:00       0        0.0           0.0  \n",
       "2025-10-17 10:45:00+09:00       0        0.0           0.0  \n",
       "2025-10-17 11:00:00+09:00       0        0.0           0.0  \n",
       "\n",
       "[107 rows x 7 columns]"
      ]
     },
     "execution_count": 97,
     "metadata": {},
     "output_type": "execute_result"
    }
   ],
   "source": [
    "# 15分足で過去 2 日分のデータを取得\n",
    "df_exchange = ticker2.history(period=\"2d\", interval=\"15m\")\n",
    "df_exchange.index = df_exchange.index.tz_convert(\"Asia/Tokyo\")\n",
    "df_exchange"
   ]
  },
  {
   "cell_type": "markdown",
   "id": "3bdb0d3e-7c5b-4d00-8ef6-a79d243141ce",
   "metadata": {},
   "source": [
    "### 15分足の Close のドル円レートで一括割る"
   ]
  },
  {
   "cell_type": "code",
   "execution_count": 98,
   "id": "f78f11ba-0261-41ae-b3fa-fdc3d7c2caff",
   "metadata": {},
   "outputs": [
    {
     "data": {
      "text/html": [
       "<div>\n",
       "<style scoped>\n",
       "    .dataframe tbody tr th:only-of-type {\n",
       "        vertical-align: middle;\n",
       "    }\n",
       "\n",
       "    .dataframe tbody tr th {\n",
       "        vertical-align: top;\n",
       "    }\n",
       "\n",
       "    .dataframe thead th {\n",
       "        text-align: right;\n",
       "    }\n",
       "</style>\n",
       "<table border=\"1\" class=\"dataframe\">\n",
       "  <thead>\n",
       "    <tr style=\"text-align: right;\">\n",
       "      <th></th>\n",
       "      <th>Open</th>\n",
       "      <th>High</th>\n",
       "      <th>Low</th>\n",
       "      <th>Close</th>\n",
       "    </tr>\n",
       "    <tr>\n",
       "      <th>Datetime</th>\n",
       "      <th></th>\n",
       "      <th></th>\n",
       "      <th></th>\n",
       "      <th></th>\n",
       "    </tr>\n",
       "  </thead>\n",
       "  <tbody>\n",
       "    <tr>\n",
       "      <th>2025-10-17 09:00:00+09:00</th>\n",
       "      <td>318.551627</td>\n",
       "      <td>319.252941</td>\n",
       "      <td>318.082602</td>\n",
       "      <td>318.287906</td>\n",
       "    </tr>\n",
       "    <tr>\n",
       "      <th>2025-10-17 09:15:00+09:00</th>\n",
       "      <td>318.228000</td>\n",
       "      <td>318.540428</td>\n",
       "      <td>317.920176</td>\n",
       "      <td>318.200032</td>\n",
       "    </tr>\n",
       "    <tr>\n",
       "      <th>2025-10-17 09:30:00+09:00</th>\n",
       "      <td>318.072572</td>\n",
       "      <td>318.451493</td>\n",
       "      <td>317.796515</td>\n",
       "      <td>318.313204</td>\n",
       "    </tr>\n",
       "    <tr>\n",
       "      <th>2025-10-17 09:45:00+09:00</th>\n",
       "      <td>318.308780</td>\n",
       "      <td>318.883163</td>\n",
       "      <td>317.709018</td>\n",
       "      <td>318.628474</td>\n",
       "    </tr>\n",
       "    <tr>\n",
       "      <th>2025-10-17 10:00:00+09:00</th>\n",
       "      <td>318.622800</td>\n",
       "      <td>319.606831</td>\n",
       "      <td>318.622800</td>\n",
       "      <td>319.434293</td>\n",
       "    </tr>\n",
       "    <tr>\n",
       "      <th>2025-10-17 10:15:00+09:00</th>\n",
       "      <td>319.271125</td>\n",
       "      <td>320.153986</td>\n",
       "      <td>319.271125</td>\n",
       "      <td>320.153986</td>\n",
       "    </tr>\n",
       "    <tr>\n",
       "      <th>2025-10-17 10:30:00+09:00</th>\n",
       "      <td>320.158846</td>\n",
       "      <td>320.213513</td>\n",
       "      <td>319.585146</td>\n",
       "      <td>319.720984</td>\n",
       "    </tr>\n",
       "    <tr>\n",
       "      <th>2025-10-17 10:45:00+09:00</th>\n",
       "      <td>319.785781</td>\n",
       "      <td>319.787574</td>\n",
       "      <td>319.014719</td>\n",
       "      <td>319.014719</td>\n",
       "    </tr>\n",
       "  </tbody>\n",
       "</table>\n",
       "</div>"
      ],
      "text/plain": [
       "                                 Open        High         Low       Close\n",
       "Datetime                                                                 \n",
       "2025-10-17 09:00:00+09:00  318.551627  319.252941  318.082602  318.287906\n",
       "2025-10-17 09:15:00+09:00  318.228000  318.540428  317.920176  318.200032\n",
       "2025-10-17 09:30:00+09:00  318.072572  318.451493  317.796515  318.313204\n",
       "2025-10-17 09:45:00+09:00  318.308780  318.883163  317.709018  318.628474\n",
       "2025-10-17 10:00:00+09:00  318.622800  319.606831  318.622800  319.434293\n",
       "2025-10-17 10:15:00+09:00  319.271125  320.153986  319.271125  320.153986\n",
       "2025-10-17 10:30:00+09:00  320.158846  320.213513  319.585146  319.720984\n",
       "2025-10-17 10:45:00+09:00  319.785781  319.787574  319.014719  319.014719"
      ]
     },
     "execution_count": 98,
     "metadata": {},
     "output_type": "execute_result"
    }
   ],
   "source": [
    "ser_rate = df_exchange.loc[df.index, \"Close\"]\n",
    "ser_rate\n",
    "df2 = pd.DataFrame()\n",
    "df2[\"Open\"] = df[\"Open\"] / ser_rate\n",
    "df2[\"High\"] = df[\"High\"] / ser_rate\n",
    "df2[\"Low\"] = df[\"Low\"] / ser_rate\n",
    "df2[\"Close\"] = df[\"Close\"] / ser_rate\n",
    "df2"
   ]
  },
  {
   "cell_type": "markdown",
   "id": "3c20e929-430e-4b75-9b16-23408c6e40cd",
   "metadata": {},
   "source": [
    "### 前日の終値のドル円レートから、前日の終値のドル換算"
   ]
  },
  {
   "cell_type": "code",
   "execution_count": 99,
   "id": "38669de5-6f50-44b1-ad01-33a722573c02",
   "metadata": {},
   "outputs": [
    {
     "name": "stdout",
     "output_type": "stream",
     "text": [
      "2025-10-16 15:15:00+09:00\n"
     ]
    },
    {
     "data": {
      "text/plain": [
       "np.float64(151.07200622558594)"
      ]
     },
     "execution_count": 99,
     "metadata": {},
     "output_type": "execute_result"
    }
   ],
   "source": [
    "dt = df_exchange.head(1).index[0]\n",
    "dt_last_close = pd.to_datetime(f\"{str(dt.date())} 15:15:00+09:00\")\n",
    "print(dt_last_close)\n",
    "last_close_usd = df_exchange.loc[dt_last_close, \"Close\"]\n",
    "last_close_usd"
   ]
  },
  {
   "cell_type": "markdown",
   "id": "7bd6776f-5a42-4d76-8ad5-a8de55eebc09",
   "metadata": {},
   "source": [
    "## ローソク足チャート（小さいサイズ）/ ドル換算チャート"
   ]
  },
  {
   "cell_type": "code",
   "execution_count": 100,
   "id": "67fd86b9-2b36-4dee-aac2-157c7d5db22a",
   "metadata": {},
   "outputs": [
    {
     "name": "stdout",
     "output_type": "stream",
     "text": [
      "前日終値（ドル換算） 319.5677312258633\n"
     ]
    },
    {
     "data": {
      "image/png": "[encoded data removed]",
      "text/plain": [
       "<Figure size 300x180 with 1 Axes>"
      ]
     },
     "metadata": {},
     "output_type": "display_data"
    }
   ],
   "source": [
    "FONT_PATH = \"../fonts/RictyDiminished-Regular.ttf\"\n",
    "fm.fontManager.addfont(FONT_PATH)\n",
    "\n",
    "# FontPropertiesオブジェクト生成（名前の取得のため）\n",
    "font_prop = fm.FontProperties(fname=FONT_PATH)\n",
    "font_prop.get_name()\n",
    "\n",
    "plt.rcParams[\"font.family\"] = font_prop.get_name()\n",
    "plt.rcParams[\"font.size\"] = 8\n",
    "\n",
    "fig, ax = plt.subplots(figsize=(3, 1.8))\n",
    "\n",
    "ax.axhline(y=lastclose / last_close_usd, color=\"red\", linewidth=0.75)\n",
    "print(\"前日終値（ドル換算）\", lastclose / last_close_usd)\n",
    "mpf.plot(\n",
    "    df2,\n",
    "    type=\"candle\",\n",
    "    style=\"default\",\n",
    "    datetime_format=\"%H:%M\",\n",
    "    xrotation=0,\n",
    "    update_width_config=dict(candle_linewidth=0.75),\n",
    "    ax=ax,\n",
    ")\n",
    "ax.yaxis.set_major_formatter(ticker.StrMethodFormatter('{x:,.2f}'))\n",
    "ax.set_ylabel(\"USD\")\n",
    "ax.grid()\n",
    "\n",
    "if \"shortName\" in ticker1.info:\n",
    "    ax.set_title(f\"{ticker1.info['shortName']} ({symbol}) in USD\")\n",
    "elif \"longName\" in ticker1.info:\n",
    "    ax.set_title(f\"{ticker1.info['longName']} ({symbol}) in USD\")\n",
    "else:\n",
    "    ax.set_title(f\"{symbol}\")\n",
    "\n",
    "plt.tight_layout()\n",
    "plt.savefig(get_name_15min_chart_usd(code, dt_first))\n",
    "plt.show()"
   ]
  },
  {
   "cell_type": "code",
   "execution_count": null,
   "id": "11e86162-6fff-4049-922a-58818d5980e4",
   "metadata": {},
   "outputs": [],
   "source": []
  }
 ],
 "metadata": {
  "kernelspec": {
   "display_name": "Python 3 (ipykernel)",
   "language": "python",
   "name": "python3"
  },
  "language_info": {
   "codemirror_mode": {
    "name": "ipython",
    "version": 3
   },
   "file_extension": ".py",
   "mimetype": "text/x-python",
   "name": "python",
   "nbconvert_exporter": "python",
   "pygments_lexer": "ipython3",
   "version": "3.13.7"
  }
 },
 "nbformat": 4,
 "nbformat_minor": 5
}
