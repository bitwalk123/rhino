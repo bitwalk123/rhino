{
 "cells": [
  {
   "cell_type": "markdown",
   "id": "07ceea52-6536-47e0-81aa-30c017b5bfc5",
   "metadata": {},
   "source": [
    "# 日経平均株価 15分足"
   ]
  },
  {
   "cell_type": "markdown",
   "id": "8a363236-5477-4a61-99da-bf92362631f4",
   "metadata": {},
   "source": [
    "### 一つ上のディレクトリをパスに追加"
   ]
  },
  {
   "cell_type": "code",
   "execution_count": 12,
   "id": "f1f6d8b7-4107-4a29-ae60-f3cbfa1f5a38",
   "metadata": {},
   "outputs": [],
   "source": [
    "import sys\n",
    "\n",
    "path_up = \"..\"\n",
    "if not path_up in sys.path:\n",
    "    sys.path.append(path_up)"
   ]
  },
  {
   "cell_type": "markdown",
   "id": "19d64844-3cbf-4a92-827e-43c425e34eb6",
   "metadata": {},
   "source": [
    "### ライブラリをここで一括インポート"
   ]
  },
  {
   "cell_type": "code",
   "execution_count": 13,
   "id": "3421a3f8-52ac-41e8-8e08-921ddaa4b37a",
   "metadata": {},
   "outputs": [],
   "source": [
    "import datetime\n",
    "\n",
    "import matplotlib.font_manager as fm\n",
    "import matplotlib.pyplot as plt\n",
    "import matplotlib.ticker as ticker\n",
    "import mplfinance as mpf\n",
    "import numpy as np\n",
    "import pandas as pd\n",
    "import yfinance as yf\n",
    "\n",
    "from funcs.commons import (\n",
    "    get_name_15min_chart,\n",
    "    get_name_15min_chart_now,\n",
    "    get_name_15min_chart_usd,\n",
    ")"
   ]
  },
  {
   "cell_type": "markdown",
   "id": "8efa7b4f-c5a5-45df-bcbc-c689517b5fb2",
   "metadata": {},
   "source": [
    "## yfinance による株価データの取得"
   ]
  },
  {
   "cell_type": "code",
   "execution_count": 14,
   "id": "513d138a-5223-48b6-868d-a4e49a86c6b6",
   "metadata": {},
   "outputs": [
    {
     "data": {
      "text/html": [
       "<div>\n",
       "<style scoped>\n",
       "    .dataframe tbody tr th:only-of-type {\n",
       "        vertical-align: middle;\n",
       "    }\n",
       "\n",
       "    .dataframe tbody tr th {\n",
       "        vertical-align: top;\n",
       "    }\n",
       "\n",
       "    .dataframe thead th {\n",
       "        text-align: right;\n",
       "    }\n",
       "</style>\n",
       "<table border=\"1\" class=\"dataframe\">\n",
       "  <thead>\n",
       "    <tr style=\"text-align: right;\">\n",
       "      <th></th>\n",
       "      <th>Open</th>\n",
       "      <th>High</th>\n",
       "      <th>Low</th>\n",
       "      <th>Close</th>\n",
       "      <th>Volume</th>\n",
       "      <th>Dividends</th>\n",
       "      <th>Stock Splits</th>\n",
       "    </tr>\n",
       "    <tr>\n",
       "      <th>Datetime</th>\n",
       "      <th></th>\n",
       "      <th></th>\n",
       "      <th></th>\n",
       "      <th></th>\n",
       "      <th></th>\n",
       "      <th></th>\n",
       "      <th></th>\n",
       "    </tr>\n",
       "  </thead>\n",
       "  <tbody>\n",
       "    <tr>\n",
       "      <th>2025-10-31 09:00:00+09:00</th>\n",
       "      <td>51629.800781</td>\n",
       "      <td>51894.101562</td>\n",
       "      <td>51613.031250</td>\n",
       "      <td>51894.101562</td>\n",
       "      <td>0</td>\n",
       "      <td>0.0</td>\n",
       "      <td>0.0</td>\n",
       "    </tr>\n",
       "    <tr>\n",
       "      <th>2025-10-31 09:15:00+09:00</th>\n",
       "      <td>51873.871094</td>\n",
       "      <td>52265.398438</td>\n",
       "      <td>51838.839844</td>\n",
       "      <td>52229.488281</td>\n",
       "      <td>0</td>\n",
       "      <td>0.0</td>\n",
       "      <td>0.0</td>\n",
       "    </tr>\n",
       "    <tr>\n",
       "      <th>2025-10-31 09:30:00+09:00</th>\n",
       "      <td>52217.628906</td>\n",
       "      <td>52257.500000</td>\n",
       "      <td>52145.738281</td>\n",
       "      <td>52193.210938</td>\n",
       "      <td>0</td>\n",
       "      <td>0.0</td>\n",
       "      <td>0.0</td>\n",
       "    </tr>\n",
       "    <tr>\n",
       "      <th>2025-10-31 09:45:00+09:00</th>\n",
       "      <td>52191.949219</td>\n",
       "      <td>52391.449219</td>\n",
       "      <td>52174.878906</td>\n",
       "      <td>52174.878906</td>\n",
       "      <td>0</td>\n",
       "      <td>0.0</td>\n",
       "      <td>0.0</td>\n",
       "    </tr>\n",
       "    <tr>\n",
       "      <th>2025-10-31 10:00:00+09:00</th>\n",
       "      <td>52175.171875</td>\n",
       "      <td>52225.460938</td>\n",
       "      <td>51983.058594</td>\n",
       "      <td>52071.699219</td>\n",
       "      <td>0</td>\n",
       "      <td>0.0</td>\n",
       "      <td>0.0</td>\n",
       "    </tr>\n",
       "    <tr>\n",
       "      <th>2025-10-31 10:15:00+09:00</th>\n",
       "      <td>52061.859375</td>\n",
       "      <td>52092.429688</td>\n",
       "      <td>51915.578125</td>\n",
       "      <td>52025.718750</td>\n",
       "      <td>0</td>\n",
       "      <td>0.0</td>\n",
       "      <td>0.0</td>\n",
       "    </tr>\n",
       "    <tr>\n",
       "      <th>2025-10-31 10:30:00+09:00</th>\n",
       "      <td>52023.921875</td>\n",
       "      <td>52093.539062</td>\n",
       "      <td>51737.281250</td>\n",
       "      <td>51737.281250</td>\n",
       "      <td>0</td>\n",
       "      <td>0.0</td>\n",
       "      <td>0.0</td>\n",
       "    </tr>\n",
       "    <tr>\n",
       "      <th>2025-10-31 10:45:00+09:00</th>\n",
       "      <td>51752.718750</td>\n",
       "      <td>51958.511719</td>\n",
       "      <td>51695.578125</td>\n",
       "      <td>51949.511719</td>\n",
       "      <td>0</td>\n",
       "      <td>0.0</td>\n",
       "      <td>0.0</td>\n",
       "    </tr>\n",
       "    <tr>\n",
       "      <th>2025-10-31 11:00:00+09:00</th>\n",
       "      <td>51946.828125</td>\n",
       "      <td>51967.160156</td>\n",
       "      <td>51873.101562</td>\n",
       "      <td>51932.269531</td>\n",
       "      <td>0</td>\n",
       "      <td>0.0</td>\n",
       "      <td>0.0</td>\n",
       "    </tr>\n",
       "  </tbody>\n",
       "</table>\n",
       "</div>"
      ],
      "text/plain": [
       "                                   Open          High           Low  \\\n",
       "Datetime                                                              \n",
       "2025-10-31 09:00:00+09:00  51629.800781  51894.101562  51613.031250   \n",
       "2025-10-31 09:15:00+09:00  51873.871094  52265.398438  51838.839844   \n",
       "2025-10-31 09:30:00+09:00  52217.628906  52257.500000  52145.738281   \n",
       "2025-10-31 09:45:00+09:00  52191.949219  52391.449219  52174.878906   \n",
       "2025-10-31 10:00:00+09:00  52175.171875  52225.460938  51983.058594   \n",
       "2025-10-31 10:15:00+09:00  52061.859375  52092.429688  51915.578125   \n",
       "2025-10-31 10:30:00+09:00  52023.921875  52093.539062  51737.281250   \n",
       "2025-10-31 10:45:00+09:00  51752.718750  51958.511719  51695.578125   \n",
       "2025-10-31 11:00:00+09:00  51946.828125  51967.160156  51873.101562   \n",
       "\n",
       "                                  Close  Volume  Dividends  Stock Splits  \n",
       "Datetime                                                                  \n",
       "2025-10-31 09:00:00+09:00  51894.101562       0        0.0           0.0  \n",
       "2025-10-31 09:15:00+09:00  52229.488281       0        0.0           0.0  \n",
       "2025-10-31 09:30:00+09:00  52193.210938       0        0.0           0.0  \n",
       "2025-10-31 09:45:00+09:00  52174.878906       0        0.0           0.0  \n",
       "2025-10-31 10:00:00+09:00  52071.699219       0        0.0           0.0  \n",
       "2025-10-31 10:15:00+09:00  52025.718750       0        0.0           0.0  \n",
       "2025-10-31 10:30:00+09:00  51737.281250       0        0.0           0.0  \n",
       "2025-10-31 10:45:00+09:00  51949.511719       0        0.0           0.0  \n",
       "2025-10-31 11:00:00+09:00  51932.269531       0        0.0           0.0  "
      ]
     },
     "execution_count": 14,
     "metadata": {},
     "output_type": "execute_result"
    }
   ],
   "source": [
    "code = \"N225\"\n",
    "symbol = f\"^{code}\"\n",
    "ticker1 = yf.Ticker(symbol)\n",
    "df = ticker1.history(period=\"1d\", interval=\"15m\")\n",
    "df"
   ]
  },
  {
   "cell_type": "markdown",
   "id": "2b974883-632b-43cf-8f1b-9f3e4cededdd",
   "metadata": {},
   "source": [
    "## 前日終値の取得"
   ]
  },
  {
   "cell_type": "code",
   "execution_count": 15,
   "id": "cf79a23f-ac87-47e6-bd34-0746a65c86f9",
   "metadata": {},
   "outputs": [
    {
     "name": "stdout",
     "output_type": "stream",
     "text": [
      "Date\n",
      "2025-10-24 00:00:00+09:00    49299.648438\n",
      "2025-10-27 00:00:00+09:00    50512.320312\n",
      "2025-10-28 00:00:00+09:00    50219.179688\n",
      "2025-10-29 00:00:00+09:00    51307.648438\n",
      "2025-10-30 00:00:00+09:00    51325.609375\n",
      "2025-10-31 00:00:00+09:00    51932.269531\n",
      "Name: Close, dtype: float64\n"
     ]
    },
    {
     "data": {
      "text/plain": [
       "Date\n",
       "2025-10-30 00:00:00+09:00    51325.609375\n",
       "Name: Close, dtype: float64"
      ]
     },
     "execution_count": 15,
     "metadata": {},
     "output_type": "execute_result"
    }
   ],
   "source": [
    "# 過去一週間のデータを取得\n",
    "td = datetime.timedelta(days=7)\n",
    "dt_first = df.index[0]\n",
    "dt_prev = dt_first - td\n",
    "df_last = ticker1.history(interval=\"1d\", start=str(dt_prev.date()))\n",
    "print(df_last[\"Close\"])\n",
    "n = len(df_last)\n",
    "lastclose = df_last[n - 2 : n - 1][\"Close\"].iloc[0]\n",
    "# lastclose = 44902.27 # 9/16 終値\n",
    "# 確認のため出力\n",
    "df_last[n - 2 : n - 1][\"Close\"]"
   ]
  },
  {
   "cell_type": "markdown",
   "id": "e41961ad-e3e5-4055-a368-6295b0c73219",
   "metadata": {},
   "source": [
    "### 当日始値 - 前日終値"
   ]
  },
  {
   "cell_type": "code",
   "execution_count": 16,
   "id": "0acbf95b-3e5c-4df6-a7dc-c3e4f82578af",
   "metadata": {},
   "outputs": [
    {
     "name": "stdout",
     "output_type": "stream",
     "text": [
      "+304.19\n"
     ]
    }
   ],
   "source": [
    "delta_open = df.head(1)[\"Open\"].iloc[0] - lastclose\n",
    "print(f\"{delta_open:+.2f}\")"
   ]
  },
  {
   "cell_type": "markdown",
   "id": "432d492c-6e58-46b6-8004-044d4419c02c",
   "metadata": {},
   "source": [
    "## ローソク足チャート（小さいサイズ）"
   ]
  },
  {
   "cell_type": "code",
   "execution_count": 17,
   "id": "f4d0b7d0-b14a-4bfd-949a-c03ee4a578a0",
   "metadata": {},
   "outputs": [
    {
     "data": {
      "image/png": "[encoded data removed]",
      "text/plain": [
       "<Figure size 300x180 with 1 Axes>"
      ]
     },
     "metadata": {},
     "output_type": "display_data"
    }
   ],
   "source": [
    "FONT_PATH = \"../fonts/RictyDiminished-Regular.ttf\"\n",
    "fm.fontManager.addfont(FONT_PATH)\n",
    "\n",
    "# FontPropertiesオブジェクト生成（名前の取得のため）\n",
    "font_prop = fm.FontProperties(fname=FONT_PATH)\n",
    "font_prop.get_name()\n",
    "\n",
    "plt.rcParams[\"font.family\"] = font_prop.get_name()\n",
    "plt.rcParams[\"font.size\"] = 8\n",
    "\n",
    "fig, ax = plt.subplots(figsize=(3, 1.8))\n",
    "\n",
    "ax.axhline(y=lastclose, color=\"red\", linewidth=0.75)\n",
    "mpf.plot(\n",
    "    df,\n",
    "    type=\"candle\",\n",
    "    style=\"default\",\n",
    "    datetime_format=\"%H:%M\",\n",
    "    xrotation=0,\n",
    "    update_width_config=dict(candle_linewidth=0.75),\n",
    "    ax=ax,\n",
    ")\n",
    "ax.yaxis.set_major_formatter(ticker.StrMethodFormatter('{x:,.0f}'))\n",
    "ax.set_ylabel(\"JPY\")\n",
    "ax.grid()\n",
    "\n",
    "if \"shortName\" in ticker1.info:\n",
    "    ax.set_title(f\"{ticker1.info['shortName']} ({symbol})\")\n",
    "elif \"longName\" in ticker1.info:\n",
    "    ax.set_title(f\"{ticker1.info['longName']} ({symbol})\")\n",
    "else:\n",
    "    ax.set_title(f\"{symbol}\")\n",
    "\n",
    "plt.tight_layout()\n",
    "plt.savefig(get_name_15min_chart(code, dt_first))\n",
    "plt.show()"
   ]
  },
  {
   "cell_type": "markdown",
   "id": "975de5bc-90ff-4c41-898a-0aa329c7576a",
   "metadata": {},
   "source": [
    "## ドル円レートで換算"
   ]
  },
  {
   "cell_type": "code",
   "execution_count": 18,
   "id": "f18e1ab8-e1be-4684-a805-0584f61e0488",
   "metadata": {},
   "outputs": [],
   "source": [
    "code2 = \"USDJPY=X\"\n",
    "symbol2 = code2\n",
    "ticker2 = yf.Ticker(symbol2)"
   ]
  },
  {
   "cell_type": "markdown",
   "id": "3d3c79b6-f705-4109-9b86-21f6c073df78",
   "metadata": {},
   "source": [
    "### 過去２日分のドル円レートの過去データを取得"
   ]
  },
  {
   "cell_type": "code",
   "execution_count": 19,
   "id": "da50dc67-a62c-4db4-9e26-71abcd1ab12d",
   "metadata": {},
   "outputs": [
    {
     "data": {
      "text/html": [
       "<div>\n",
       "<style scoped>\n",
       "    .dataframe tbody tr th:only-of-type {\n",
       "        vertical-align: middle;\n",
       "    }\n",
       "\n",
       "    .dataframe tbody tr th {\n",
       "        vertical-align: top;\n",
       "    }\n",
       "\n",
       "    .dataframe thead th {\n",
       "        text-align: right;\n",
       "    }\n",
       "</style>\n",
       "<table border=\"1\" class=\"dataframe\">\n",
       "  <thead>\n",
       "    <tr style=\"text-align: right;\">\n",
       "      <th></th>\n",
       "      <th>Open</th>\n",
       "      <th>High</th>\n",
       "      <th>Low</th>\n",
       "      <th>Close</th>\n",
       "      <th>Volume</th>\n",
       "      <th>Dividends</th>\n",
       "      <th>Stock Splits</th>\n",
       "    </tr>\n",
       "    <tr>\n",
       "      <th>Datetime</th>\n",
       "      <th></th>\n",
       "      <th></th>\n",
       "      <th></th>\n",
       "      <th></th>\n",
       "      <th></th>\n",
       "      <th></th>\n",
       "      <th></th>\n",
       "    </tr>\n",
       "  </thead>\n",
       "  <tbody>\n",
       "    <tr>\n",
       "      <th>2025-10-30 09:00:00+09:00</th>\n",
       "      <td>152.718994</td>\n",
       "      <td>152.945999</td>\n",
       "      <td>152.682007</td>\n",
       "      <td>152.722000</td>\n",
       "      <td>0</td>\n",
       "      <td>0.0</td>\n",
       "      <td>0.0</td>\n",
       "    </tr>\n",
       "    <tr>\n",
       "      <th>2025-10-30 09:15:00+09:00</th>\n",
       "      <td>152.716995</td>\n",
       "      <td>152.744003</td>\n",
       "      <td>152.498001</td>\n",
       "      <td>152.511993</td>\n",
       "      <td>0</td>\n",
       "      <td>0.0</td>\n",
       "      <td>0.0</td>\n",
       "    </tr>\n",
       "    <tr>\n",
       "      <th>2025-10-30 09:30:00+09:00</th>\n",
       "      <td>152.514008</td>\n",
       "      <td>152.718002</td>\n",
       "      <td>152.511993</td>\n",
       "      <td>152.604004</td>\n",
       "      <td>0</td>\n",
       "      <td>0.0</td>\n",
       "      <td>0.0</td>\n",
       "    </tr>\n",
       "    <tr>\n",
       "      <th>2025-10-30 09:45:00+09:00</th>\n",
       "      <td>152.602997</td>\n",
       "      <td>152.742996</td>\n",
       "      <td>152.518005</td>\n",
       "      <td>152.626999</td>\n",
       "      <td>0</td>\n",
       "      <td>0.0</td>\n",
       "      <td>0.0</td>\n",
       "    </tr>\n",
       "    <tr>\n",
       "      <th>2025-10-30 10:00:00+09:00</th>\n",
       "      <td>152.626999</td>\n",
       "      <td>152.679001</td>\n",
       "      <td>152.462997</td>\n",
       "      <td>152.580994</td>\n",
       "      <td>0</td>\n",
       "      <td>0.0</td>\n",
       "      <td>0.0</td>\n",
       "    </tr>\n",
       "    <tr>\n",
       "      <th>...</th>\n",
       "      <td>...</td>\n",
       "      <td>...</td>\n",
       "      <td>...</td>\n",
       "      <td>...</td>\n",
       "      <td>...</td>\n",
       "      <td>...</td>\n",
       "      <td>...</td>\n",
       "    </tr>\n",
       "    <tr>\n",
       "      <th>2025-10-31 10:15:00+09:00</th>\n",
       "      <td>153.759003</td>\n",
       "      <td>153.768005</td>\n",
       "      <td>153.645004</td>\n",
       "      <td>153.699005</td>\n",
       "      <td>0</td>\n",
       "      <td>0.0</td>\n",
       "      <td>0.0</td>\n",
       "    </tr>\n",
       "    <tr>\n",
       "      <th>2025-10-31 10:30:00+09:00</th>\n",
       "      <td>153.703995</td>\n",
       "      <td>153.781006</td>\n",
       "      <td>153.647995</td>\n",
       "      <td>153.656006</td>\n",
       "      <td>0</td>\n",
       "      <td>0.0</td>\n",
       "      <td>0.0</td>\n",
       "    </tr>\n",
       "    <tr>\n",
       "      <th>2025-10-31 10:45:00+09:00</th>\n",
       "      <td>153.662003</td>\n",
       "      <td>153.843994</td>\n",
       "      <td>153.654007</td>\n",
       "      <td>153.830002</td>\n",
       "      <td>0</td>\n",
       "      <td>0.0</td>\n",
       "      <td>0.0</td>\n",
       "    </tr>\n",
       "    <tr>\n",
       "      <th>2025-10-31 11:00:00+09:00</th>\n",
       "      <td>153.828995</td>\n",
       "      <td>153.880005</td>\n",
       "      <td>153.794006</td>\n",
       "      <td>153.806000</td>\n",
       "      <td>0</td>\n",
       "      <td>0.0</td>\n",
       "      <td>0.0</td>\n",
       "    </tr>\n",
       "    <tr>\n",
       "      <th>2025-10-31 11:15:00+09:00</th>\n",
       "      <td>153.806000</td>\n",
       "      <td>153.819000</td>\n",
       "      <td>153.753998</td>\n",
       "      <td>153.759995</td>\n",
       "      <td>0</td>\n",
       "      <td>0.0</td>\n",
       "      <td>0.0</td>\n",
       "    </tr>\n",
       "  </tbody>\n",
       "</table>\n",
       "<p>100 rows × 7 columns</p>\n",
       "</div>"
      ],
      "text/plain": [
       "                                 Open        High         Low       Close  \\\n",
       "Datetime                                                                    \n",
       "2025-10-30 09:00:00+09:00  152.718994  152.945999  152.682007  152.722000   \n",
       "2025-10-30 09:15:00+09:00  152.716995  152.744003  152.498001  152.511993   \n",
       "2025-10-30 09:30:00+09:00  152.514008  152.718002  152.511993  152.604004   \n",
       "2025-10-30 09:45:00+09:00  152.602997  152.742996  152.518005  152.626999   \n",
       "2025-10-30 10:00:00+09:00  152.626999  152.679001  152.462997  152.580994   \n",
       "...                               ...         ...         ...         ...   \n",
       "2025-10-31 10:15:00+09:00  153.759003  153.768005  153.645004  153.699005   \n",
       "2025-10-31 10:30:00+09:00  153.703995  153.781006  153.647995  153.656006   \n",
       "2025-10-31 10:45:00+09:00  153.662003  153.843994  153.654007  153.830002   \n",
       "2025-10-31 11:00:00+09:00  153.828995  153.880005  153.794006  153.806000   \n",
       "2025-10-31 11:15:00+09:00  153.806000  153.819000  153.753998  153.759995   \n",
       "\n",
       "                           Volume  Dividends  Stock Splits  \n",
       "Datetime                                                    \n",
       "2025-10-30 09:00:00+09:00       0        0.0           0.0  \n",
       "2025-10-30 09:15:00+09:00       0        0.0           0.0  \n",
       "2025-10-30 09:30:00+09:00       0        0.0           0.0  \n",
       "2025-10-30 09:45:00+09:00       0        0.0           0.0  \n",
       "2025-10-30 10:00:00+09:00       0        0.0           0.0  \n",
       "...                           ...        ...           ...  \n",
       "2025-10-31 10:15:00+09:00       0        0.0           0.0  \n",
       "2025-10-31 10:30:00+09:00       0        0.0           0.0  \n",
       "2025-10-31 10:45:00+09:00       0        0.0           0.0  \n",
       "2025-10-31 11:00:00+09:00       0        0.0           0.0  \n",
       "2025-10-31 11:15:00+09:00       0        0.0           0.0  \n",
       "\n",
       "[100 rows x 7 columns]"
      ]
     },
     "execution_count": 19,
     "metadata": {},
     "output_type": "execute_result"
    }
   ],
   "source": [
    "# 15分足で過去 2 日分のデータを取得\n",
    "df_exchange = ticker2.history(period=\"2d\", interval=\"15m\")\n",
    "df_exchange.index = df_exchange.index.tz_convert(\"Asia/Tokyo\")\n",
    "df_exchange"
   ]
  },
  {
   "cell_type": "markdown",
   "id": "3bdb0d3e-7c5b-4d00-8ef6-a79d243141ce",
   "metadata": {},
   "source": [
    "### 15分足の Close のドル円レートで一括割る"
   ]
  },
  {
   "cell_type": "code",
   "execution_count": 20,
   "id": "f78f11ba-0261-41ae-b3fa-fdc3d7c2caff",
   "metadata": {},
   "outputs": [
    {
     "data": {
      "text/html": [
       "<div>\n",
       "<style scoped>\n",
       "    .dataframe tbody tr th:only-of-type {\n",
       "        vertical-align: middle;\n",
       "    }\n",
       "\n",
       "    .dataframe tbody tr th {\n",
       "        vertical-align: top;\n",
       "    }\n",
       "\n",
       "    .dataframe thead th {\n",
       "        text-align: right;\n",
       "    }\n",
       "</style>\n",
       "<table border=\"1\" class=\"dataframe\">\n",
       "  <thead>\n",
       "    <tr style=\"text-align: right;\">\n",
       "      <th></th>\n",
       "      <th>Open</th>\n",
       "      <th>High</th>\n",
       "      <th>Low</th>\n",
       "      <th>Close</th>\n",
       "    </tr>\n",
       "    <tr>\n",
       "      <th>Datetime</th>\n",
       "      <th></th>\n",
       "      <th></th>\n",
       "      <th></th>\n",
       "      <th></th>\n",
       "    </tr>\n",
       "  </thead>\n",
       "  <tbody>\n",
       "    <tr>\n",
       "      <th>2025-10-31 09:00:00+09:00</th>\n",
       "      <td>335.445770</td>\n",
       "      <td>337.162968</td>\n",
       "      <td>335.336816</td>\n",
       "      <td>337.162968</td>\n",
       "    </tr>\n",
       "    <tr>\n",
       "      <th>2025-10-31 09:15:00+09:00</th>\n",
       "      <td>336.950522</td>\n",
       "      <td>339.493716</td>\n",
       "      <td>336.722973</td>\n",
       "      <td>339.260459</td>\n",
       "    </tr>\n",
       "    <tr>\n",
       "      <th>2025-10-31 09:30:00+09:00</th>\n",
       "      <td>339.339922</td>\n",
       "      <td>339.599027</td>\n",
       "      <td>338.872736</td>\n",
       "      <td>339.181240</td>\n",
       "    </tr>\n",
       "    <tr>\n",
       "      <th>2025-10-31 09:45:00+09:00</th>\n",
       "      <td>339.144389</td>\n",
       "      <td>340.440744</td>\n",
       "      <td>339.033465</td>\n",
       "      <td>339.033465</td>\n",
       "    </tr>\n",
       "    <tr>\n",
       "      <th>2025-10-31 10:00:00+09:00</th>\n",
       "      <td>339.330842</td>\n",
       "      <td>339.657906</td>\n",
       "      <td>338.081398</td>\n",
       "      <td>338.657889</td>\n",
       "    </tr>\n",
       "    <tr>\n",
       "      <th>2025-10-31 10:15:00+09:00</th>\n",
       "      <td>338.726066</td>\n",
       "      <td>338.924963</td>\n",
       "      <td>337.774328</td>\n",
       "      <td>338.490927</td>\n",
       "    </tr>\n",
       "    <tr>\n",
       "      <th>2025-10-31 10:30:00+09:00</th>\n",
       "      <td>338.573957</td>\n",
       "      <td>339.027028</td>\n",
       "      <td>336.708487</td>\n",
       "      <td>336.708487</td>\n",
       "    </tr>\n",
       "    <tr>\n",
       "      <th>2025-10-31 10:45:00+09:00</th>\n",
       "      <td>336.427993</td>\n",
       "      <td>337.765788</td>\n",
       "      <td>336.056540</td>\n",
       "      <td>337.707281</td>\n",
       "    </tr>\n",
       "    <tr>\n",
       "      <th>2025-10-31 11:00:00+09:00</th>\n",
       "      <td>337.742534</td>\n",
       "      <td>337.874727</td>\n",
       "      <td>337.263186</td>\n",
       "      <td>337.647879</td>\n",
       "    </tr>\n",
       "  </tbody>\n",
       "</table>\n",
       "</div>"
      ],
      "text/plain": [
       "                                 Open        High         Low       Close\n",
       "Datetime                                                                 \n",
       "2025-10-31 09:00:00+09:00  335.445770  337.162968  335.336816  337.162968\n",
       "2025-10-31 09:15:00+09:00  336.950522  339.493716  336.722973  339.260459\n",
       "2025-10-31 09:30:00+09:00  339.339922  339.599027  338.872736  339.181240\n",
       "2025-10-31 09:45:00+09:00  339.144389  340.440744  339.033465  339.033465\n",
       "2025-10-31 10:00:00+09:00  339.330842  339.657906  338.081398  338.657889\n",
       "2025-10-31 10:15:00+09:00  338.726066  338.924963  337.774328  338.490927\n",
       "2025-10-31 10:30:00+09:00  338.573957  339.027028  336.708487  336.708487\n",
       "2025-10-31 10:45:00+09:00  336.427993  337.765788  336.056540  337.707281\n",
       "2025-10-31 11:00:00+09:00  337.742534  337.874727  337.263186  337.647879"
      ]
     },
     "execution_count": 20,
     "metadata": {},
     "output_type": "execute_result"
    }
   ],
   "source": [
    "ser_rate = df_exchange.loc[df.index, \"Close\"]\n",
    "ser_rate\n",
    "df2 = pd.DataFrame()\n",
    "df2[\"Open\"] = df[\"Open\"] / ser_rate\n",
    "df2[\"High\"] = df[\"High\"] / ser_rate\n",
    "df2[\"Low\"] = df[\"Low\"] / ser_rate\n",
    "df2[\"Close\"] = df[\"Close\"] / ser_rate\n",
    "df2"
   ]
  },
  {
   "cell_type": "markdown",
   "id": "3c20e929-430e-4b75-9b16-23408c6e40cd",
   "metadata": {},
   "source": [
    "### 前日の終値のドル円レートから、前日の終値のドル換算"
   ]
  },
  {
   "cell_type": "code",
   "execution_count": 21,
   "id": "38669de5-6f50-44b1-ad01-33a722573c02",
   "metadata": {},
   "outputs": [
    {
     "name": "stdout",
     "output_type": "stream",
     "text": [
      "2025-10-30 15:15:00+09:00\n"
     ]
    },
    {
     "data": {
      "text/plain": [
       "np.float64(153.04400634765625)"
      ]
     },
     "execution_count": 21,
     "metadata": {},
     "output_type": "execute_result"
    }
   ],
   "source": [
    "dt = df_exchange.head(1).index[0]\n",
    "dt_last_close = pd.to_datetime(f\"{str(dt.date())} 15:15:00+09:00\")\n",
    "print(dt_last_close)\n",
    "last_close_usd = df_exchange.loc[dt_last_close, \"Close\"]\n",
    "last_close_usd"
   ]
  },
  {
   "cell_type": "markdown",
   "id": "7bd6776f-5a42-4d76-8ad5-a8de55eebc09",
   "metadata": {},
   "source": [
    "## ローソク足チャート（小さいサイズ）/ ドル換算チャート"
   ]
  },
  {
   "cell_type": "code",
   "execution_count": 22,
   "id": "67fd86b9-2b36-4dee-aac2-157c7d5db22a",
   "metadata": {},
   "outputs": [
    {
     "name": "stdout",
     "output_type": "stream",
     "text": [
      "前日終値（ドル換算） 335.36504042117303\n"
     ]
    },
    {
     "data": {
      "image/png": "[encoded data removed]",
      "text/plain": [
       "<Figure size 300x180 with 1 Axes>"
      ]
     },
     "metadata": {},
     "output_type": "display_data"
    }
   ],
   "source": [
    "FONT_PATH = \"../fonts/RictyDiminished-Regular.ttf\"\n",
    "fm.fontManager.addfont(FONT_PATH)\n",
    "\n",
    "# FontPropertiesオブジェクト生成（名前の取得のため）\n",
    "font_prop = fm.FontProperties(fname=FONT_PATH)\n",
    "font_prop.get_name()\n",
    "\n",
    "plt.rcParams[\"font.family\"] = font_prop.get_name()\n",
    "plt.rcParams[\"font.size\"] = 8\n",
    "\n",
    "fig, ax = plt.subplots(figsize=(3, 1.8))\n",
    "\n",
    "ax.axhline(y=lastclose / last_close_usd, color=\"red\", linewidth=0.75)\n",
    "print(\"前日終値（ドル換算）\", lastclose / last_close_usd)\n",
    "mpf.plot(\n",
    "    df2,\n",
    "    type=\"candle\",\n",
    "    style=\"default\",\n",
    "    datetime_format=\"%H:%M\",\n",
    "    xrotation=0,\n",
    "    update_width_config=dict(candle_linewidth=0.75),\n",
    "    ax=ax,\n",
    ")\n",
    "ax.yaxis.set_major_formatter(ticker.StrMethodFormatter('{x:,.2f}'))\n",
    "ax.set_ylabel(\"USD\")\n",
    "ax.grid()\n",
    "\n",
    "if \"shortName\" in ticker1.info:\n",
    "    ax.set_title(f\"{ticker1.info['shortName']} ({symbol}) in USD\")\n",
    "elif \"longName\" in ticker1.info:\n",
    "    ax.set_title(f\"{ticker1.info['longName']} ({symbol}) in USD\")\n",
    "else:\n",
    "    ax.set_title(f\"{symbol}\")\n",
    "\n",
    "plt.tight_layout()\n",
    "plt.savefig(get_name_15min_chart_usd(code, dt_first))\n",
    "plt.show()"
   ]
  },
  {
   "cell_type": "code",
   "execution_count": null,
   "id": "bf4fa924-9b95-4ff9-bd6f-c181ea967b4a",
   "metadata": {},
   "outputs": [],
   "source": []
  }
 ],
 "metadata": {
  "kernelspec": {
   "display_name": "Python 3 (ipykernel)",
   "language": "python",
   "name": "python3"
  },
  "language_info": {
   "codemirror_mode": {
    "name": "ipython",
    "version": 3
   },
   "file_extension": ".py",
   "mimetype": "text/x-python",
   "name": "python",
   "nbconvert_exporter": "python",
   "pygments_lexer": "ipython3",
   "version": "3.13.9"
  }
 },
 "nbformat": 4,
 "nbformat_minor": 5
}
